{
 "cells": [
  {
   "cell_type": "code",
   "execution_count": 2,
   "id": "58e22322",
   "metadata": {},
   "outputs": [],
   "source": [
    "import pandas as pd\n",
    "import numpy as np\n",
    "from sklearn.model_selection import train_test_split"
   ]
  },
  {
   "cell_type": "code",
   "execution_count": 5,
   "id": "a2bbe221",
   "metadata": {},
   "outputs": [
    {
     "name": "stdout",
     "output_type": "stream",
     "text": [
      "<class 'pandas.core.frame.DataFrame'>\n",
      "Index: 19164654 entries, 21101701 to 21969731\n",
      "Data columns (total 40 columns):\n",
      " #   Column                       Dtype  \n",
      "---  ------                       -----  \n",
      " 0   PROTOCOL                     int8   \n",
      " 1   L7_PROTO                     float32\n",
      " 2   IN_BYTES                     int32  \n",
      " 3   IN_PKTS                      int32  \n",
      " 4   OUT_BYTES                    int32  \n",
      " 5   OUT_PKTS                     int32  \n",
      " 6   TCP_FLAGS                    int16  \n",
      " 7   CLIENT_TCP_FLAGS             int16  \n",
      " 8   SERVER_TCP_FLAGS             int16  \n",
      " 9   FLOW_DURATION_MILLISECONDS   int32  \n",
      " 10  DURATION_IN                  int16  \n",
      " 11  DURATION_OUT                 int16  \n",
      " 12  MIN_TTL                      int16  \n",
      " 13  MAX_TTL                      int16  \n",
      " 14  LONGEST_FLOW_PKT             int32  \n",
      " 15  SHORTEST_FLOW_PKT            int16  \n",
      " 16  MIN_IP_PKT_LEN               int16  \n",
      " 17  MAX_IP_PKT_LEN               int32  \n",
      " 18  SRC_TO_DST_SECOND_BYTES      float32\n",
      " 19  DST_TO_SRC_SECOND_BYTES      float32\n",
      " 20  RETRANSMITTED_IN_BYTES       int32  \n",
      " 21  RETRANSMITTED_IN_PKTS        int16  \n",
      " 22  RETRANSMITTED_OUT_BYTES      int16  \n",
      " 23  RETRANSMITTED_OUT_PKTS       int8   \n",
      " 24  SRC_TO_DST_AVG_THROUGHPUT    int64  \n",
      " 25  DST_TO_SRC_AVG_THROUGHPUT    int64  \n",
      " 26  NUM_PKTS_UP_TO_128_BYTES     int16  \n",
      " 27  NUM_PKTS_128_TO_256_BYTES    int16  \n",
      " 28  NUM_PKTS_256_TO_512_BYTES    int16  \n",
      " 29  NUM_PKTS_512_TO_1024_BYTES   int32  \n",
      " 30  NUM_PKTS_1024_TO_1514_BYTES  int32  \n",
      " 31  TCP_WIN_MAX_IN               int32  \n",
      " 32  TCP_WIN_MAX_OUT              int32  \n",
      " 33  ICMP_TYPE                    int32  \n",
      " 34  ICMP_IPV4_TYPE               int16  \n",
      " 35  DNS_QUERY_ID                 int32  \n",
      " 36  DNS_QUERY_TYPE               int16  \n",
      " 37  DNS_TTL_ANSWER               int32  \n",
      " 38  FTP_COMMAND_RET_CODE         float32\n",
      " 39  Label                        int8   \n",
      "dtypes: float32(4), int16(16), int32(15), int64(2), int8(3)\n",
      "memory usage: 2.4 GB\n"
     ]
    }
   ],
   "source": [
    "df1 = pd.read_parquet('/home/administrator/dataset/NF-BoT-IoT/NF-BoT-IoT-V2_train.parquet', engine='pyarrow')\n",
    "\n",
    "df1.info()"
   ]
  },
  {
   "cell_type": "code",
   "execution_count": 6,
   "id": "5a7f42ed",
   "metadata": {},
   "outputs": [
    {
     "name": "stdout",
     "output_type": "stream",
     "text": [
      "<class 'pandas.core.frame.DataFrame'>\n",
      "Index: 2129406 entries, 22927015 to 14540359\n",
      "Data columns (total 40 columns):\n",
      " #   Column                       Dtype  \n",
      "---  ------                       -----  \n",
      " 0   PROTOCOL                     int8   \n",
      " 1   L7_PROTO                     float32\n",
      " 2   IN_BYTES                     int32  \n",
      " 3   IN_PKTS                      int32  \n",
      " 4   OUT_BYTES                    int32  \n",
      " 5   OUT_PKTS                     int32  \n",
      " 6   TCP_FLAGS                    int16  \n",
      " 7   CLIENT_TCP_FLAGS             int16  \n",
      " 8   SERVER_TCP_FLAGS             int16  \n",
      " 9   FLOW_DURATION_MILLISECONDS   int32  \n",
      " 10  DURATION_IN                  int16  \n",
      " 11  DURATION_OUT                 int16  \n",
      " 12  MIN_TTL                      int16  \n",
      " 13  MAX_TTL                      int16  \n",
      " 14  LONGEST_FLOW_PKT             int32  \n",
      " 15  SHORTEST_FLOW_PKT            int16  \n",
      " 16  MIN_IP_PKT_LEN               int16  \n",
      " 17  MAX_IP_PKT_LEN               int32  \n",
      " 18  SRC_TO_DST_SECOND_BYTES      float32\n",
      " 19  DST_TO_SRC_SECOND_BYTES      float32\n",
      " 20  RETRANSMITTED_IN_BYTES       int32  \n",
      " 21  RETRANSMITTED_IN_PKTS        int16  \n",
      " 22  RETRANSMITTED_OUT_BYTES      int16  \n",
      " 23  RETRANSMITTED_OUT_PKTS       int8   \n",
      " 24  SRC_TO_DST_AVG_THROUGHPUT    int64  \n",
      " 25  DST_TO_SRC_AVG_THROUGHPUT    int64  \n",
      " 26  NUM_PKTS_UP_TO_128_BYTES     int16  \n",
      " 27  NUM_PKTS_128_TO_256_BYTES    int16  \n",
      " 28  NUM_PKTS_256_TO_512_BYTES    int16  \n",
      " 29  NUM_PKTS_512_TO_1024_BYTES   int32  \n",
      " 30  NUM_PKTS_1024_TO_1514_BYTES  int32  \n",
      " 31  TCP_WIN_MAX_IN               int32  \n",
      " 32  TCP_WIN_MAX_OUT              int32  \n",
      " 33  ICMP_TYPE                    int32  \n",
      " 34  ICMP_IPV4_TYPE               int16  \n",
      " 35  DNS_QUERY_ID                 int32  \n",
      " 36  DNS_QUERY_TYPE               int16  \n",
      " 37  DNS_TTL_ANSWER               int32  \n",
      " 38  FTP_COMMAND_RET_CODE         float32\n",
      " 39  Label                        int8   \n",
      "dtypes: float32(4), int16(16), int32(15), int64(2), int8(3)\n",
      "memory usage: 274.2 MB\n"
     ]
    }
   ],
   "source": [
    "df3 = pd.read_parquet('/home/administrator/dataset/NF-BoT-IoT/NF-BoT-IoT-V2_sample.parquet', engine='pyarrow')\n",
    "\n",
    "df3.info()"
   ]
  },
  {
   "cell_type": "code",
   "execution_count": 7,
   "id": "2bc90375",
   "metadata": {},
   "outputs": [
    {
     "name": "stdout",
     "output_type": "stream",
     "text": [
      "<class 'pandas.core.frame.DataFrame'>\n",
      "Index: 912603 entries, 9733247 to 5551222\n",
      "Data columns (total 40 columns):\n",
      " #   Column                       Non-Null Count   Dtype  \n",
      "---  ------                       --------------   -----  \n",
      " 0   PROTOCOL                     912603 non-null  int8   \n",
      " 1   L7_PROTO                     912603 non-null  float32\n",
      " 2   IN_BYTES                     912603 non-null  int32  \n",
      " 3   IN_PKTS                      912603 non-null  int32  \n",
      " 4   OUT_BYTES                    912603 non-null  int32  \n",
      " 5   OUT_PKTS                     912603 non-null  int32  \n",
      " 6   TCP_FLAGS                    912603 non-null  int16  \n",
      " 7   CLIENT_TCP_FLAGS             912603 non-null  int16  \n",
      " 8   SERVER_TCP_FLAGS             912603 non-null  int16  \n",
      " 9   FLOW_DURATION_MILLISECONDS   912603 non-null  int32  \n",
      " 10  DURATION_IN                  912603 non-null  int16  \n",
      " 11  DURATION_OUT                 912603 non-null  int16  \n",
      " 12  MIN_TTL                      912603 non-null  int16  \n",
      " 13  MAX_TTL                      912603 non-null  int16  \n",
      " 14  LONGEST_FLOW_PKT             912603 non-null  int32  \n",
      " 15  SHORTEST_FLOW_PKT            912603 non-null  int16  \n",
      " 16  MIN_IP_PKT_LEN               912603 non-null  int16  \n",
      " 17  MAX_IP_PKT_LEN               912603 non-null  int32  \n",
      " 18  SRC_TO_DST_SECOND_BYTES      912603 non-null  float32\n",
      " 19  DST_TO_SRC_SECOND_BYTES      912603 non-null  float32\n",
      " 20  RETRANSMITTED_IN_BYTES       912603 non-null  int32  \n",
      " 21  RETRANSMITTED_IN_PKTS        912603 non-null  int16  \n",
      " 22  RETRANSMITTED_OUT_BYTES      912603 non-null  int16  \n",
      " 23  RETRANSMITTED_OUT_PKTS       912603 non-null  int8   \n",
      " 24  SRC_TO_DST_AVG_THROUGHPUT    912603 non-null  int64  \n",
      " 25  DST_TO_SRC_AVG_THROUGHPUT    912603 non-null  int64  \n",
      " 26  NUM_PKTS_UP_TO_128_BYTES     912603 non-null  int16  \n",
      " 27  NUM_PKTS_128_TO_256_BYTES    912603 non-null  int16  \n",
      " 28  NUM_PKTS_256_TO_512_BYTES    912603 non-null  int16  \n",
      " 29  NUM_PKTS_512_TO_1024_BYTES   912603 non-null  int32  \n",
      " 30  NUM_PKTS_1024_TO_1514_BYTES  912603 non-null  int32  \n",
      " 31  TCP_WIN_MAX_IN               912603 non-null  int32  \n",
      " 32  TCP_WIN_MAX_OUT              912603 non-null  int32  \n",
      " 33  ICMP_TYPE                    912603 non-null  int32  \n",
      " 34  ICMP_IPV4_TYPE               912603 non-null  int16  \n",
      " 35  DNS_QUERY_ID                 912603 non-null  int32  \n",
      " 36  DNS_QUERY_TYPE               912603 non-null  int16  \n",
      " 37  DNS_TTL_ANSWER               912603 non-null  int32  \n",
      " 38  FTP_COMMAND_RET_CODE         912603 non-null  float32\n",
      " 39  Label                        912603 non-null  int8   \n",
      "dtypes: float32(4), int16(16), int32(15), int64(2), int8(3)\n",
      "memory usage: 117.5 MB\n"
     ]
    }
   ],
   "source": [
    "df4 = pd.read_parquet('/home/administrator/dataset/NF-BoT-IoT/NF-BoT-IoT-V2_valid.parquet', engine='pyarrow')\n",
    "\n",
    "df4.info()"
   ]
  },
  {
   "cell_type": "code",
   "execution_count": 3,
   "id": "b31dff13",
   "metadata": {},
   "outputs": [
    {
     "name": "stdout",
     "output_type": "stream",
     "text": [
      "<class 'pandas.core.frame.DataFrame'>\n",
      "Index: 21294060 entries, 8897465 to 20415751\n",
      "Data columns (total 40 columns):\n",
      " #   Column                       Dtype  \n",
      "---  ------                       -----  \n",
      " 0   PROTOCOL                     int8   \n",
      " 1   L7_PROTO                     float32\n",
      " 2   IN_BYTES                     int32  \n",
      " 3   IN_PKTS                      int32  \n",
      " 4   OUT_BYTES                    int32  \n",
      " 5   OUT_PKTS                     int32  \n",
      " 6   TCP_FLAGS                    int16  \n",
      " 7   CLIENT_TCP_FLAGS             int16  \n",
      " 8   SERVER_TCP_FLAGS             int16  \n",
      " 9   FLOW_DURATION_MILLISECONDS   int32  \n",
      " 10  DURATION_IN                  int16  \n",
      " 11  DURATION_OUT                 int16  \n",
      " 12  MIN_TTL                      int16  \n",
      " 13  MAX_TTL                      int16  \n",
      " 14  LONGEST_FLOW_PKT             int32  \n",
      " 15  SHORTEST_FLOW_PKT            int16  \n",
      " 16  MIN_IP_PKT_LEN               int16  \n",
      " 17  MAX_IP_PKT_LEN               int32  \n",
      " 18  SRC_TO_DST_SECOND_BYTES      float32\n",
      " 19  DST_TO_SRC_SECOND_BYTES      float32\n",
      " 20  RETRANSMITTED_IN_BYTES       int32  \n",
      " 21  RETRANSMITTED_IN_PKTS        int16  \n",
      " 22  RETRANSMITTED_OUT_BYTES      int16  \n",
      " 23  RETRANSMITTED_OUT_PKTS       int8   \n",
      " 24  SRC_TO_DST_AVG_THROUGHPUT    int64  \n",
      " 25  DST_TO_SRC_AVG_THROUGHPUT    int64  \n",
      " 26  NUM_PKTS_UP_TO_128_BYTES     int16  \n",
      " 27  NUM_PKTS_128_TO_256_BYTES    int16  \n",
      " 28  NUM_PKTS_256_TO_512_BYTES    int16  \n",
      " 29  NUM_PKTS_512_TO_1024_BYTES   int32  \n",
      " 30  NUM_PKTS_1024_TO_1514_BYTES  int32  \n",
      " 31  TCP_WIN_MAX_IN               int32  \n",
      " 32  TCP_WIN_MAX_OUT              int32  \n",
      " 33  ICMP_TYPE                    int32  \n",
      " 34  ICMP_IPV4_TYPE               int16  \n",
      " 35  DNS_QUERY_ID                 int32  \n",
      " 36  DNS_QUERY_TYPE               int16  \n",
      " 37  DNS_TTL_ANSWER               int32  \n",
      " 38  FTP_COMMAND_RET_CODE         float32\n",
      " 39  Label                        int8   \n",
      "dtypes: float32(4), int16(16), int32(15), int64(2), int8(3)\n",
      "memory usage: 2.7 GB\n"
     ]
    }
   ],
   "source": [
    "df1 = df1.drop(df1.columns[[0, 1]], axis=1)\n",
    "\n",
    "df1.info()"
   ]
  },
  {
   "cell_type": "code",
   "execution_count": 4,
   "id": "ecac3f48",
   "metadata": {},
   "outputs": [],
   "source": [
    "train, sample = train_test_split(df1, test_size=0.1, random_state=100)"
   ]
  },
  {
   "cell_type": "code",
   "execution_count": 5,
   "id": "97979c2f",
   "metadata": {},
   "outputs": [],
   "source": [
    "train.to_parquet(f\"/home/administrator/dataset/NF-BoT-IoT/NF-BoT-IoT-V2_train.parquet\")"
   ]
  },
  {
   "cell_type": "code",
   "execution_count": 6,
   "id": "2759b381",
   "metadata": {},
   "outputs": [],
   "source": [
    "sample.to_parquet(f\"/home/administrator/dataset/NF-BoT-IoT/NF-BoT-IoT-V2_sample.parquet\")"
   ]
  },
  {
   "cell_type": "code",
   "execution_count": 8,
   "id": "ae596a13",
   "metadata": {},
   "outputs": [
    {
     "name": "stdout",
     "output_type": "stream",
     "text": [
      "<class 'pandas.core.frame.DataFrame'>\n",
      "Index: 8213423 entries, 4170906 to 8662608\n",
      "Data columns (total 40 columns):\n",
      " #   Column                       Dtype  \n",
      "---  ------                       -----  \n",
      " 0   PROTOCOL                     int8   \n",
      " 1   L7_PROTO                     float32\n",
      " 2   IN_BYTES                     int32  \n",
      " 3   IN_PKTS                      int32  \n",
      " 4   OUT_BYTES                    int32  \n",
      " 5   OUT_PKTS                     int32  \n",
      " 6   TCP_FLAGS                    int16  \n",
      " 7   CLIENT_TCP_FLAGS             int16  \n",
      " 8   SERVER_TCP_FLAGS             int16  \n",
      " 9   FLOW_DURATION_MILLISECONDS   int32  \n",
      " 10  DURATION_IN                  int16  \n",
      " 11  DURATION_OUT                 int16  \n",
      " 12  MIN_TTL                      int16  \n",
      " 13  MAX_TTL                      int16  \n",
      " 14  LONGEST_FLOW_PKT             int32  \n",
      " 15  SHORTEST_FLOW_PKT            int16  \n",
      " 16  MIN_IP_PKT_LEN               int16  \n",
      " 17  MAX_IP_PKT_LEN               int32  \n",
      " 18  SRC_TO_DST_SECOND_BYTES      float32\n",
      " 19  DST_TO_SRC_SECOND_BYTES      float32\n",
      " 20  RETRANSMITTED_IN_BYTES       int32  \n",
      " 21  RETRANSMITTED_IN_PKTS        int16  \n",
      " 22  RETRANSMITTED_OUT_BYTES      int16  \n",
      " 23  RETRANSMITTED_OUT_PKTS       int8   \n",
      " 24  SRC_TO_DST_AVG_THROUGHPUT    int64  \n",
      " 25  DST_TO_SRC_AVG_THROUGHPUT    int64  \n",
      " 26  NUM_PKTS_UP_TO_128_BYTES     int16  \n",
      " 27  NUM_PKTS_128_TO_256_BYTES    int16  \n",
      " 28  NUM_PKTS_256_TO_512_BYTES    int16  \n",
      " 29  NUM_PKTS_512_TO_1024_BYTES   int32  \n",
      " 30  NUM_PKTS_1024_TO_1514_BYTES  int32  \n",
      " 31  TCP_WIN_MAX_IN               int32  \n",
      " 32  TCP_WIN_MAX_OUT              int32  \n",
      " 33  ICMP_TYPE                    int32  \n",
      " 34  ICMP_IPV4_TYPE               int16  \n",
      " 35  DNS_QUERY_ID                 int32  \n",
      " 36  DNS_QUERY_TYPE               int16  \n",
      " 37  DNS_TTL_ANSWER               int32  \n",
      " 38  FTP_COMMAND_RET_CODE         float32\n",
      " 39  Label                        int8   \n",
      "dtypes: float32(4), int16(16), int32(15), int64(2), int8(3)\n",
      "memory usage: 1.0 GB\n"
     ]
    }
   ],
   "source": [
    "df2 = pd.read_parquet('/home/administrator/dataset/NF-BoT-IoT/NF-BoT-IoT-V2_test.parquet', engine='pyarrow')\n",
    "\n",
    "df2.info()"
   ]
  },
  {
   "cell_type": "code",
   "execution_count": 8,
   "id": "68056d6e",
   "metadata": {},
   "outputs": [
    {
     "name": "stdout",
     "output_type": "stream",
     "text": [
      "<class 'pandas.core.frame.DataFrame'>\n",
      "Index: 9126026 entries, 3798584 to 10661159\n",
      "Data columns (total 40 columns):\n",
      " #   Column                       Dtype  \n",
      "---  ------                       -----  \n",
      " 0   PROTOCOL                     int8   \n",
      " 1   L7_PROTO                     float32\n",
      " 2   IN_BYTES                     int32  \n",
      " 3   IN_PKTS                      int32  \n",
      " 4   OUT_BYTES                    int32  \n",
      " 5   OUT_PKTS                     int32  \n",
      " 6   TCP_FLAGS                    int16  \n",
      " 7   CLIENT_TCP_FLAGS             int16  \n",
      " 8   SERVER_TCP_FLAGS             int16  \n",
      " 9   FLOW_DURATION_MILLISECONDS   int32  \n",
      " 10  DURATION_IN                  int16  \n",
      " 11  DURATION_OUT                 int16  \n",
      " 12  MIN_TTL                      int16  \n",
      " 13  MAX_TTL                      int16  \n",
      " 14  LONGEST_FLOW_PKT             int32  \n",
      " 15  SHORTEST_FLOW_PKT            int16  \n",
      " 16  MIN_IP_PKT_LEN               int16  \n",
      " 17  MAX_IP_PKT_LEN               int32  \n",
      " 18  SRC_TO_DST_SECOND_BYTES      float32\n",
      " 19  DST_TO_SRC_SECOND_BYTES      float32\n",
      " 20  RETRANSMITTED_IN_BYTES       int32  \n",
      " 21  RETRANSMITTED_IN_PKTS        int16  \n",
      " 22  RETRANSMITTED_OUT_BYTES      int16  \n",
      " 23  RETRANSMITTED_OUT_PKTS       int8   \n",
      " 24  SRC_TO_DST_AVG_THROUGHPUT    int64  \n",
      " 25  DST_TO_SRC_AVG_THROUGHPUT    int64  \n",
      " 26  NUM_PKTS_UP_TO_128_BYTES     int16  \n",
      " 27  NUM_PKTS_128_TO_256_BYTES    int16  \n",
      " 28  NUM_PKTS_256_TO_512_BYTES    int16  \n",
      " 29  NUM_PKTS_512_TO_1024_BYTES   int32  \n",
      " 30  NUM_PKTS_1024_TO_1514_BYTES  int32  \n",
      " 31  TCP_WIN_MAX_IN               int32  \n",
      " 32  TCP_WIN_MAX_OUT              int32  \n",
      " 33  ICMP_TYPE                    int32  \n",
      " 34  ICMP_IPV4_TYPE               int16  \n",
      " 35  DNS_QUERY_ID                 int32  \n",
      " 36  DNS_QUERY_TYPE               int16  \n",
      " 37  DNS_TTL_ANSWER               int32  \n",
      " 38  FTP_COMMAND_RET_CODE         float32\n",
      " 39  Label                        int8   \n",
      "dtypes: float32(4), int16(16), int32(15), int64(2), int8(3)\n",
      "memory usage: 1.1 GB\n"
     ]
    }
   ],
   "source": [
    "df2 = df2.drop(df2.columns[[0, 1]], axis=1)\n",
    "\n",
    "df2.info()"
   ]
  },
  {
   "cell_type": "code",
   "execution_count": 9,
   "id": "7b3631cd",
   "metadata": {},
   "outputs": [],
   "source": [
    "test, valid = train_test_split(df2, test_size=0.1, random_state=100)"
   ]
  },
  {
   "cell_type": "code",
   "execution_count": 10,
   "id": "7aa1c8b4",
   "metadata": {},
   "outputs": [],
   "source": [
    "test.to_parquet(f\"/home/administrator/dataset/NF-BoT-IoT/NF-BoT-IoT-V2_test.parquet\")"
   ]
  },
  {
   "cell_type": "code",
   "execution_count": 11,
   "id": "e70efe49",
   "metadata": {},
   "outputs": [],
   "source": [
    "valid.to_parquet(f\"/home/administrator/dataset/NF-BoT-IoT/NF-BoT-IoT-V2_valid.parquet\")"
   ]
  },
  {
   "cell_type": "code",
   "execution_count": 3,
   "id": "d8616d49",
   "metadata": {},
   "outputs": [
    {
     "name": "stdout",
     "output_type": "stream",
     "text": [
      "<class 'pandas.core.frame.DataFrame'>\n",
      "RangeIndex: 30420086 entries, 0 to 30420085\n",
      "Data columns (total 43 columns):\n",
      " #   Column                       Dtype  \n",
      "---  ------                       -----  \n",
      " 0   L4_SRC_PORT                  int16  \n",
      " 1   L4_DST_PORT                  int16  \n",
      " 2   PROTOCOL                     int8   \n",
      " 3   L7_PROTO                     float32\n",
      " 4   IN_BYTES                     int32  \n",
      " 5   IN_PKTS                      int32  \n",
      " 6   OUT_BYTES                    int32  \n",
      " 7   OUT_PKTS                     int32  \n",
      " 8   TCP_FLAGS                    int16  \n",
      " 9   CLIENT_TCP_FLAGS             int16  \n",
      " 10  SERVER_TCP_FLAGS             int16  \n",
      " 11  FLOW_DURATION_MILLISECONDS   int32  \n",
      " 12  DURATION_IN                  int16  \n",
      " 13  DURATION_OUT                 int16  \n",
      " 14  MIN_TTL                      int16  \n",
      " 15  MAX_TTL                      int16  \n",
      " 16  LONGEST_FLOW_PKT             int32  \n",
      " 17  SHORTEST_FLOW_PKT            int16  \n",
      " 18  MIN_IP_PKT_LEN               int16  \n",
      " 19  MAX_IP_PKT_LEN               int32  \n",
      " 20  SRC_TO_DST_SECOND_BYTES      float32\n",
      " 21  DST_TO_SRC_SECOND_BYTES      float32\n",
      " 22  RETRANSMITTED_IN_BYTES       int32  \n",
      " 23  RETRANSMITTED_IN_PKTS        int16  \n",
      " 24  RETRANSMITTED_OUT_BYTES      int16  \n",
      " 25  RETRANSMITTED_OUT_PKTS       int8   \n",
      " 26  SRC_TO_DST_AVG_THROUGHPUT    int64  \n",
      " 27  DST_TO_SRC_AVG_THROUGHPUT    int64  \n",
      " 28  NUM_PKTS_UP_TO_128_BYTES     int16  \n",
      " 29  NUM_PKTS_128_TO_256_BYTES    int16  \n",
      " 30  NUM_PKTS_256_TO_512_BYTES    int16  \n",
      " 31  NUM_PKTS_512_TO_1024_BYTES   int32  \n",
      " 32  NUM_PKTS_1024_TO_1514_BYTES  int32  \n",
      " 33  TCP_WIN_MAX_IN               int32  \n",
      " 34  TCP_WIN_MAX_OUT              int32  \n",
      " 35  ICMP_TYPE                    int32  \n",
      " 36  ICMP_IPV4_TYPE               int16  \n",
      " 37  DNS_QUERY_ID                 int32  \n",
      " 38  DNS_QUERY_TYPE               int16  \n",
      " 39  DNS_TTL_ANSWER               int32  \n",
      " 40  FTP_COMMAND_RET_CODE         float32\n",
      " 41  Label                        int8   \n",
      " 42  Attack                       object \n",
      "dtypes: float32(4), int16(18), int32(15), int64(2), int8(3), object(1)\n",
      "memory usage: 3.9+ GB\n"
     ]
    }
   ],
   "source": [
    "df = pd.read_parquet('/home/administrator/dataset/NF-BoT-IoT/NF-BoT-IoT-V2.parquet', engine='pyarrow')\n",
    "\n",
    "df.info()"
   ]
  },
  {
   "cell_type": "code",
   "execution_count": 4,
   "id": "b849064c",
   "metadata": {},
   "outputs": [
    {
     "data": {
      "text/plain": [
       "Label\n",
       "1    30290649\n",
       "0      129437\n",
       "Name: count, dtype: int64"
      ]
     },
     "execution_count": 4,
     "metadata": {},
     "output_type": "execute_result"
    }
   ],
   "source": [
    "df['Label'].value_counts()"
   ]
  },
  {
   "cell_type": "code",
   "execution_count": null,
   "id": "061750a0",
   "metadata": {},
   "outputs": [],
   "source": []
  }
 ],
 "metadata": {
  "kernelspec": {
   "display_name": "Python 3 (ipykernel)",
   "language": "python",
   "name": "python3"
  },
  "language_info": {
   "codemirror_mode": {
    "name": "ipython",
    "version": 3
   },
   "file_extension": ".py",
   "mimetype": "text/x-python",
   "name": "python",
   "nbconvert_exporter": "python",
   "pygments_lexer": "ipython3",
   "version": "3.10.12"
  }
 },
 "nbformat": 4,
 "nbformat_minor": 5
}
