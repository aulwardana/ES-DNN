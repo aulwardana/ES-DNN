{
 "cells": [
  {
   "cell_type": "code",
   "execution_count": 2,
   "id": "58e22322",
   "metadata": {},
   "outputs": [],
   "source": [
    "import pandas as pd\n",
    "import numpy as np\n",
    "from sklearn.model_selection import train_test_split"
   ]
  },
  {
   "cell_type": "code",
   "execution_count": 5,
   "id": "a2bbe221",
   "metadata": {},
   "outputs": [
    {
     "name": "stdout",
     "output_type": "stream",
     "text": [
      "<class 'pandas.core.frame.DataFrame'>\n",
      "Index: 10791720 entries, 2801005 to 128845\n",
      "Data columns (total 40 columns):\n",
      " #   Column                       Dtype  \n",
      "---  ------                       -----  \n",
      " 0   PROTOCOL                     int8   \n",
      " 1   L7_PROTO                     float32\n",
      " 2   IN_BYTES                     int32  \n",
      " 3   IN_PKTS                      int32  \n",
      " 4   OUT_BYTES                    int32  \n",
      " 5   OUT_PKTS                     int32  \n",
      " 6   TCP_FLAGS                    int16  \n",
      " 7   CLIENT_TCP_FLAGS             int16  \n",
      " 8   SERVER_TCP_FLAGS             int16  \n",
      " 9   FLOW_DURATION_MILLISECONDS   int32  \n",
      " 10  DURATION_IN                  int32  \n",
      " 11  DURATION_OUT                 int32  \n",
      " 12  MIN_TTL                      int16  \n",
      " 13  MAX_TTL                      int16  \n",
      " 14  LONGEST_FLOW_PKT             int32  \n",
      " 15  SHORTEST_FLOW_PKT            int16  \n",
      " 16  MIN_IP_PKT_LEN               int16  \n",
      " 17  MAX_IP_PKT_LEN               int32  \n",
      " 18  SRC_TO_DST_SECOND_BYTES      float64\n",
      " 19  DST_TO_SRC_SECOND_BYTES      float64\n",
      " 20  RETRANSMITTED_IN_BYTES       int32  \n",
      " 21  RETRANSMITTED_IN_PKTS        int16  \n",
      " 22  RETRANSMITTED_OUT_BYTES      int32  \n",
      " 23  RETRANSMITTED_OUT_PKTS       int16  \n",
      " 24  SRC_TO_DST_AVG_THROUGHPUT    int64  \n",
      " 25  DST_TO_SRC_AVG_THROUGHPUT    int64  \n",
      " 26  NUM_PKTS_UP_TO_128_BYTES     int32  \n",
      " 27  NUM_PKTS_128_TO_256_BYTES    int16  \n",
      " 28  NUM_PKTS_256_TO_512_BYTES    int16  \n",
      " 29  NUM_PKTS_512_TO_1024_BYTES   int16  \n",
      " 30  NUM_PKTS_1024_TO_1514_BYTES  int32  \n",
      " 31  TCP_WIN_MAX_IN               int32  \n",
      " 32  TCP_WIN_MAX_OUT              int32  \n",
      " 33  ICMP_TYPE                    int32  \n",
      " 34  ICMP_IPV4_TYPE               int16  \n",
      " 35  DNS_QUERY_ID                 int32  \n",
      " 36  DNS_QUERY_TYPE               int16  \n",
      " 37  DNS_TTL_ANSWER               int32  \n",
      " 38  FTP_COMMAND_RET_CODE         int8   \n",
      " 39  Label                        int8   \n",
      "dtypes: float32(1), float64(2), int16(14), int32(18), int64(2), int8(3)\n",
      "memory usage: 1.5 GB\n"
     ]
    }
   ],
   "source": [
    "df1 = pd.read_parquet('/home/administrator/dataset/NF-CSE-CIC-IDS2018/NF-CSE-CIC-IDS2018-V2_train.parquet', engine='pyarrow')\n",
    "\n",
    "df1.info()"
   ]
  },
  {
   "cell_type": "code",
   "execution_count": 6,
   "id": "89644448",
   "metadata": {},
   "outputs": [
    {
     "name": "stdout",
     "output_type": "stream",
     "text": [
      "<class 'pandas.core.frame.DataFrame'>\n",
      "Index: 513892 entries, 584581 to 7688622\n",
      "Data columns (total 40 columns):\n",
      " #   Column                       Non-Null Count   Dtype  \n",
      "---  ------                       --------------   -----  \n",
      " 0   PROTOCOL                     513892 non-null  int8   \n",
      " 1   L7_PROTO                     513892 non-null  float32\n",
      " 2   IN_BYTES                     513892 non-null  int32  \n",
      " 3   IN_PKTS                      513892 non-null  int32  \n",
      " 4   OUT_BYTES                    513892 non-null  int32  \n",
      " 5   OUT_PKTS                     513892 non-null  int32  \n",
      " 6   TCP_FLAGS                    513892 non-null  int16  \n",
      " 7   CLIENT_TCP_FLAGS             513892 non-null  int16  \n",
      " 8   SERVER_TCP_FLAGS             513892 non-null  int16  \n",
      " 9   FLOW_DURATION_MILLISECONDS   513892 non-null  int32  \n",
      " 10  DURATION_IN                  513892 non-null  int32  \n",
      " 11  DURATION_OUT                 513892 non-null  int32  \n",
      " 12  MIN_TTL                      513892 non-null  int16  \n",
      " 13  MAX_TTL                      513892 non-null  int16  \n",
      " 14  LONGEST_FLOW_PKT             513892 non-null  int32  \n",
      " 15  SHORTEST_FLOW_PKT            513892 non-null  int16  \n",
      " 16  MIN_IP_PKT_LEN               513892 non-null  int16  \n",
      " 17  MAX_IP_PKT_LEN               513892 non-null  int32  \n",
      " 18  SRC_TO_DST_SECOND_BYTES      513892 non-null  float64\n",
      " 19  DST_TO_SRC_SECOND_BYTES      513892 non-null  float64\n",
      " 20  RETRANSMITTED_IN_BYTES       513892 non-null  int32  \n",
      " 21  RETRANSMITTED_IN_PKTS        513892 non-null  int16  \n",
      " 22  RETRANSMITTED_OUT_BYTES      513892 non-null  int32  \n",
      " 23  RETRANSMITTED_OUT_PKTS       513892 non-null  int16  \n",
      " 24  SRC_TO_DST_AVG_THROUGHPUT    513892 non-null  int64  \n",
      " 25  DST_TO_SRC_AVG_THROUGHPUT    513892 non-null  int64  \n",
      " 26  NUM_PKTS_UP_TO_128_BYTES     513892 non-null  int32  \n",
      " 27  NUM_PKTS_128_TO_256_BYTES    513892 non-null  int16  \n",
      " 28  NUM_PKTS_256_TO_512_BYTES    513892 non-null  int16  \n",
      " 29  NUM_PKTS_512_TO_1024_BYTES   513892 non-null  int16  \n",
      " 30  NUM_PKTS_1024_TO_1514_BYTES  513892 non-null  int32  \n",
      " 31  TCP_WIN_MAX_IN               513892 non-null  int32  \n",
      " 32  TCP_WIN_MAX_OUT              513892 non-null  int32  \n",
      " 33  ICMP_TYPE                    513892 non-null  int32  \n",
      " 34  ICMP_IPV4_TYPE               513892 non-null  int16  \n",
      " 35  DNS_QUERY_ID                 513892 non-null  int32  \n",
      " 36  DNS_QUERY_TYPE               513892 non-null  int16  \n",
      " 37  DNS_TTL_ANSWER               513892 non-null  int32  \n",
      " 38  FTP_COMMAND_RET_CODE         513892 non-null  int8   \n",
      " 39  Label                        513892 non-null  int8   \n",
      "dtypes: float32(1), float64(2), int16(14), int32(18), int64(2), int8(3)\n",
      "memory usage: 72.0 MB\n"
     ]
    }
   ],
   "source": [
    "df3 = pd.read_parquet('/home/administrator/dataset/NF-CSE-CIC-IDS2018/NF-CSE-CIC-IDS2018-V2_valid.parquet', engine='pyarrow')\n",
    "\n",
    "df3.info()"
   ]
  },
  {
   "cell_type": "code",
   "execution_count": 7,
   "id": "b5578eb3",
   "metadata": {},
   "outputs": [
    {
     "name": "stdout",
     "output_type": "stream",
     "text": [
      "<class 'pandas.core.frame.DataFrame'>\n",
      "Index: 1199080 entries, 3365270 to 10878419\n",
      "Data columns (total 40 columns):\n",
      " #   Column                       Non-Null Count    Dtype  \n",
      "---  ------                       --------------    -----  \n",
      " 0   PROTOCOL                     1199080 non-null  int8   \n",
      " 1   L7_PROTO                     1199080 non-null  float32\n",
      " 2   IN_BYTES                     1199080 non-null  int32  \n",
      " 3   IN_PKTS                      1199080 non-null  int32  \n",
      " 4   OUT_BYTES                    1199080 non-null  int32  \n",
      " 5   OUT_PKTS                     1199080 non-null  int32  \n",
      " 6   TCP_FLAGS                    1199080 non-null  int16  \n",
      " 7   CLIENT_TCP_FLAGS             1199080 non-null  int16  \n",
      " 8   SERVER_TCP_FLAGS             1199080 non-null  int16  \n",
      " 9   FLOW_DURATION_MILLISECONDS   1199080 non-null  int32  \n",
      " 10  DURATION_IN                  1199080 non-null  int32  \n",
      " 11  DURATION_OUT                 1199080 non-null  int32  \n",
      " 12  MIN_TTL                      1199080 non-null  int16  \n",
      " 13  MAX_TTL                      1199080 non-null  int16  \n",
      " 14  LONGEST_FLOW_PKT             1199080 non-null  int32  \n",
      " 15  SHORTEST_FLOW_PKT            1199080 non-null  int16  \n",
      " 16  MIN_IP_PKT_LEN               1199080 non-null  int16  \n",
      " 17  MAX_IP_PKT_LEN               1199080 non-null  int32  \n",
      " 18  SRC_TO_DST_SECOND_BYTES      1199080 non-null  float64\n",
      " 19  DST_TO_SRC_SECOND_BYTES      1199080 non-null  float64\n",
      " 20  RETRANSMITTED_IN_BYTES       1199080 non-null  int32  \n",
      " 21  RETRANSMITTED_IN_PKTS        1199080 non-null  int16  \n",
      " 22  RETRANSMITTED_OUT_BYTES      1199080 non-null  int32  \n",
      " 23  RETRANSMITTED_OUT_PKTS       1199080 non-null  int16  \n",
      " 24  SRC_TO_DST_AVG_THROUGHPUT    1199080 non-null  int64  \n",
      " 25  DST_TO_SRC_AVG_THROUGHPUT    1199080 non-null  int64  \n",
      " 26  NUM_PKTS_UP_TO_128_BYTES     1199080 non-null  int32  \n",
      " 27  NUM_PKTS_128_TO_256_BYTES    1199080 non-null  int16  \n",
      " 28  NUM_PKTS_256_TO_512_BYTES    1199080 non-null  int16  \n",
      " 29  NUM_PKTS_512_TO_1024_BYTES   1199080 non-null  int16  \n",
      " 30  NUM_PKTS_1024_TO_1514_BYTES  1199080 non-null  int32  \n",
      " 31  TCP_WIN_MAX_IN               1199080 non-null  int32  \n",
      " 32  TCP_WIN_MAX_OUT              1199080 non-null  int32  \n",
      " 33  ICMP_TYPE                    1199080 non-null  int32  \n",
      " 34  ICMP_IPV4_TYPE               1199080 non-null  int16  \n",
      " 35  DNS_QUERY_ID                 1199080 non-null  int32  \n",
      " 36  DNS_QUERY_TYPE               1199080 non-null  int16  \n",
      " 37  DNS_TTL_ANSWER               1199080 non-null  int32  \n",
      " 38  FTP_COMMAND_RET_CODE         1199080 non-null  int8   \n",
      " 39  Label                        1199080 non-null  int8   \n",
      "dtypes: float32(1), float64(2), int16(14), int32(18), int64(2), int8(3)\n",
      "memory usage: 168.1 MB\n"
     ]
    }
   ],
   "source": [
    "df4 = pd.read_parquet('/home/administrator/dataset/NF-CSE-CIC-IDS2018/NF-CSE-CIC-IDS2018-V2_sample.parquet', engine='pyarrow')\n",
    "\n",
    "df4.info()"
   ]
  },
  {
   "cell_type": "code",
   "execution_count": 3,
   "id": "0a3e8276",
   "metadata": {},
   "outputs": [
    {
     "name": "stdout",
     "output_type": "stream",
     "text": [
      "<class 'pandas.core.frame.DataFrame'>\n",
      "Index: 11990800 entries, 2581605 to 11349847\n",
      "Data columns (total 40 columns):\n",
      " #   Column                       Dtype  \n",
      "---  ------                       -----  \n",
      " 0   PROTOCOL                     int8   \n",
      " 1   L7_PROTO                     float32\n",
      " 2   IN_BYTES                     int32  \n",
      " 3   IN_PKTS                      int32  \n",
      " 4   OUT_BYTES                    int32  \n",
      " 5   OUT_PKTS                     int32  \n",
      " 6   TCP_FLAGS                    int16  \n",
      " 7   CLIENT_TCP_FLAGS             int16  \n",
      " 8   SERVER_TCP_FLAGS             int16  \n",
      " 9   FLOW_DURATION_MILLISECONDS   int32  \n",
      " 10  DURATION_IN                  int32  \n",
      " 11  DURATION_OUT                 int32  \n",
      " 12  MIN_TTL                      int16  \n",
      " 13  MAX_TTL                      int16  \n",
      " 14  LONGEST_FLOW_PKT             int32  \n",
      " 15  SHORTEST_FLOW_PKT            int16  \n",
      " 16  MIN_IP_PKT_LEN               int16  \n",
      " 17  MAX_IP_PKT_LEN               int32  \n",
      " 18  SRC_TO_DST_SECOND_BYTES      float64\n",
      " 19  DST_TO_SRC_SECOND_BYTES      float64\n",
      " 20  RETRANSMITTED_IN_BYTES       int32  \n",
      " 21  RETRANSMITTED_IN_PKTS        int16  \n",
      " 22  RETRANSMITTED_OUT_BYTES      int32  \n",
      " 23  RETRANSMITTED_OUT_PKTS       int16  \n",
      " 24  SRC_TO_DST_AVG_THROUGHPUT    int64  \n",
      " 25  DST_TO_SRC_AVG_THROUGHPUT    int64  \n",
      " 26  NUM_PKTS_UP_TO_128_BYTES     int32  \n",
      " 27  NUM_PKTS_128_TO_256_BYTES    int16  \n",
      " 28  NUM_PKTS_256_TO_512_BYTES    int16  \n",
      " 29  NUM_PKTS_512_TO_1024_BYTES   int16  \n",
      " 30  NUM_PKTS_1024_TO_1514_BYTES  int32  \n",
      " 31  TCP_WIN_MAX_IN               int32  \n",
      " 32  TCP_WIN_MAX_OUT              int32  \n",
      " 33  ICMP_TYPE                    int32  \n",
      " 34  ICMP_IPV4_TYPE               int16  \n",
      " 35  DNS_QUERY_ID                 int32  \n",
      " 36  DNS_QUERY_TYPE               int16  \n",
      " 37  DNS_TTL_ANSWER               int32  \n",
      " 38  FTP_COMMAND_RET_CODE         int8   \n",
      " 39  Label                        int8   \n",
      "dtypes: float32(1), float64(2), int16(14), int32(18), int64(2), int8(3)\n",
      "memory usage: 1.6 GB\n"
     ]
    }
   ],
   "source": [
    "df1 = df1.drop(df1.columns[[0, 1]], axis=1)\n",
    "\n",
    "df1.info()"
   ]
  },
  {
   "cell_type": "code",
   "execution_count": 4,
   "id": "8aa32f6a",
   "metadata": {},
   "outputs": [],
   "source": [
    "train, sample = train_test_split(df1, test_size=0.1, random_state=100)"
   ]
  },
  {
   "cell_type": "code",
   "execution_count": 5,
   "id": "16aa3bd4",
   "metadata": {},
   "outputs": [],
   "source": [
    "train.to_parquet(f\"/home/administrator/dataset/NF-CSE-CIC-IDS2018/NF-CSE-CIC-IDS2018-V2_train.parquet\")"
   ]
  },
  {
   "cell_type": "code",
   "execution_count": 6,
   "id": "6d481e4d",
   "metadata": {},
   "outputs": [],
   "source": [
    "sample.to_parquet(f\"/home/administrator/dataset/NF-CSE-CIC-IDS2018/NF-CSE-CIC-IDS2018-V2_sample.parquet\")"
   ]
  },
  {
   "cell_type": "code",
   "execution_count": 8,
   "id": "472637f1",
   "metadata": {},
   "outputs": [
    {
     "name": "stdout",
     "output_type": "stream",
     "text": [
      "<class 'pandas.core.frame.DataFrame'>\n",
      "Index: 4625023 entries, 13630024 to 2074621\n",
      "Data columns (total 40 columns):\n",
      " #   Column                       Dtype  \n",
      "---  ------                       -----  \n",
      " 0   PROTOCOL                     int8   \n",
      " 1   L7_PROTO                     float32\n",
      " 2   IN_BYTES                     int32  \n",
      " 3   IN_PKTS                      int32  \n",
      " 4   OUT_BYTES                    int32  \n",
      " 5   OUT_PKTS                     int32  \n",
      " 6   TCP_FLAGS                    int16  \n",
      " 7   CLIENT_TCP_FLAGS             int16  \n",
      " 8   SERVER_TCP_FLAGS             int16  \n",
      " 9   FLOW_DURATION_MILLISECONDS   int32  \n",
      " 10  DURATION_IN                  int32  \n",
      " 11  DURATION_OUT                 int32  \n",
      " 12  MIN_TTL                      int16  \n",
      " 13  MAX_TTL                      int16  \n",
      " 14  LONGEST_FLOW_PKT             int32  \n",
      " 15  SHORTEST_FLOW_PKT            int16  \n",
      " 16  MIN_IP_PKT_LEN               int16  \n",
      " 17  MAX_IP_PKT_LEN               int32  \n",
      " 18  SRC_TO_DST_SECOND_BYTES      float64\n",
      " 19  DST_TO_SRC_SECOND_BYTES      float64\n",
      " 20  RETRANSMITTED_IN_BYTES       int32  \n",
      " 21  RETRANSMITTED_IN_PKTS        int16  \n",
      " 22  RETRANSMITTED_OUT_BYTES      int32  \n",
      " 23  RETRANSMITTED_OUT_PKTS       int16  \n",
      " 24  SRC_TO_DST_AVG_THROUGHPUT    int64  \n",
      " 25  DST_TO_SRC_AVG_THROUGHPUT    int64  \n",
      " 26  NUM_PKTS_UP_TO_128_BYTES     int32  \n",
      " 27  NUM_PKTS_128_TO_256_BYTES    int16  \n",
      " 28  NUM_PKTS_256_TO_512_BYTES    int16  \n",
      " 29  NUM_PKTS_512_TO_1024_BYTES   int16  \n",
      " 30  NUM_PKTS_1024_TO_1514_BYTES  int32  \n",
      " 31  TCP_WIN_MAX_IN               int32  \n",
      " 32  TCP_WIN_MAX_OUT              int32  \n",
      " 33  ICMP_TYPE                    int32  \n",
      " 34  ICMP_IPV4_TYPE               int16  \n",
      " 35  DNS_QUERY_ID                 int32  \n",
      " 36  DNS_QUERY_TYPE               int16  \n",
      " 37  DNS_TTL_ANSWER               int32  \n",
      " 38  FTP_COMMAND_RET_CODE         int8   \n",
      " 39  Label                        int8   \n",
      "dtypes: float32(1), float64(2), int16(14), int32(18), int64(2), int8(3)\n",
      "memory usage: 648.4 MB\n"
     ]
    }
   ],
   "source": [
    "df2 = pd.read_parquet('/home/administrator/dataset/NF-CSE-CIC-IDS2018/NF-CSE-CIC-IDS2018-V2_test.parquet', engine='pyarrow')\n",
    "\n",
    "df2.info()"
   ]
  },
  {
   "cell_type": "code",
   "execution_count": 8,
   "id": "7ccc2af3",
   "metadata": {},
   "outputs": [
    {
     "name": "stdout",
     "output_type": "stream",
     "text": [
      "<class 'pandas.core.frame.DataFrame'>\n",
      "Index: 5138915 entries, 16738008 to 7138075\n",
      "Data columns (total 40 columns):\n",
      " #   Column                       Dtype  \n",
      "---  ------                       -----  \n",
      " 0   PROTOCOL                     int8   \n",
      " 1   L7_PROTO                     float32\n",
      " 2   IN_BYTES                     int32  \n",
      " 3   IN_PKTS                      int32  \n",
      " 4   OUT_BYTES                    int32  \n",
      " 5   OUT_PKTS                     int32  \n",
      " 6   TCP_FLAGS                    int16  \n",
      " 7   CLIENT_TCP_FLAGS             int16  \n",
      " 8   SERVER_TCP_FLAGS             int16  \n",
      " 9   FLOW_DURATION_MILLISECONDS   int32  \n",
      " 10  DURATION_IN                  int32  \n",
      " 11  DURATION_OUT                 int32  \n",
      " 12  MIN_TTL                      int16  \n",
      " 13  MAX_TTL                      int16  \n",
      " 14  LONGEST_FLOW_PKT             int32  \n",
      " 15  SHORTEST_FLOW_PKT            int16  \n",
      " 16  MIN_IP_PKT_LEN               int16  \n",
      " 17  MAX_IP_PKT_LEN               int32  \n",
      " 18  SRC_TO_DST_SECOND_BYTES      float64\n",
      " 19  DST_TO_SRC_SECOND_BYTES      float64\n",
      " 20  RETRANSMITTED_IN_BYTES       int32  \n",
      " 21  RETRANSMITTED_IN_PKTS        int16  \n",
      " 22  RETRANSMITTED_OUT_BYTES      int32  \n",
      " 23  RETRANSMITTED_OUT_PKTS       int16  \n",
      " 24  SRC_TO_DST_AVG_THROUGHPUT    int64  \n",
      " 25  DST_TO_SRC_AVG_THROUGHPUT    int64  \n",
      " 26  NUM_PKTS_UP_TO_128_BYTES     int32  \n",
      " 27  NUM_PKTS_128_TO_256_BYTES    int16  \n",
      " 28  NUM_PKTS_256_TO_512_BYTES    int16  \n",
      " 29  NUM_PKTS_512_TO_1024_BYTES   int16  \n",
      " 30  NUM_PKTS_1024_TO_1514_BYTES  int32  \n",
      " 31  TCP_WIN_MAX_IN               int32  \n",
      " 32  TCP_WIN_MAX_OUT              int32  \n",
      " 33  ICMP_TYPE                    int32  \n",
      " 34  ICMP_IPV4_TYPE               int16  \n",
      " 35  DNS_QUERY_ID                 int32  \n",
      " 36  DNS_QUERY_TYPE               int16  \n",
      " 37  DNS_TTL_ANSWER               int32  \n",
      " 38  FTP_COMMAND_RET_CODE         int8   \n",
      " 39  Label                        int8   \n",
      "dtypes: float32(1), float64(2), int16(14), int32(18), int64(2), int8(3)\n",
      "memory usage: 720.4 MB\n"
     ]
    }
   ],
   "source": [
    "df2 = df2.drop(df2.columns[[0, 1]], axis=1)\n",
    "\n",
    "df2.info()"
   ]
  },
  {
   "cell_type": "code",
   "execution_count": 9,
   "id": "1ac6dafa",
   "metadata": {},
   "outputs": [],
   "source": [
    "test, valid = train_test_split(df2, test_size=0.1, random_state=100)"
   ]
  },
  {
   "cell_type": "code",
   "execution_count": 10,
   "id": "ecbf6d10",
   "metadata": {},
   "outputs": [],
   "source": [
    "test.to_parquet(f\"/home/administrator/dataset/NF-CSE-CIC-IDS2018/NF-CSE-CIC-IDS2018-V2_test.parquet\")"
   ]
  },
  {
   "cell_type": "code",
   "execution_count": 11,
   "id": "3b08e8d3",
   "metadata": {},
   "outputs": [],
   "source": [
    "valid.to_parquet(f\"/home/administrator/dataset/NF-CSE-CIC-IDS2018/NF-CSE-CIC-IDS2018-V2_valid.parquet\")"
   ]
  },
  {
   "cell_type": "code",
   "execution_count": 3,
   "id": "72430e86",
   "metadata": {},
   "outputs": [
    {
     "name": "stdout",
     "output_type": "stream",
     "text": [
      "<class 'pandas.core.frame.DataFrame'>\n",
      "RangeIndex: 17129715 entries, 0 to 17129714\n",
      "Data columns (total 43 columns):\n",
      " #   Column                       Dtype  \n",
      "---  ------                       -----  \n",
      " 0   L4_SRC_PORT                  int32  \n",
      " 1   L4_DST_PORT                  int32  \n",
      " 2   PROTOCOL                     int8   \n",
      " 3   L7_PROTO                     float32\n",
      " 4   IN_BYTES                     int32  \n",
      " 5   IN_PKTS                      int32  \n",
      " 6   OUT_BYTES                    int32  \n",
      " 7   OUT_PKTS                     int32  \n",
      " 8   TCP_FLAGS                    int16  \n",
      " 9   CLIENT_TCP_FLAGS             int16  \n",
      " 10  SERVER_TCP_FLAGS             int16  \n",
      " 11  FLOW_DURATION_MILLISECONDS   int32  \n",
      " 12  DURATION_IN                  int32  \n",
      " 13  DURATION_OUT                 int32  \n",
      " 14  MIN_TTL                      int16  \n",
      " 15  MAX_TTL                      int16  \n",
      " 16  LONGEST_FLOW_PKT             int32  \n",
      " 17  SHORTEST_FLOW_PKT            int16  \n",
      " 18  MIN_IP_PKT_LEN               int16  \n",
      " 19  MAX_IP_PKT_LEN               int32  \n",
      " 20  SRC_TO_DST_SECOND_BYTES      float64\n",
      " 21  DST_TO_SRC_SECOND_BYTES      float64\n",
      " 22  RETRANSMITTED_IN_BYTES       int32  \n",
      " 23  RETRANSMITTED_IN_PKTS        int16  \n",
      " 24  RETRANSMITTED_OUT_BYTES      int32  \n",
      " 25  RETRANSMITTED_OUT_PKTS       int16  \n",
      " 26  SRC_TO_DST_AVG_THROUGHPUT    int64  \n",
      " 27  DST_TO_SRC_AVG_THROUGHPUT    int64  \n",
      " 28  NUM_PKTS_UP_TO_128_BYTES     int32  \n",
      " 29  NUM_PKTS_128_TO_256_BYTES    int16  \n",
      " 30  NUM_PKTS_256_TO_512_BYTES    int16  \n",
      " 31  NUM_PKTS_512_TO_1024_BYTES   int16  \n",
      " 32  NUM_PKTS_1024_TO_1514_BYTES  int32  \n",
      " 33  TCP_WIN_MAX_IN               int32  \n",
      " 34  TCP_WIN_MAX_OUT              int32  \n",
      " 35  ICMP_TYPE                    int32  \n",
      " 36  ICMP_IPV4_TYPE               int16  \n",
      " 37  DNS_QUERY_ID                 int32  \n",
      " 38  DNS_QUERY_TYPE               int16  \n",
      " 39  DNS_TTL_ANSWER               int32  \n",
      " 40  FTP_COMMAND_RET_CODE         int8   \n",
      " 41  Label                        int8   \n",
      " 42  Attack                       object \n",
      "dtypes: float32(1), float64(2), int16(14), int32(20), int64(2), int8(3), object(1)\n",
      "memory usage: 2.5+ GB\n"
     ]
    }
   ],
   "source": [
    "df = pd.read_parquet('/home/administrator/dataset/NF-CSE-CIC-IDS2018/NF-CSE-CIC-IDS2018-V2.parquet', engine='pyarrow')\n",
    "\n",
    "df.info()"
   ]
  },
  {
   "cell_type": "code",
   "execution_count": 4,
   "id": "6a4abab2",
   "metadata": {},
   "outputs": [
    {
     "data": {
      "text/plain": [
       "Label\n",
       "0    15101685\n",
       "1     2028030\n",
       "Name: count, dtype: int64"
      ]
     },
     "execution_count": 4,
     "metadata": {},
     "output_type": "execute_result"
    }
   ],
   "source": [
    "df['Label'].value_counts()"
   ]
  },
  {
   "cell_type": "code",
   "execution_count": null,
   "id": "f7667ec7",
   "metadata": {},
   "outputs": [],
   "source": []
  }
 ],
 "metadata": {
  "kernelspec": {
   "display_name": "Python 3 (ipykernel)",
   "language": "python",
   "name": "python3"
  },
  "language_info": {
   "codemirror_mode": {
    "name": "ipython",
    "version": 3
   },
   "file_extension": ".py",
   "mimetype": "text/x-python",
   "name": "python",
   "nbconvert_exporter": "python",
   "pygments_lexer": "ipython3",
   "version": "3.10.12"
  }
 },
 "nbformat": 4,
 "nbformat_minor": 5
}
