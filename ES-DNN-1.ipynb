{
 "cells": [
  {
   "cell_type": "code",
   "execution_count": 61,
   "id": "9b840eab",
   "metadata": {},
   "outputs": [],
   "source": [
    "import pandas as pd\n",
    "import numpy as np"
   ]
  },
  {
   "cell_type": "code",
   "execution_count": 80,
   "id": "de19ca6b",
   "metadata": {},
   "outputs": [],
   "source": [
    "df1_train = pd.read_parquet(\"/home/administrator/dataset/NF-UQ-NIDS/NF-UQ-NIDS-V2_train.parquet\")"
   ]
  },
  {
   "cell_type": "code",
   "execution_count": 81,
   "id": "a14cfe73",
   "metadata": {},
   "outputs": [],
   "source": [
    "df1_valid = pd.read_parquet(\"/home/administrator/dataset/NF-UQ-NIDS/NF-UQ-NIDS-V2_valid.parquet\")"
   ]
  },
  {
   "cell_type": "code",
   "execution_count": 82,
   "id": "87c7ff22",
   "metadata": {},
   "outputs": [],
   "source": [
    "df1_test = pd.read_parquet(\"/home/administrator/dataset/NF-UQ-NIDS/NF-UQ-NIDS-V2_test.parquet\")"
   ]
  },
  {
   "cell_type": "code",
   "execution_count": 62,
   "id": "617556d7",
   "metadata": {},
   "outputs": [],
   "source": [
    "df2_train = pd.read_parquet(\"/home/administrator/dataset/NF-UNSW-NB15/NF-UNSW-NB15-V2_train.parquet\")"
   ]
  },
  {
   "cell_type": "code",
   "execution_count": 63,
   "id": "ffcf2b50",
   "metadata": {},
   "outputs": [],
   "source": [
    "df2_valid = pd.read_parquet(\"/home/administrator/dataset/NF-UNSW-NB15/NF-UNSW-NB15-V2_valid.parquet\")"
   ]
  },
  {
   "cell_type": "code",
   "execution_count": 64,
   "id": "0ac585c5",
   "metadata": {},
   "outputs": [],
   "source": [
    "df2_test = pd.read_parquet(\"/home/administrator/dataset/NF-UNSW-NB15/NF-UNSW-NB15-V2_test.parquet\")"
   ]
  },
  {
   "cell_type": "code",
   "execution_count": 94,
   "id": "04fcdf04",
   "metadata": {},
   "outputs": [],
   "source": [
    "df3_train = pd.read_parquet(\"/home/administrator/dataset/NF-BoT-IoT/NF-BoT-IoT-V2_train.parquet\")"
   ]
  },
  {
   "cell_type": "code",
   "execution_count": 95,
   "id": "52eb2e0c",
   "metadata": {},
   "outputs": [],
   "source": [
    "df3_valid = pd.read_parquet(\"/home/administrator/dataset/NF-BoT-IoT/NF-BoT-IoT-V2_valid.parquet\")"
   ]
  },
  {
   "cell_type": "code",
   "execution_count": 96,
   "id": "a29c021c",
   "metadata": {},
   "outputs": [],
   "source": [
    "df3_test = pd.read_parquet(\"/home/administrator/dataset/NF-BoT-IoT/NF-BoT-IoT-V2_test.parquet\")"
   ]
  },
  {
   "cell_type": "code",
   "execution_count": 109,
   "id": "344584da",
   "metadata": {},
   "outputs": [],
   "source": [
    "df4_train = pd.read_parquet(\"/home/administrator/dataset/NF-CSE-CIC-IDS2018/NF-CSE-CIC-IDS2018-V2_train.parquet\")"
   ]
  },
  {
   "cell_type": "code",
   "execution_count": 110,
   "id": "561959e2",
   "metadata": {},
   "outputs": [],
   "source": [
    "df4_valid = pd.read_parquet(\"/home/administrator/dataset/NF-CSE-CIC-IDS2018/NF-CSE-CIC-IDS2018-V2_valid.parquet\")"
   ]
  },
  {
   "cell_type": "code",
   "execution_count": 111,
   "id": "6504fa46",
   "metadata": {},
   "outputs": [],
   "source": [
    "df4_test = pd.read_parquet(\"/home/administrator/dataset/NF-CSE-CIC-IDS2018/NF-CSE-CIC-IDS2018-V2_test.parquet\")"
   ]
  },
  {
   "cell_type": "code",
   "execution_count": 123,
   "id": "c0d2ac46",
   "metadata": {},
   "outputs": [],
   "source": [
    "df5_train = pd.read_parquet(\"/home/administrator/dataset/NF-ToN-IoT/NF-ToN-IoT-V2_train.parquet\")"
   ]
  },
  {
   "cell_type": "code",
   "execution_count": 124,
   "id": "2765d5f7",
   "metadata": {},
   "outputs": [],
   "source": [
    "df5_valid = pd.read_parquet(\"/home/administrator/dataset/NF-ToN-IoT/NF-ToN-IoT-V2_valid.parquet\")"
   ]
  },
  {
   "cell_type": "code",
   "execution_count": 125,
   "id": "0347c631",
   "metadata": {},
   "outputs": [],
   "source": [
    "df5_test = pd.read_parquet(\"/home/administrator/dataset/NF-ToN-IoT/NF-ToN-IoT-V2_test.parquet\")"
   ]
  },
  {
   "cell_type": "code",
   "execution_count": 83,
   "id": "9a368573",
   "metadata": {},
   "outputs": [],
   "source": [
    "load_X_df1_train = df1_train.drop([\"Label\"],axis=1)\n",
    "Y_df1_train = df1_train[\"Label\"]"
   ]
  },
  {
   "cell_type": "code",
   "execution_count": 84,
   "id": "aff639a4",
   "metadata": {},
   "outputs": [],
   "source": [
    "load_X_df1_valid = df1_valid.drop([\"Label\"],axis=1)\n",
    "Y_df1_valid = df1_valid[\"Label\"]"
   ]
  },
  {
   "cell_type": "code",
   "execution_count": 85,
   "id": "52e95208",
   "metadata": {},
   "outputs": [],
   "source": [
    "load_X_df1_test = df1_test.drop([\"Label\"],axis=1)\n",
    "Y_df1_test = df1_test[\"Label\"]"
   ]
  },
  {
   "cell_type": "code",
   "execution_count": 65,
   "id": "949e6619",
   "metadata": {},
   "outputs": [],
   "source": [
    "load_X_df2_train = df2_train.drop([\"Label\"],axis=1)\n",
    "Y_df2_train = df2_train[\"Label\"]"
   ]
  },
  {
   "cell_type": "code",
   "execution_count": 66,
   "id": "1323dea4",
   "metadata": {},
   "outputs": [],
   "source": [
    "load_X_df2_valid = df2_valid.drop([\"Label\"],axis=1)\n",
    "Y_df2_valid = df2_valid[\"Label\"]"
   ]
  },
  {
   "cell_type": "code",
   "execution_count": 67,
   "id": "c17150b0",
   "metadata": {},
   "outputs": [],
   "source": [
    "load_X_df2_test = df2_test.drop([\"Label\"],axis=1)\n",
    "Y_df2_test = df2_test[\"Label\"]"
   ]
  },
  {
   "cell_type": "code",
   "execution_count": 97,
   "id": "73b50ba1",
   "metadata": {},
   "outputs": [],
   "source": [
    "load_X_df3_train = df3_train.drop([\"Label\"],axis=1)\n",
    "Y_df3_train = df3_train[\"Label\"]"
   ]
  },
  {
   "cell_type": "code",
   "execution_count": 98,
   "id": "815c3f89",
   "metadata": {},
   "outputs": [],
   "source": [
    "load_X_df3_valid = df3_valid.drop([\"Label\"],axis=1)\n",
    "Y_df3_valid = df3_valid[\"Label\"]"
   ]
  },
  {
   "cell_type": "code",
   "execution_count": 99,
   "id": "d8f70f43",
   "metadata": {},
   "outputs": [],
   "source": [
    "load_X_df3_test = df3_test.drop([\"Label\"],axis=1)\n",
    "Y_df3_test = df3_test[\"Label\"]"
   ]
  },
  {
   "cell_type": "code",
   "execution_count": 112,
   "id": "95248b59",
   "metadata": {},
   "outputs": [],
   "source": [
    "load_X_df4_train = df4_train.drop([\"Label\"],axis=1)\n",
    "Y_df4_train = df4_train[\"Label\"]"
   ]
  },
  {
   "cell_type": "code",
   "execution_count": 113,
   "id": "036d1b5f",
   "metadata": {},
   "outputs": [],
   "source": [
    "load_X_df4_valid = df4_valid.drop([\"Label\"],axis=1)\n",
    "Y_df4_valid = df4_valid[\"Label\"]"
   ]
  },
  {
   "cell_type": "code",
   "execution_count": 114,
   "id": "93ef0952",
   "metadata": {},
   "outputs": [],
   "source": [
    "load_X_df4_test = df4_test.drop([\"Label\"],axis=1)\n",
    "Y_df4_test = df4_test[\"Label\"]"
   ]
  },
  {
   "cell_type": "code",
   "execution_count": 126,
   "id": "6c339544",
   "metadata": {},
   "outputs": [],
   "source": [
    "load_X_df5_train = df5_train.drop([\"Label\"],axis=1)\n",
    "Y_df5_train = df5_train[\"Label\"]"
   ]
  },
  {
   "cell_type": "code",
   "execution_count": 127,
   "id": "9b41060c",
   "metadata": {},
   "outputs": [],
   "source": [
    "load_X_df5_valid = df5_valid.drop([\"Label\"],axis=1)\n",
    "Y_df5_valid = df5_valid[\"Label\"]"
   ]
  },
  {
   "cell_type": "code",
   "execution_count": 128,
   "id": "54d6c94e",
   "metadata": {},
   "outputs": [],
   "source": [
    "load_X_df5_test = df5_test.drop([\"Label\"],axis=1)\n",
    "Y_df5_test = df5_test[\"Label\"]"
   ]
  },
  {
   "cell_type": "code",
   "execution_count": 22,
   "id": "b7dd1021",
   "metadata": {},
   "outputs": [],
   "source": [
    "from sklearn.preprocessing import QuantileTransformer"
   ]
  },
  {
   "cell_type": "code",
   "execution_count": 86,
   "id": "345036ac",
   "metadata": {},
   "outputs": [],
   "source": [
    "scaler_df1 = QuantileTransformer(output_distribution='normal')"
   ]
  },
  {
   "cell_type": "code",
   "execution_count": 87,
   "id": "877b9558",
   "metadata": {},
   "outputs": [],
   "source": [
    "X_df1_train = scaler_df1.fit_transform(load_X_df1_train)"
   ]
  },
  {
   "cell_type": "code",
   "execution_count": 88,
   "id": "61958a95",
   "metadata": {},
   "outputs": [],
   "source": [
    "X_df1_valid = scaler_df1.fit_transform(load_X_df1_valid)"
   ]
  },
  {
   "cell_type": "code",
   "execution_count": 89,
   "id": "879131de",
   "metadata": {},
   "outputs": [],
   "source": [
    "X_df1_test = scaler_df1.fit_transform(load_X_df1_test)"
   ]
  },
  {
   "cell_type": "code",
   "execution_count": 68,
   "id": "65b58987",
   "metadata": {},
   "outputs": [],
   "source": [
    "scaler_df2 = QuantileTransformer(output_distribution='normal')"
   ]
  },
  {
   "cell_type": "code",
   "execution_count": 69,
   "id": "e37859f4",
   "metadata": {},
   "outputs": [],
   "source": [
    "X_df2_train = scaler_df2.fit_transform(load_X_df2_train)"
   ]
  },
  {
   "cell_type": "code",
   "execution_count": 70,
   "id": "b7543404",
   "metadata": {},
   "outputs": [],
   "source": [
    "X_df2_valid = scaler_df2.fit_transform(load_X_df2_valid)"
   ]
  },
  {
   "cell_type": "code",
   "execution_count": 71,
   "id": "bca83013",
   "metadata": {},
   "outputs": [],
   "source": [
    "X_df2_test = scaler_df2.fit_transform(load_X_df2_test)"
   ]
  },
  {
   "cell_type": "code",
   "execution_count": 100,
   "id": "67120f3e",
   "metadata": {},
   "outputs": [],
   "source": [
    "scaler_df3 = QuantileTransformer(output_distribution='normal')"
   ]
  },
  {
   "cell_type": "code",
   "execution_count": 101,
   "id": "3ade0ebb",
   "metadata": {},
   "outputs": [],
   "source": [
    "X_df3_train = scaler_df3.fit_transform(load_X_df3_train)"
   ]
  },
  {
   "cell_type": "code",
   "execution_count": 102,
   "id": "6914a6af",
   "metadata": {},
   "outputs": [],
   "source": [
    "X_df3_valid = scaler_df3.fit_transform(load_X_df3_valid)"
   ]
  },
  {
   "cell_type": "code",
   "execution_count": 103,
   "id": "74f5ce98",
   "metadata": {},
   "outputs": [],
   "source": [
    "X_df3_test = scaler_df3.fit_transform(load_X_df3_test)"
   ]
  },
  {
   "cell_type": "code",
   "execution_count": 115,
   "id": "6e224d9e",
   "metadata": {},
   "outputs": [],
   "source": [
    "scaler_df4 = QuantileTransformer(output_distribution='normal')"
   ]
  },
  {
   "cell_type": "code",
   "execution_count": 116,
   "id": "e4eb6b4d",
   "metadata": {},
   "outputs": [],
   "source": [
    "X_df4_train = scaler_df4.fit_transform(load_X_df4_train)"
   ]
  },
  {
   "cell_type": "code",
   "execution_count": 117,
   "id": "8a95a470",
   "metadata": {},
   "outputs": [],
   "source": [
    "X_df4_valid = scaler_df4.fit_transform(load_X_df4_valid)"
   ]
  },
  {
   "cell_type": "code",
   "execution_count": 118,
   "id": "a2114b13",
   "metadata": {},
   "outputs": [],
   "source": [
    "X_df4_test = scaler_df4.fit_transform(load_X_df4_test)"
   ]
  },
  {
   "cell_type": "code",
   "execution_count": 35,
   "id": "61b2980b",
   "metadata": {},
   "outputs": [],
   "source": [
    "scaler_df5 = QuantileTransformer(output_distribution='normal')"
   ]
  },
  {
   "cell_type": "code",
   "execution_count": 129,
   "id": "d1376c4a",
   "metadata": {},
   "outputs": [],
   "source": [
    "X_df5_train = scaler_df5.fit_transform(load_X_df5_train)"
   ]
  },
  {
   "cell_type": "code",
   "execution_count": 130,
   "id": "5651a5e5",
   "metadata": {},
   "outputs": [],
   "source": [
    "X_df5_valid = scaler_df5.fit_transform(load_X_df5_valid)"
   ]
  },
  {
   "cell_type": "code",
   "execution_count": 131,
   "id": "b612e491",
   "metadata": {},
   "outputs": [],
   "source": [
    "X_df5_test = scaler_df5.fit_transform(load_X_df5_test)"
   ]
  },
  {
   "cell_type": "code",
   "execution_count": 72,
   "id": "94d170f0",
   "metadata": {},
   "outputs": [],
   "source": [
    "from keras.models import Sequential\n",
    "from keras.layers import Dense"
   ]
  },
  {
   "cell_type": "code",
   "execution_count": 73,
   "id": "b5cba454",
   "metadata": {},
   "outputs": [],
   "source": [
    "from keras.metrics import Recall, Precision"
   ]
  },
  {
   "cell_type": "code",
   "execution_count": 90,
   "id": "b6491745",
   "metadata": {},
   "outputs": [],
   "source": [
    "def fit_model_N1(trainX, trainy):\n",
    "    model = Sequential()\n",
    "    model.add(Dense(9, input_dim=39, activation='relu', name=\"N1_i\"))\n",
    "    model.add(Dense(7, activation='relu', name=\"N1_l1\"))\n",
    "    model.add(Dense(5, activation='relu', name=\"N1_l2\"))\n",
    "    model.add(Dense(3, activation='relu', name=\"N1_l3\"))\n",
    "    model.add(Dense(1, activation='sigmoid', name=\"N1_o\")) \n",
    "    model._name=\"N1_m\"\n",
    "    model.compile(loss='binary_crossentropy', optimizer='adam', metrics=['accuracy', Recall(), Precision()])\n",
    "    \n",
    "    model.fit(trainX, trainy, epochs=10, batch_size=1000, verbose=1, validation_data=(X_df1_valid, Y_df1_valid))\n",
    "    return model"
   ]
  },
  {
   "cell_type": "code",
   "execution_count": 76,
   "id": "f0605530",
   "metadata": {},
   "outputs": [],
   "source": [
    "def fit_model_N2(trainX, trainy):\n",
    "    model = Sequential()\n",
    "    model.add(Dense(9, input_dim=39, activation='relu', name=\"N2_i\"))\n",
    "    model.add(Dense(7, activation='relu', name=\"N2_l1\"))\n",
    "    model.add(Dense(5, activation='relu', name=\"N2_l2\"))\n",
    "    model.add(Dense(3, activation='relu', name=\"N2_l3\"))\n",
    "    model.add(Dense(1, activation='sigmoid', name=\"N2_o\")) \n",
    "    model._name=\"N2_m\"\n",
    "    model.compile(loss='binary_crossentropy', optimizer='adam', metrics=['accuracy', Recall(), Precision()])\n",
    "    \n",
    "    model.fit(trainX, trainy, epochs=10, batch_size=1000, verbose=1, validation_data=(X_df2_valid, Y_df2_valid))\n",
    "    return model"
   ]
  },
  {
   "cell_type": "code",
   "execution_count": 105,
   "id": "1908947b",
   "metadata": {},
   "outputs": [],
   "source": [
    "def fit_model_N3(trainX, trainy):\n",
    "    model = Sequential()\n",
    "    model.add(Dense(9, input_dim=39, activation='relu', name=\"N3_i\"))\n",
    "    model.add(Dense(7, activation='relu', name=\"N3_l1\"))\n",
    "    model.add(Dense(5, activation='relu', name=\"N3_l2\"))\n",
    "    model.add(Dense(3, activation='relu', name=\"N3_l3\"))\n",
    "    model.add(Dense(1, activation='sigmoid', name=\"N3_o\")) \n",
    "    model._name=\"N3_m\"\n",
    "    model.compile(loss='binary_crossentropy', optimizer='adam', metrics=['accuracy', Recall(), Precision()])\n",
    "    \n",
    "    model.fit(trainX, trainy, epochs=10, batch_size=1000, verbose=1, validation_data=(X_df3_valid, Y_df3_valid))\n",
    "    return model"
   ]
  },
  {
   "cell_type": "code",
   "execution_count": 119,
   "id": "4a721fd5",
   "metadata": {},
   "outputs": [],
   "source": [
    "def fit_model_N4(trainX, trainy):\n",
    "    model = Sequential()\n",
    "    model.add(Dense(9, input_dim=39, activation='relu', name=\"N4_i\"))\n",
    "    model.add(Dense(7, activation='relu', name=\"N4_l1\"))\n",
    "    model.add(Dense(5, activation='relu', name=\"N4_l2\"))\n",
    "    model.add(Dense(3, activation='relu', name=\"N4_l3\"))\n",
    "    model.add(Dense(1, activation='sigmoid', name=\"N4_o\")) \n",
    "    model._name=\"N4_m\"\n",
    "    model.compile(loss='binary_crossentropy', optimizer='adam', metrics=['accuracy', Recall(), Precision()])\n",
    "    \n",
    "    model.fit(trainX, trainy, epochs=10, batch_size=1000, verbose=1, validation_data=(X_df4_valid, Y_df4_valid))\n",
    "    return model"
   ]
  },
  {
   "cell_type": "code",
   "execution_count": 132,
   "id": "db5becbf",
   "metadata": {},
   "outputs": [],
   "source": [
    "def fit_model_N5(trainX, trainy):\n",
    "    model = Sequential()\n",
    "    model.add(Dense(9, input_dim=39, activation='relu', name=\"N5_i\"))\n",
    "    model.add(Dense(7, activation='relu', name=\"N5_l1\"))\n",
    "    model.add(Dense(5, activation='relu', name=\"N5_l2\"))\n",
    "    model.add(Dense(3, activation='relu', name=\"N5_l3\"))\n",
    "    model.add(Dense(1, activation='sigmoid', name=\"N5_o\")) \n",
    "    model._name=\"N5_m\"\n",
    "    model.compile(loss='binary_crossentropy', optimizer='adam', metrics=['accuracy', Recall(), Precision()])\n",
    "    \n",
    "    model.fit(trainX, trainy, epochs=10, batch_size=1000, verbose=1, validation_data=(X_df5_valid, Y_df5_valid))\n",
    "    return model"
   ]
  },
  {
   "cell_type": "code",
   "execution_count": 91,
   "id": "d213f109",
   "metadata": {},
   "outputs": [
    {
     "name": "stderr",
     "output_type": "stream",
     "text": [
      "2023-10-12 16:59:16.297246: W tensorflow/tsl/framework/cpu_allocator_impl.cc:83] Allocation of 6159405408 exceeds 10% of free system memory.\n"
     ]
    },
    {
     "name": "stdout",
     "output_type": "stream",
     "text": [
      "Epoch 1/10\n",
      "39484/39484 [==============================] - 162s 4ms/step - loss: 0.0834 - accuracy: 0.9706 - recall_7: 0.9811 - precision_7: 0.9752 - val_loss: 0.1239 - val_accuracy: 0.9610 - val_recall_7: 0.9682 - val_precision_7: 0.9733\n",
      "Epoch 2/10\n",
      "39484/39484 [==============================] - 157s 4ms/step - loss: 0.0730 - accuracy: 0.9740 - recall_7: 0.9847 - precision_7: 0.9766 - val_loss: 0.1536 - val_accuracy: 0.9540 - val_recall_7: 0.9650 - val_precision_7: 0.9662\n",
      "Epoch 3/10\n",
      "39484/39484 [==============================] - 156s 4ms/step - loss: 0.0660 - accuracy: 0.9777 - recall_7: 0.9878 - precision_7: 0.9790 - val_loss: 0.1630 - val_accuracy: 0.9501 - val_recall_7: 0.9601 - val_precision_7: 0.9651\n",
      "Epoch 4/10\n",
      "39484/39484 [==============================] - 155s 4ms/step - loss: 0.0641 - accuracy: 0.9781 - recall_7: 0.9881 - precision_7: 0.9793 - val_loss: 0.1645 - val_accuracy: 0.9512 - val_recall_7: 0.9610 - val_precision_7: 0.9659\n",
      "Epoch 5/10\n",
      "39484/39484 [==============================] - 154s 4ms/step - loss: 0.0632 - accuracy: 0.9784 - recall_7: 0.9884 - precision_7: 0.9794 - val_loss: 0.1618 - val_accuracy: 0.9523 - val_recall_7: 0.9603 - val_precision_7: 0.9682\n",
      "Epoch 6/10\n",
      "39484/39484 [==============================] - 156s 4ms/step - loss: 0.0624 - accuracy: 0.9784 - recall_7: 0.9883 - precision_7: 0.9796 - val_loss: 0.1588 - val_accuracy: 0.9560 - val_recall_7: 0.9643 - val_precision_7: 0.9698\n",
      "Epoch 7/10\n",
      "39484/39484 [==============================] - 157s 4ms/step - loss: 0.0616 - accuracy: 0.9787 - recall_7: 0.9886 - precision_7: 0.9797 - val_loss: 0.1552 - val_accuracy: 0.9568 - val_recall_7: 0.9662 - val_precision_7: 0.9691\n",
      "Epoch 8/10\n",
      "39484/39484 [==============================] - 154s 4ms/step - loss: 0.0611 - accuracy: 0.9788 - recall_7: 0.9886 - precision_7: 0.9798 - val_loss: 0.1486 - val_accuracy: 0.9588 - val_recall_7: 0.9650 - val_precision_7: 0.9731\n",
      "Epoch 9/10\n",
      "39484/39484 [==============================] - 154s 4ms/step - loss: 0.0608 - accuracy: 0.9789 - recall_7: 0.9887 - precision_7: 0.9800 - val_loss: 0.1416 - val_accuracy: 0.9604 - val_recall_7: 0.9658 - val_precision_7: 0.9748\n",
      "Epoch 10/10\n",
      "39484/39484 [==============================] - 155s 4ms/step - loss: 0.0603 - accuracy: 0.9791 - recall_7: 0.9888 - precision_7: 0.9802 - val_loss: 0.1409 - val_accuracy: 0.9599 - val_recall_7: 0.9658 - val_precision_7: 0.9741\n",
      ">Saved models/model_stack_N1.h5\n"
     ]
    },
    {
     "name": "stderr",
     "output_type": "stream",
     "text": [
      "/home/administrator/.local/lib/python3.10/site-packages/keras/src/engine/training.py:3079: UserWarning: You are saving your model as an HDF5 file via `model.save()`. This file format is considered legacy. We recommend using instead the native Keras format, e.g. `model.save('my_model.keras')`.\n",
      "  saving_api.save_model(\n"
     ]
    }
   ],
   "source": [
    "model_N1 = fit_model_N1(X_df1_train, Y_df1_train)\n",
    "\n",
    "filename_N1 = 'models/model_stack_N1.h5'\n",
    "model_N1.save(filename_N1)\n",
    "print('>Saved %s' % filename_N1)"
   ]
  },
  {
   "cell_type": "code",
   "execution_count": 77,
   "id": "1b3f33a6",
   "metadata": {},
   "outputs": [
    {
     "name": "stdout",
     "output_type": "stream",
     "text": [
      "Epoch 1/10\n",
      "1252/1252 [==============================] - 6s 4ms/step - loss: 0.0565 - accuracy: 0.9804 - recall_6: 0.5591 - precision_6: 0.8785 - val_loss: 0.0277 - val_accuracy: 0.9946 - val_recall_6: 0.9849 - val_precision_6: 0.8829\n",
      "Epoch 2/10\n",
      "1252/1252 [==============================] - 5s 4ms/step - loss: 0.0246 - accuracy: 0.9945 - recall_6: 0.9888 - precision_6: 0.8816 - val_loss: 0.0217 - val_accuracy: 0.9948 - val_recall_6: 0.9922 - val_precision_6: 0.8822\n",
      "Epoch 3/10\n",
      "1252/1252 [==============================] - 5s 4ms/step - loss: 0.0194 - accuracy: 0.9947 - recall_6: 0.9946 - precision_6: 0.8815 - val_loss: 0.0173 - val_accuracy: 0.9951 - val_recall_6: 0.9941 - val_precision_6: 0.8860\n",
      "Epoch 4/10\n",
      "1252/1252 [==============================] - 5s 4ms/step - loss: 0.0169 - accuracy: 0.9949 - recall_6: 0.9939 - precision_6: 0.8847 - val_loss: 0.0157 - val_accuracy: 0.9952 - val_recall_6: 0.9959 - val_precision_6: 0.8880\n",
      "Epoch 5/10\n",
      "1252/1252 [==============================] - 5s 4ms/step - loss: 0.0158 - accuracy: 0.9949 - recall_6: 0.9931 - precision_6: 0.8863 - val_loss: 0.0152 - val_accuracy: 0.9950 - val_recall_6: 0.9813 - val_precision_6: 0.8928\n",
      "Epoch 6/10\n",
      "1252/1252 [==============================] - 5s 4ms/step - loss: 0.0154 - accuracy: 0.9949 - recall_6: 0.9928 - precision_6: 0.8863 - val_loss: 0.0150 - val_accuracy: 0.9952 - val_recall_6: 0.9913 - val_precision_6: 0.8904\n",
      "Epoch 7/10\n",
      "1252/1252 [==============================] - 5s 4ms/step - loss: 0.0153 - accuracy: 0.9949 - recall_6: 0.9932 - precision_6: 0.8870 - val_loss: 0.0149 - val_accuracy: 0.9951 - val_recall_6: 0.9804 - val_precision_6: 0.8953\n",
      "Epoch 8/10\n",
      "1252/1252 [==============================] - 5s 4ms/step - loss: 0.0152 - accuracy: 0.9950 - recall_6: 0.9930 - precision_6: 0.8871 - val_loss: 0.0152 - val_accuracy: 0.9943 - val_recall_6: 0.9753 - val_precision_6: 0.8822\n",
      "Epoch 9/10\n",
      "1252/1252 [==============================] - 5s 4ms/step - loss: 0.0151 - accuracy: 0.9950 - recall_6: 0.9926 - precision_6: 0.8876 - val_loss: 0.0144 - val_accuracy: 0.9955 - val_recall_6: 0.9931 - val_precision_6: 0.8950\n",
      "Epoch 10/10\n",
      "1252/1252 [==============================] - 5s 4ms/step - loss: 0.0151 - accuracy: 0.9950 - recall_6: 0.9927 - precision_6: 0.8881 - val_loss: 0.0147 - val_accuracy: 0.9952 - val_recall_6: 0.9822 - val_precision_6: 0.8958\n",
      ">Saved models/model_stack_N2.h5\n"
     ]
    },
    {
     "name": "stderr",
     "output_type": "stream",
     "text": [
      "/home/administrator/.local/lib/python3.10/site-packages/keras/src/engine/training.py:3079: UserWarning: You are saving your model as an HDF5 file via `model.save()`. This file format is considered legacy. We recommend using instead the native Keras format, e.g. `model.save('my_model.keras')`.\n",
      "  saving_api.save_model(\n"
     ]
    }
   ],
   "source": [
    "model_N2 = fit_model_N2(X_df2_train, Y_df2_train)\n",
    "\n",
    "filename_N2 = 'models/model_stack_N2.h5'\n",
    "model_N2.save(filename_N2)\n",
    "print('>Saved %s' % filename_N2)"
   ]
  },
  {
   "cell_type": "code",
   "execution_count": 106,
   "id": "6d8fb8c4",
   "metadata": {},
   "outputs": [
    {
     "name": "stdout",
     "output_type": "stream",
     "text": [
      "Epoch 1/10\n",
      "19165/19165 [==============================] - 79s 4ms/step - loss: 0.0625 - accuracy: 0.9989 - recall_8: 0.9997 - precision_8: 0.9991 - val_loss: 0.1728 - val_accuracy: 0.9536 - val_recall_8: 0.9540 - val_precision_8: 0.9994\n",
      "Epoch 2/10\n",
      "19165/19165 [==============================] - 75s 4ms/step - loss: 0.0025 - accuracy: 0.9994 - recall_8: 0.9998 - precision_8: 0.9995 - val_loss: 0.1860 - val_accuracy: 0.9561 - val_recall_8: 0.9568 - val_precision_8: 0.9991\n",
      "Epoch 3/10\n",
      "19165/19165 [==============================] - 76s 4ms/step - loss: 0.0018 - accuracy: 0.9993 - recall_8: 0.9998 - precision_8: 0.9994 - val_loss: 0.2131 - val_accuracy: 0.9560 - val_recall_8: 0.9567 - val_precision_8: 0.9991\n",
      "Epoch 4/10\n",
      "19165/19165 [==============================] - 76s 4ms/step - loss: 0.0017 - accuracy: 0.9993 - recall_8: 0.9998 - precision_8: 0.9994 - val_loss: 0.2240 - val_accuracy: 0.9559 - val_recall_8: 0.9566 - val_precision_8: 0.9991\n",
      "Epoch 5/10\n",
      "19165/19165 [==============================] - 76s 4ms/step - loss: 0.0017 - accuracy: 0.9993 - recall_8: 0.9998 - precision_8: 0.9994 - val_loss: 0.3011 - val_accuracy: 0.9556 - val_recall_8: 0.9563 - val_precision_8: 0.9991\n",
      "Epoch 6/10\n",
      "19165/19165 [==============================] - 76s 4ms/step - loss: 0.0017 - accuracy: 0.9993 - recall_8: 0.9998 - precision_8: 0.9994 - val_loss: 0.0182 - val_accuracy: 0.9981 - val_recall_8: 0.9990 - val_precision_8: 0.9992\n",
      "Epoch 7/10\n",
      "19165/19165 [==============================] - 76s 4ms/step - loss: 0.0016 - accuracy: 0.9993 - recall_8: 0.9998 - precision_8: 0.9994 - val_loss: 0.0477 - val_accuracy: 0.9558 - val_recall_8: 0.9564 - val_precision_8: 0.9991\n",
      "Epoch 8/10\n",
      "19165/19165 [==============================] - 76s 4ms/step - loss: 0.0016 - accuracy: 0.9993 - recall_8: 0.9998 - precision_8: 0.9995 - val_loss: 0.0088 - val_accuracy: 0.9982 - val_recall_8: 0.9990 - val_precision_8: 0.9992\n",
      "Epoch 9/10\n",
      "19165/19165 [==============================] - 76s 4ms/step - loss: 0.0016 - accuracy: 0.9993 - recall_8: 0.9998 - precision_8: 0.9995 - val_loss: 0.0090 - val_accuracy: 0.9986 - val_recall_8: 0.9995 - val_precision_8: 0.9991\n",
      "Epoch 10/10\n",
      "19165/19165 [==============================] - 75s 4ms/step - loss: 0.0016 - accuracy: 0.9993 - recall_8: 0.9998 - precision_8: 0.9995 - val_loss: 0.0081 - val_accuracy: 0.9988 - val_recall_8: 0.9996 - val_precision_8: 0.9991\n",
      ">Saved models/model_stack_N3.h5\n"
     ]
    },
    {
     "name": "stderr",
     "output_type": "stream",
     "text": [
      "/home/administrator/.local/lib/python3.10/site-packages/keras/src/engine/training.py:3079: UserWarning: You are saving your model as an HDF5 file via `model.save()`. This file format is considered legacy. We recommend using instead the native Keras format, e.g. `model.save('my_model.keras')`.\n",
      "  saving_api.save_model(\n"
     ]
    }
   ],
   "source": [
    "model_N3 = fit_model_N3(X_df3_train, Y_df3_train)\n",
    "\n",
    "filename_N3 = 'models/model_stack_N3.h5'\n",
    "model_N3.save(filename_N3)\n",
    "print('>Saved %s' % filename_N3)"
   ]
  },
  {
   "cell_type": "code",
   "execution_count": 120,
   "id": "912aa351",
   "metadata": {},
   "outputs": [
    {
     "name": "stdout",
     "output_type": "stream",
     "text": [
      "Epoch 1/10\n",
      "10792/10792 [==============================] - 43s 4ms/step - loss: 0.0429 - accuracy: 0.9909 - recall_9: 0.9272 - precision_9: 0.9958 - val_loss: 0.2037 - val_accuracy: 0.9258 - val_recall_9: 0.3736 - val_precision_9: 0.9908\n",
      "Epoch 2/10\n",
      "10792/10792 [==============================] - 43s 4ms/step - loss: 0.0331 - accuracy: 0.9941 - recall_9: 0.9524 - precision_9: 0.9974 - val_loss: 0.2319 - val_accuracy: 0.9283 - val_recall_9: 0.3942 - val_precision_9: 0.9943\n",
      "Epoch 3/10\n",
      "10792/10792 [==============================] - 43s 4ms/step - loss: 0.0327 - accuracy: 0.9941 - recall_9: 0.9524 - precision_9: 0.9979 - val_loss: 0.4122 - val_accuracy: 0.9278 - val_recall_9: 0.3899 - val_precision_9: 0.9946\n",
      "Epoch 4/10\n",
      "10792/10792 [==============================] - 42s 4ms/step - loss: 0.0325 - accuracy: 0.9941 - recall_9: 0.9525 - precision_9: 0.9980 - val_loss: 0.3350 - val_accuracy: 0.9276 - val_recall_9: 0.3926 - val_precision_9: 0.9837\n",
      "Epoch 5/10\n",
      "10792/10792 [==============================] - 42s 4ms/step - loss: 0.0323 - accuracy: 0.9942 - recall_9: 0.9525 - precision_9: 0.9982 - val_loss: 0.3703 - val_accuracy: 0.9246 - val_recall_9: 0.3841 - val_precision_9: 0.9422\n",
      "Epoch 6/10\n",
      "10792/10792 [==============================] - 41s 4ms/step - loss: 0.0322 - accuracy: 0.9942 - recall_9: 0.9525 - precision_9: 0.9983 - val_loss: 0.5445 - val_accuracy: 0.9176 - val_recall_9: 0.3487 - val_precision_9: 0.8800\n",
      "Epoch 7/10\n",
      "10792/10792 [==============================] - 43s 4ms/step - loss: 0.0320 - accuracy: 0.9942 - recall_9: 0.9526 - precision_9: 0.9983 - val_loss: 0.4020 - val_accuracy: 0.9258 - val_recall_9: 0.3838 - val_precision_9: 0.9655\n",
      "Epoch 8/10\n",
      "10792/10792 [==============================] - 43s 4ms/step - loss: 0.0318 - accuracy: 0.9942 - recall_9: 0.9528 - precision_9: 0.9983 - val_loss: 0.4758 - val_accuracy: 0.9260 - val_recall_9: 0.3843 - val_precision_9: 0.9695\n",
      "Epoch 9/10\n",
      "10792/10792 [==============================] - 43s 4ms/step - loss: 0.0316 - accuracy: 0.9942 - recall_9: 0.9528 - precision_9: 0.9985 - val_loss: 0.5503 - val_accuracy: 0.9239 - val_recall_9: 0.3655 - val_precision_9: 0.9709\n",
      "Epoch 10/10\n",
      "10792/10792 [==============================] - 43s 4ms/step - loss: 0.0315 - accuracy: 0.9943 - recall_9: 0.9529 - precision_9: 0.9986 - val_loss: 0.6011 - val_accuracy: 0.9158 - val_recall_9: 0.2939 - val_precision_9: 0.9725\n",
      ">Saved models/model_stack_N4.h5\n"
     ]
    },
    {
     "name": "stderr",
     "output_type": "stream",
     "text": [
      "/home/administrator/.local/lib/python3.10/site-packages/keras/src/engine/training.py:3079: UserWarning: You are saving your model as an HDF5 file via `model.save()`. This file format is considered legacy. We recommend using instead the native Keras format, e.g. `model.save('my_model.keras')`.\n",
      "  saving_api.save_model(\n"
     ]
    }
   ],
   "source": [
    "model_N4 = fit_model_N4(X_df4_train, Y_df4_train)\n",
    "\n",
    "filename_N4 = 'models/model_stack_N4.h5'\n",
    "model_N4.save(filename_N4)\n",
    "print('>Saved %s' % filename_N4)"
   ]
  },
  {
   "cell_type": "code",
   "execution_count": 133,
   "id": "570a8073",
   "metadata": {},
   "outputs": [
    {
     "name": "stdout",
     "output_type": "stream",
     "text": [
      "Epoch 1/10\n",
      "8276/8276 [==============================] - 37s 4ms/step - loss: 0.1507 - accuracy: 0.9457 - recall_10: 0.9752 - precision_10: 0.9512 - val_loss: 0.1850 - val_accuracy: 0.9216 - val_recall_10: 0.9124 - val_precision_10: 0.9781\n",
      "Epoch 2/10\n",
      "8276/8276 [==============================] - 33s 4ms/step - loss: 0.0808 - accuracy: 0.9711 - recall_10: 0.9833 - precision_10: 0.9770 - val_loss: 0.2557 - val_accuracy: 0.8839 - val_recall_10: 0.8604 - val_precision_10: 0.9768\n",
      "Epoch 3/10\n",
      "8276/8276 [==============================] - 33s 4ms/step - loss: 0.0747 - accuracy: 0.9726 - recall_10: 0.9833 - precision_10: 0.9791 - val_loss: 0.2275 - val_accuracy: 0.8858 - val_recall_10: 0.8666 - val_precision_10: 0.9732\n",
      "Epoch 4/10\n",
      "8276/8276 [==============================] - 33s 4ms/step - loss: 0.0721 - accuracy: 0.9731 - recall_10: 0.9831 - precision_10: 0.9800 - val_loss: 0.2000 - val_accuracy: 0.8975 - val_recall_10: 0.8846 - val_precision_10: 0.9717\n",
      "Epoch 5/10\n",
      "8276/8276 [==============================] - 33s 4ms/step - loss: 0.0707 - accuracy: 0.9734 - recall_10: 0.9829 - precision_10: 0.9805 - val_loss: 0.2259 - val_accuracy: 0.8818 - val_recall_10: 0.8633 - val_precision_10: 0.9706\n",
      "Epoch 6/10\n",
      "8276/8276 [==============================] - 33s 4ms/step - loss: 0.0698 - accuracy: 0.9736 - recall_10: 0.9829 - precision_10: 0.9808 - val_loss: 0.2409 - val_accuracy: 0.8906 - val_recall_10: 0.8809 - val_precision_10: 0.9653\n",
      "Epoch 7/10\n",
      "8276/8276 [==============================] - 33s 4ms/step - loss: 0.0693 - accuracy: 0.9737 - recall_10: 0.9829 - precision_10: 0.9809 - val_loss: 0.2475 - val_accuracy: 0.8720 - val_recall_10: 0.8568 - val_precision_10: 0.9627\n",
      "Epoch 8/10\n",
      "8276/8276 [==============================] - 33s 4ms/step - loss: 0.0686 - accuracy: 0.9738 - recall_10: 0.9829 - precision_10: 0.9811 - val_loss: 0.3045 - val_accuracy: 0.8618 - val_recall_10: 0.8427 - val_precision_10: 0.9622\n",
      "Epoch 9/10\n",
      "8276/8276 [==============================] - 33s 4ms/step - loss: 0.0686 - accuracy: 0.9740 - recall_10: 0.9831 - precision_10: 0.9811 - val_loss: 0.3339 - val_accuracy: 0.8585 - val_recall_10: 0.8479 - val_precision_10: 0.9519\n",
      "Epoch 10/10\n",
      "8276/8276 [==============================] - 33s 4ms/step - loss: 0.0683 - accuracy: 0.9742 - recall_10: 0.9831 - precision_10: 0.9813 - val_loss: 0.3301 - val_accuracy: 0.8564 - val_recall_10: 0.8443 - val_precision_10: 0.9525\n",
      ">Saved models/model_stack_N5.h5\n"
     ]
    },
    {
     "name": "stderr",
     "output_type": "stream",
     "text": [
      "/home/administrator/.local/lib/python3.10/site-packages/keras/src/engine/training.py:3079: UserWarning: You are saving your model as an HDF5 file via `model.save()`. This file format is considered legacy. We recommend using instead the native Keras format, e.g. `model.save('my_model.keras')`.\n",
      "  saving_api.save_model(\n"
     ]
    }
   ],
   "source": [
    "model_N5 = fit_model_N5(X_df5_train, Y_df5_train)\n",
    "\n",
    "filename_N5 = 'models/model_stack_N5.h5'\n",
    "model_N5.save(filename_N5)\n",
    "print('>Saved %s' % filename_N5)"
   ]
  },
  {
   "cell_type": "code",
   "execution_count": 50,
   "id": "fb0f9e72",
   "metadata": {},
   "outputs": [],
   "source": [
    "from keras.models import load_model\n",
    "from numpy import argmax\n",
    "from sklearn.model_selection import train_test_split\n",
    "from sklearn.metrics import accuracy_score, precision_score, recall_score, f1_score, confusion_matrix, classification_report"
   ]
  },
  {
   "cell_type": "code",
   "execution_count": 92,
   "id": "c1249eeb",
   "metadata": {},
   "outputs": [],
   "source": [
    "filename_model_N1 = 'models/model_stack_N1.h5'\n",
    "loaded_model_N1 = load_model(filename_model_N1)"
   ]
  },
  {
   "cell_type": "code",
   "execution_count": 78,
   "id": "ac2066cd",
   "metadata": {},
   "outputs": [],
   "source": [
    "filename_model_N2 = 'models/model_stack_N2.h5'\n",
    "loaded_model_N2 = load_model(filename_model_N2)"
   ]
  },
  {
   "cell_type": "code",
   "execution_count": 107,
   "id": "672d2196",
   "metadata": {},
   "outputs": [],
   "source": [
    "filename_model_N3 = 'models/model_stack_N3.h5'\n",
    "loaded_model_N3 = load_model(filename_model_N3)"
   ]
  },
  {
   "cell_type": "code",
   "execution_count": 121,
   "id": "e7702b63",
   "metadata": {},
   "outputs": [],
   "source": [
    "filename_model_N4 = 'models/model_stack_N4.h5'\n",
    "loaded_model_N4 = load_model(filename_model_N4)"
   ]
  },
  {
   "cell_type": "code",
   "execution_count": 134,
   "id": "6215e53e",
   "metadata": {},
   "outputs": [],
   "source": [
    "filename_model_N5 = 'models/model_stack_N5.h5'\n",
    "loaded_model_N5 = load_model(filename_model_N5)"
   ]
  },
  {
   "cell_type": "code",
   "execution_count": 93,
   "id": "5bf00b3c",
   "metadata": {},
   "outputs": [
    {
     "name": "stdout",
     "output_type": "stream",
     "text": [
      "528796/528796 [==============================] - 1112s 2ms/step - loss: 0.0819 - accuracy: 0.9726 - recall_7: 0.9813 - precision_7: 0.9779\n",
      "Test loss: 0.08191586285829544\n",
      "Test accuracy: 0.9726110696792603\n",
      "Test recall: 0.9812858700752258\n",
      "Test precision: 0.9778600931167603\n"
     ]
    }
   ],
   "source": [
    "score_N1 = loaded_model_N1.evaluate(X_df1_test, Y_df1_test, verbose=1) \n",
    "\n",
    "print('Test loss:', score_N1[0]) \n",
    "print('Test accuracy:', score_N1[1])\n",
    "print('Test recall:', score_N1[2]) \n",
    "print('Test precision:', score_N1[3])"
   ]
  },
  {
   "cell_type": "code",
   "execution_count": 136,
   "id": "5a19e9e4",
   "metadata": {},
   "outputs": [
    {
     "name": "stdout",
     "output_type": "stream",
     "text": [
      "16764/16764 [==============================] - 35s 2ms/step - loss: 0.5288 - accuracy: 0.8373 - recall_7: 0.5292 - precision_7: 0.1208\n",
      "Test loss: 0.5287559628486633\n",
      "Test accuracy: 0.8372621536254883\n",
      "Test recall: 0.5292165875434875\n",
      "Test precision: 0.12078981846570969\n"
     ]
    }
   ],
   "source": [
    "score_N1_N2 = loaded_model_N1.evaluate(X_df2_test, Y_df2_test, verbose=1) \n",
    "\n",
    "print('Test loss:', score_N1_N2[0]) \n",
    "print('Test accuracy:', score_N1_N2[1])\n",
    "print('Test recall:', score_N1_N2[2]) \n",
    "print('Test precision:', score_N1_N2[3])"
   ]
  },
  {
   "cell_type": "code",
   "execution_count": 137,
   "id": "d4208ce5",
   "metadata": {},
   "outputs": [
    {
     "name": "stdout",
     "output_type": "stream",
     "text": [
      "256670/256670 [==============================] - 552s 2ms/step - loss: 0.1243 - accuracy: 0.9625 - recall_7: 0.9634 - precision_7: 0.9989\n",
      "Test loss: 0.12428651750087738\n",
      "Test accuracy: 0.9624519348144531\n",
      "Test recall: 0.9633564949035645\n",
      "Test precision: 0.9988957047462463\n"
     ]
    }
   ],
   "source": [
    "score_N1_N3 = loaded_model_N1.evaluate(X_df3_test, Y_df3_test, verbose=1) \n",
    "\n",
    "print('Test loss:', score_N1_N3[0]) \n",
    "print('Test accuracy:', score_N1_N3[1])\n",
    "print('Test recall:', score_N1_N3[2]) \n",
    "print('Test precision:', score_N1_N3[3])"
   ]
  },
  {
   "cell_type": "code",
   "execution_count": 138,
   "id": "944e957f",
   "metadata": {},
   "outputs": [
    {
     "name": "stdout",
     "output_type": "stream",
     "text": [
      "144532/144532 [==============================] - 301s 2ms/step - loss: 3.1867 - accuracy: 0.6546 - recall_7: 0.9560 - precision_7: 0.2497\n",
      "Test loss: 3.186713933944702\n",
      "Test accuracy: 0.6545999646186829\n",
      "Test recall: 0.9559869170188904\n",
      "Test precision: 0.24965937435626984\n"
     ]
    }
   ],
   "source": [
    "score_N1_N4 = loaded_model_N1.evaluate(X_df4_test, Y_df4_test, verbose=1) \n",
    "\n",
    "print('Test loss:', score_N1_N4[0]) \n",
    "print('Test accuracy:', score_N1_N4[1])\n",
    "print('Test recall:', score_N1_N4[2]) \n",
    "print('Test precision:', score_N1_N4[3])"
   ]
  },
  {
   "cell_type": "code",
   "execution_count": 139,
   "id": "650c6a61",
   "metadata": {},
   "outputs": [
    {
     "name": "stdout",
     "output_type": "stream",
     "text": [
      "110834/110834 [==============================] - 238s 2ms/step - loss: 2.4230 - accuracy: 0.4873 - recall_7: 0.5459 - precision_7: 0.6840\n",
      "Test loss: 2.423003673553467\n",
      "Test accuracy: 0.4872729182243347\n",
      "Test recall: 0.5459051728248596\n",
      "Test precision: 0.6839985251426697\n"
     ]
    }
   ],
   "source": [
    "score_N1_N5 = loaded_model_N1.evaluate(X_df5_test, Y_df5_test, verbose=1) \n",
    "\n",
    "print('Test loss:', score_N1_N5[0]) \n",
    "print('Test accuracy:', score_N1_N5[1])\n",
    "print('Test recall:', score_N1_N5[2]) \n",
    "print('Test precision:', score_N1_N5[3])"
   ]
  },
  {
   "cell_type": "code",
   "execution_count": 79,
   "id": "fa799782",
   "metadata": {},
   "outputs": [
    {
     "name": "stdout",
     "output_type": "stream",
     "text": [
      "16764/16764 [==============================] - 39s 2ms/step - loss: 0.0161 - accuracy: 0.9945 - recall_6: 0.9850 - precision_6: 0.8827\n",
      "Test loss: 0.016064297407865524\n",
      "Test accuracy: 0.9945099353790283\n",
      "Test recall: 0.9850450754165649\n",
      "Test precision: 0.8827157616615295\n"
     ]
    }
   ],
   "source": [
    "score_N2 = loaded_model_N2.evaluate(X_df2_test, Y_df2_test, verbose=1) \n",
    "\n",
    "print('Test loss:', score_N2[0]) \n",
    "print('Test accuracy:', score_N2[1])\n",
    "print('Test recall:', score_N2[2]) \n",
    "print('Test precision:', score_N2[3])"
   ]
  },
  {
   "cell_type": "code",
   "execution_count": 140,
   "id": "b4c0d404",
   "metadata": {},
   "outputs": [
    {
     "name": "stdout",
     "output_type": "stream",
     "text": [
      "528796/528796 [==============================] - 1098s 2ms/step - loss: 6.7417 - accuracy: 0.3067 - recall_6: 0.0199 - precision_6: 0.2620\n",
      "Test loss: 6.741669178009033\n",
      "Test accuracy: 0.3066641390323639\n",
      "Test recall: 0.019897790625691414\n",
      "Test precision: 0.26195186376571655\n"
     ]
    }
   ],
   "source": [
    "score_N2_N1 = loaded_model_N2.evaluate(X_df1_test, Y_df1_test, verbose=1) \n",
    "\n",
    "print('Test loss:', score_N2_N1[0]) \n",
    "print('Test accuracy:', score_N2_N1[1])\n",
    "print('Test recall:', score_N2_N1[2]) \n",
    "print('Test precision:', score_N2_N1[3])"
   ]
  },
  {
   "cell_type": "code",
   "execution_count": 141,
   "id": "33193c30",
   "metadata": {},
   "outputs": [
    {
     "name": "stdout",
     "output_type": "stream",
     "text": [
      "256670/256670 [==============================] - 521s 2ms/step - loss: 8.7400 - accuracy: 0.0648 - recall_6: 0.0611 - precision_6: 0.9957\n",
      "Test loss: 8.73996639251709\n",
      "Test accuracy: 0.06481561064720154\n",
      "Test recall: 0.06108279526233673\n",
      "Test precision: 0.9957028031349182\n"
     ]
    }
   ],
   "source": [
    "score_N2_N3 = loaded_model_N2.evaluate(X_df3_test, Y_df3_test, verbose=1) \n",
    "\n",
    "print('Test loss:', score_N2_N3[0]) \n",
    "print('Test accuracy:', score_N2_N3[1])\n",
    "print('Test recall:', score_N2_N3[2]) \n",
    "print('Test precision:', score_N2_N3[3])"
   ]
  },
  {
   "cell_type": "code",
   "execution_count": 142,
   "id": "ae6e1958",
   "metadata": {},
   "outputs": [
    {
     "name": "stdout",
     "output_type": "stream",
     "text": [
      "144532/144532 [==============================] - 285s 2ms/step - loss: 2.0998 - accuracy: 0.7085 - recall_6: 0.0117 - precision_6: 0.0079\n",
      "Test loss: 2.0998098850250244\n",
      "Test accuracy: 0.7084589600563049\n",
      "Test recall: 0.011738280765712261\n",
      "Test precision: 0.007900397293269634\n"
     ]
    }
   ],
   "source": [
    "score_N2_N4 = loaded_model_N2.evaluate(X_df4_test, Y_df4_test, verbose=1) \n",
    "\n",
    "print('Test loss:', score_N2_N4[0]) \n",
    "print('Test accuracy:', score_N2_N4[1])\n",
    "print('Test recall:', score_N2_N4[2]) \n",
    "print('Test precision:', score_N2_N4[3])"
   ]
  },
  {
   "cell_type": "code",
   "execution_count": 143,
   "id": "e0100b56",
   "metadata": {},
   "outputs": [
    {
     "name": "stdout",
     "output_type": "stream",
     "text": [
      "110834/110834 [==============================] - 224s 2ms/step - loss: 11.3103 - accuracy: 0.2648 - recall_6: 0.0020 - precision_6: 0.1198\n",
      "Test loss: 11.310325622558594\n",
      "Test accuracy: 0.264839768409729\n",
      "Test recall: 0.0020010354928672314\n",
      "Test precision: 0.11975546926259995\n"
     ]
    }
   ],
   "source": [
    "score_N2_N5 = loaded_model_N2.evaluate(X_df5_test, Y_df5_test, verbose=1) \n",
    "\n",
    "print('Test loss:', score_N2_N5[0]) \n",
    "print('Test accuracy:', score_N2_N5[1])\n",
    "print('Test recall:', score_N2_N5[2]) \n",
    "print('Test precision:', score_N2_N5[3])"
   ]
  },
  {
   "cell_type": "code",
   "execution_count": 108,
   "id": "c8f9addb",
   "metadata": {},
   "outputs": [
    {
     "name": "stdout",
     "output_type": "stream",
     "text": [
      "256670/256670 [==============================] - 553s 2ms/step - loss: 0.0078 - accuracy: 0.9988 - recall_8: 0.9996 - precision_8: 0.9992\n",
      "Test loss: 0.00780110526829958\n",
      "Test accuracy: 0.9988393187522888\n",
      "Test recall: 0.9996300339698792\n",
      "Test precision: 0.999204695224762\n"
     ]
    }
   ],
   "source": [
    "score_N3 = loaded_model_N3.evaluate(X_df3_test, Y_df3_test, verbose=1) \n",
    "\n",
    "print('Test loss:', score_N3[0]) \n",
    "print('Test accuracy:', score_N3[1])\n",
    "print('Test recall:', score_N3[2]) \n",
    "print('Test precision:', score_N3[3])"
   ]
  },
  {
   "cell_type": "code",
   "execution_count": 144,
   "id": "62a9b24c",
   "metadata": {},
   "outputs": [
    {
     "name": "stdout",
     "output_type": "stream",
     "text": [
      "528796/528796 [==============================] - 1087s 2ms/step - loss: 1.5118 - accuracy: 0.7682 - recall_8: 0.9736 - precision_8: 0.7526\n",
      "Test loss: 1.5118283033370972\n",
      "Test accuracy: 0.7681609988212585\n",
      "Test recall: 0.9735615849494934\n",
      "Test precision: 0.7525999546051025\n"
     ]
    }
   ],
   "source": [
    "score_N3_N1 = loaded_model_N3.evaluate(X_df1_test, Y_df1_test, verbose=1) \n",
    "\n",
    "print('Test loss:', score_N3_N1[0]) \n",
    "print('Test accuracy:', score_N3_N1[1])\n",
    "print('Test recall:', score_N3_N1[2]) \n",
    "print('Test precision:', score_N3_N1[3])"
   ]
  },
  {
   "cell_type": "code",
   "execution_count": 145,
   "id": "49763cc6",
   "metadata": {},
   "outputs": [
    {
     "name": "stdout",
     "output_type": "stream",
     "text": [
      "16764/16764 [==============================] - 31s 2ms/step - loss: 8.2805 - accuracy: 0.1194 - recall_8: 0.9830 - precision_8: 0.0404\n",
      "Test loss: 8.280501365661621\n",
      "Test accuracy: 0.11937265843153\n",
      "Test recall: 0.9830147624015808\n",
      "Test precision: 0.04035617411136627\n"
     ]
    }
   ],
   "source": [
    "score_N3_N2 = loaded_model_N3.evaluate(X_df2_test, Y_df2_test, verbose=1) \n",
    "\n",
    "print('Test loss:', score_N3_N2[0]) \n",
    "print('Test accuracy:', score_N3_N2[1])\n",
    "print('Test recall:', score_N3_N2[2]) \n",
    "print('Test precision:', score_N3_N2[3])"
   ]
  },
  {
   "cell_type": "code",
   "execution_count": 146,
   "id": "669b92f5",
   "metadata": {},
   "outputs": [
    {
     "name": "stdout",
     "output_type": "stream",
     "text": [
      "144532/144532 [==============================] - 290s 2ms/step - loss: 5.8221 - accuracy: 0.3681 - recall_8: 0.9677 - precision_8: 0.1543\n",
      "Test loss: 5.822056293487549\n",
      "Test accuracy: 0.36809244751930237\n",
      "Test recall: 0.9676521420478821\n",
      "Test precision: 0.1542741358280182\n"
     ]
    }
   ],
   "source": [
    "score_N3_N4 = loaded_model_N3.evaluate(X_df4_test, Y_df4_test, verbose=1) \n",
    "\n",
    "print('Test loss:', score_N3_N4[0]) \n",
    "print('Test accuracy:', score_N3_N4[1])\n",
    "print('Test recall:', score_N3_N4[2]) \n",
    "print('Test precision:', score_N3_N4[3])"
   ]
  },
  {
   "cell_type": "code",
   "execution_count": 147,
   "id": "6bc7e727",
   "metadata": {},
   "outputs": [
    {
     "name": "stdout",
     "output_type": "stream",
     "text": [
      "110834/110834 [==============================] - 219s 2ms/step - loss: 1.4831 - accuracy: 0.7266 - recall_8: 0.9704 - precision_8: 0.7366\n",
      "Test loss: 1.4831093549728394\n",
      "Test accuracy: 0.7266438603401184\n",
      "Test recall: 0.9704431891441345\n",
      "Test precision: 0.7366108894348145\n"
     ]
    }
   ],
   "source": [
    "score_N3_N5 = loaded_model_N3.evaluate(X_df5_test, Y_df5_test, verbose=1) \n",
    "\n",
    "print('Test loss:', score_N3_N5[0]) \n",
    "print('Test accuracy:', score_N3_N5[1])\n",
    "print('Test recall:', score_N3_N5[2]) \n",
    "print('Test precision:', score_N3_N5[3])"
   ]
  },
  {
   "cell_type": "code",
   "execution_count": 122,
   "id": "4e44375b",
   "metadata": {},
   "outputs": [
    {
     "name": "stdout",
     "output_type": "stream",
     "text": [
      "144532/144532 [==============================] - 301s 2ms/step - loss: 0.6675 - accuracy: 0.9098 - recall_9: 0.2945 - precision_9: 0.8397\n",
      "Test loss: 0.6674874424934387\n",
      "Test accuracy: 0.9098104238510132\n",
      "Test recall: 0.2944687008857727\n",
      "Test precision: 0.8397464752197266\n"
     ]
    }
   ],
   "source": [
    "score_N4 = loaded_model_N4.evaluate(X_df4_test, Y_df4_test, verbose=1) \n",
    "\n",
    "print('Test loss:', score_N4[0]) \n",
    "print('Test accuracy:', score_N4[1])\n",
    "print('Test recall:', score_N4[2]) \n",
    "print('Test precision:', score_N4[3])"
   ]
  },
  {
   "cell_type": "code",
   "execution_count": 148,
   "id": "acdb22c8",
   "metadata": {},
   "outputs": [
    {
     "name": "stdout",
     "output_type": "stream",
     "text": [
      "528796/528796 [==============================] - 1067s 2ms/step - loss: 3.3795 - accuracy: 0.4060 - recall_9: 0.1390 - precision_9: 0.8391\n",
      "Test loss: 3.3795409202575684\n",
      "Test accuracy: 0.406015008687973\n",
      "Test recall: 0.13896755874156952\n",
      "Test precision: 0.8390587568283081\n"
     ]
    }
   ],
   "source": [
    "score_N4_N1 = loaded_model_N4.evaluate(X_df1_test, Y_df1_test, verbose=1) \n",
    "\n",
    "print('Test loss:', score_N4_N1[0]) \n",
    "print('Test accuracy:', score_N4_N1[1])\n",
    "print('Test recall:', score_N4_N1[2]) \n",
    "print('Test precision:', score_N4_N1[3])"
   ]
  },
  {
   "cell_type": "code",
   "execution_count": 149,
   "id": "7219c8a8",
   "metadata": {},
   "outputs": [
    {
     "name": "stdout",
     "output_type": "stream",
     "text": [
      "16764/16764 [==============================] - 34s 2ms/step - loss: 1.6200 - accuracy: 0.7251 - recall_9: 0.0418 - precision_9: 0.0065\n",
      "Test loss: 1.6199594736099243\n",
      "Test accuracy: 0.7250778675079346\n",
      "Test recall: 0.04179459065198898\n",
      "Test precision: 0.006544258911162615\n"
     ]
    }
   ],
   "source": [
    "score_N4_N2 = loaded_model_N4.evaluate(X_df2_test, Y_df2_test, verbose=1) \n",
    "\n",
    "print('Test loss:', score_N4_N2[0]) \n",
    "print('Test accuracy:', score_N4_N2[1])\n",
    "print('Test recall:', score_N4_N2[2]) \n",
    "print('Test precision:', score_N4_N2[3])"
   ]
  },
  {
   "cell_type": "code",
   "execution_count": 150,
   "id": "734270bd",
   "metadata": {},
   "outputs": [
    {
     "name": "stdout",
     "output_type": "stream",
     "text": [
      "256670/256670 [==============================] - 525s 2ms/step - loss: 2.9405 - accuracy: 0.3853 - recall_9: 0.3861 - precision_9: 0.9911\n",
      "Test loss: 2.94052791595459\n",
      "Test accuracy: 0.3853025734424591\n",
      "Test recall: 0.38614335656166077\n",
      "Test precision: 0.9910997152328491\n"
     ]
    }
   ],
   "source": [
    "score_N4_N3 = loaded_model_N4.evaluate(X_df3_test, Y_df3_test, verbose=1) \n",
    "\n",
    "print('Test loss:', score_N4_N3[0]) \n",
    "print('Test accuracy:', score_N4_N3[1])\n",
    "print('Test recall:', score_N4_N3[2]) \n",
    "print('Test precision:', score_N4_N3[3])"
   ]
  },
  {
   "cell_type": "code",
   "execution_count": 151,
   "id": "726410e8",
   "metadata": {},
   "outputs": [
    {
     "name": "stdout",
     "output_type": "stream",
     "text": [
      "110834/110834 [==============================] - 221s 2ms/step - loss: 3.2412 - accuracy: 0.3508 - recall_9: 0.1952 - precision_9: 0.6857\n",
      "Test loss: 3.2412078380584717\n",
      "Test accuracy: 0.35083773732185364\n",
      "Test recall: 0.19522446393966675\n",
      "Test precision: 0.6857411861419678\n"
     ]
    }
   ],
   "source": [
    "score_N4_N5 = loaded_model_N4.evaluate(X_df5_test, Y_df5_test, verbose=1) \n",
    "\n",
    "print('Test loss:', score_N4_N5[0]) \n",
    "print('Test accuracy:', score_N4_N5[1])\n",
    "print('Test recall:', score_N4_N5[2]) \n",
    "print('Test precision:', score_N4_N5[3])"
   ]
  },
  {
   "cell_type": "code",
   "execution_count": 135,
   "id": "ffa72684",
   "metadata": {},
   "outputs": [
    {
     "name": "stdout",
     "output_type": "stream",
     "text": [
      "110834/110834 [==============================] - 202s 2ms/step - loss: 0.2816 - accuracy: 0.8762 - recall_10: 0.8483 - precision_10: 0.9783\n",
      "Test loss: 0.28159093856811523\n",
      "Test accuracy: 0.8762013912200928\n",
      "Test recall: 0.8482809662818909\n",
      "Test precision: 0.9782982468605042\n"
     ]
    }
   ],
   "source": [
    "score_N5 = loaded_model_N5.evaluate(X_df5_test, Y_df5_test, verbose=1) \n",
    "\n",
    "print('Test loss:', score_N5[0]) \n",
    "print('Test accuracy:', score_N5[1])\n",
    "print('Test recall:', score_N5[2]) \n",
    "print('Test precision:', score_N5[3])"
   ]
  },
  {
   "cell_type": "code",
   "execution_count": 152,
   "id": "e1537163",
   "metadata": {},
   "outputs": [
    {
     "name": "stdout",
     "output_type": "stream",
     "text": [
      "528796/528796 [==============================] - 1101s 2ms/step - loss: 2.1116 - accuracy: 0.3266 - recall_10: 0.2174 - precision_10: 0.4927\n",
      "Test loss: 2.11163592338562\n",
      "Test accuracy: 0.32655787467956543\n",
      "Test recall: 0.21739248931407928\n",
      "Test precision: 0.4927091896533966\n"
     ]
    }
   ],
   "source": [
    "score_N5_N1 = loaded_model_N5.evaluate(X_df1_test, Y_df1_test, verbose=1) \n",
    "\n",
    "print('Test loss:', score_N5_N1[0]) \n",
    "print('Test accuracy:', score_N5_N1[1])\n",
    "print('Test recall:', score_N5_N1[2]) \n",
    "print('Test precision:', score_N5_N1[3])"
   ]
  },
  {
   "cell_type": "code",
   "execution_count": 153,
   "id": "22edd52d",
   "metadata": {},
   "outputs": [
    {
     "name": "stdout",
     "output_type": "stream",
     "text": [
      "16764/16764 [==============================] - 37s 2ms/step - loss: 2.3122 - accuracy: 0.4360 - recall_10: 0.2483 - precision_10: 0.0172\n",
      "Test loss: 2.312206983566284\n",
      "Test accuracy: 0.4359859228134155\n",
      "Test recall: 0.24834109842777252\n",
      "Test precision: 0.01715204305946827\n"
     ]
    }
   ],
   "source": [
    "score_N5_N2 = loaded_model_N5.evaluate(X_df2_test, Y_df2_test, verbose=1) \n",
    "\n",
    "print('Test loss:', score_N5_N2[0]) \n",
    "print('Test accuracy:', score_N5_N2[1])\n",
    "print('Test recall:', score_N5_N2[2]) \n",
    "print('Test precision:', score_N5_N2[3])"
   ]
  },
  {
   "cell_type": "code",
   "execution_count": 154,
   "id": "b210bdf8",
   "metadata": {},
   "outputs": [
    {
     "name": "stdout",
     "output_type": "stream",
     "text": [
      "256670/256670 [==============================] - 545s 2ms/step - loss: 8.2472 - accuracy: 0.0042 - recall_10: 1.1004e-06 - precision_10: 0.0219\n",
      "Test loss: 8.247154235839844\n",
      "Test accuracy: 0.004207381047308445\n",
      "Test recall: 1.1004499356204178e-06\n",
      "Test precision: 0.021897809579968452\n"
     ]
    }
   ],
   "source": [
    "score_N5_N3 = loaded_model_N5.evaluate(X_df3_test, Y_df3_test, verbose=1) \n",
    "\n",
    "print('Test loss:', score_N5_N3[0]) \n",
    "print('Test accuracy:', score_N5_N3[1])\n",
    "print('Test recall:', score_N5_N3[2]) \n",
    "print('Test precision:', score_N5_N3[3])"
   ]
  },
  {
   "cell_type": "code",
   "execution_count": 155,
   "id": "2c05ab7e",
   "metadata": {},
   "outputs": [
    {
     "name": "stdout",
     "output_type": "stream",
     "text": [
      "144532/144532 [==============================] - 291s 2ms/step - loss: 3.2373 - accuracy: 0.5704 - recall_10: 0.2924 - precision_10: 0.0910\n",
      "Test loss: 3.2372970581054688\n",
      "Test accuracy: 0.5704246163368225\n",
      "Test recall: 0.2924489974975586\n",
      "Test precision: 0.09101997315883636\n"
     ]
    }
   ],
   "source": [
    "score_N5_N4 = loaded_model_N5.evaluate(X_df4_test, Y_df4_test, verbose=1) \n",
    "\n",
    "print('Test loss:', score_N5_N4[0]) \n",
    "print('Test accuracy:', score_N5_N4[1])\n",
    "print('Test recall:', score_N5_N4[2]) \n",
    "print('Test precision:', score_N5_N4[3])"
   ]
  },
  {
   "cell_type": "code",
   "execution_count": null,
   "id": "fd113fe4",
   "metadata": {},
   "outputs": [],
   "source": []
  }
 ],
 "metadata": {
  "kernelspec": {
   "display_name": "Python 3 (ipykernel)",
   "language": "python",
   "name": "python3"
  },
  "language_info": {
   "codemirror_mode": {
    "name": "ipython",
    "version": 3
   },
   "file_extension": ".py",
   "mimetype": "text/x-python",
   "name": "python",
   "nbconvert_exporter": "python",
   "pygments_lexer": "ipython3",
   "version": "3.10.12"
  }
 },
 "nbformat": 4,
 "nbformat_minor": 5
}
