{
 "cells": [
  {
   "cell_type": "code",
   "execution_count": 2,
   "id": "58e22322",
   "metadata": {},
   "outputs": [],
   "source": [
    "import pandas as pd\n",
    "import numpy as np\n",
    "from sklearn.model_selection import train_test_split"
   ]
  },
  {
   "cell_type": "code",
   "execution_count": 5,
   "id": "a2bbe221",
   "metadata": {},
   "outputs": [
    {
     "name": "stdout",
     "output_type": "stream",
     "text": [
      "<class 'pandas.core.frame.DataFrame'>\n",
      "Index: 1251648 entries, 1605655 to 1597649\n",
      "Data columns (total 40 columns):\n",
      " #   Column                       Non-Null Count    Dtype  \n",
      "---  ------                       --------------    -----  \n",
      " 0   PROTOCOL                     1251648 non-null  int16  \n",
      " 1   L7_PROTO                     1251648 non-null  float32\n",
      " 2   IN_BYTES                     1251648 non-null  int32  \n",
      " 3   IN_PKTS                      1251648 non-null  int16  \n",
      " 4   OUT_BYTES                    1251648 non-null  int32  \n",
      " 5   OUT_PKTS                     1251648 non-null  int16  \n",
      " 6   TCP_FLAGS                    1251648 non-null  int8   \n",
      " 7   CLIENT_TCP_FLAGS             1251648 non-null  int8   \n",
      " 8   SERVER_TCP_FLAGS             1251648 non-null  int8   \n",
      " 9   FLOW_DURATION_MILLISECONDS   1251648 non-null  int32  \n",
      " 10  DURATION_IN                  1251648 non-null  int16  \n",
      " 11  DURATION_OUT                 1251648 non-null  int16  \n",
      " 12  MIN_TTL                      1251648 non-null  int16  \n",
      " 13  MAX_TTL                      1251648 non-null  int16  \n",
      " 14  LONGEST_FLOW_PKT             1251648 non-null  int16  \n",
      " 15  SHORTEST_FLOW_PKT            1251648 non-null  int16  \n",
      " 16  MIN_IP_PKT_LEN               1251648 non-null  int16  \n",
      " 17  MAX_IP_PKT_LEN               1251648 non-null  int16  \n",
      " 18  SRC_TO_DST_SECOND_BYTES      1251648 non-null  float32\n",
      " 19  DST_TO_SRC_SECOND_BYTES      1251648 non-null  float32\n",
      " 20  RETRANSMITTED_IN_BYTES       1251648 non-null  int32  \n",
      " 21  RETRANSMITTED_IN_PKTS        1251648 non-null  int16  \n",
      " 22  RETRANSMITTED_OUT_BYTES      1251648 non-null  int32  \n",
      " 23  RETRANSMITTED_OUT_PKTS       1251648 non-null  int16  \n",
      " 24  SRC_TO_DST_AVG_THROUGHPUT    1251648 non-null  int64  \n",
      " 25  DST_TO_SRC_AVG_THROUGHPUT    1251648 non-null  int64  \n",
      " 26  NUM_PKTS_UP_TO_128_BYTES     1251648 non-null  int16  \n",
      " 27  NUM_PKTS_128_TO_256_BYTES    1251648 non-null  int16  \n",
      " 28  NUM_PKTS_256_TO_512_BYTES    1251648 non-null  int16  \n",
      " 29  NUM_PKTS_512_TO_1024_BYTES   1251648 non-null  int16  \n",
      " 30  NUM_PKTS_1024_TO_1514_BYTES  1251648 non-null  int16  \n",
      " 31  TCP_WIN_MAX_IN               1251648 non-null  int32  \n",
      " 32  TCP_WIN_MAX_OUT              1251648 non-null  int32  \n",
      " 33  ICMP_TYPE                    1251648 non-null  int32  \n",
      " 34  ICMP_IPV4_TYPE               1251648 non-null  int16  \n",
      " 35  DNS_QUERY_ID                 1251648 non-null  int32  \n",
      " 36  DNS_QUERY_TYPE               1251648 non-null  int32  \n",
      " 37  DNS_TTL_ANSWER               1251648 non-null  int64  \n",
      " 38  FTP_COMMAND_RET_CODE         1251648 non-null  float32\n",
      " 39  Label                        1251648 non-null  int8   \n",
      "dtypes: float32(4), int16(19), int32(10), int64(3), int8(4)\n",
      "memory usage: 155.2 MB\n"
     ]
    }
   ],
   "source": [
    "df1 = pd.read_parquet('/home/administrator/dataset/NF-UNSW-NB15/NF-UNSW-NB15-V2_train.parquet', engine='pyarrow')\n",
    "\n",
    "df1.info()"
   ]
  },
  {
   "cell_type": "code",
   "execution_count": 6,
   "id": "e61ae714",
   "metadata": {},
   "outputs": [
    {
     "name": "stdout",
     "output_type": "stream",
     "text": [
      "<class 'pandas.core.frame.DataFrame'>\n",
      "Index: 59603 entries, 801769 to 1546978\n",
      "Data columns (total 40 columns):\n",
      " #   Column                       Non-Null Count  Dtype  \n",
      "---  ------                       --------------  -----  \n",
      " 0   PROTOCOL                     59603 non-null  int16  \n",
      " 1   L7_PROTO                     59603 non-null  float32\n",
      " 2   IN_BYTES                     59603 non-null  int32  \n",
      " 3   IN_PKTS                      59603 non-null  int16  \n",
      " 4   OUT_BYTES                    59603 non-null  int32  \n",
      " 5   OUT_PKTS                     59603 non-null  int16  \n",
      " 6   TCP_FLAGS                    59603 non-null  int8   \n",
      " 7   CLIENT_TCP_FLAGS             59603 non-null  int8   \n",
      " 8   SERVER_TCP_FLAGS             59603 non-null  int8   \n",
      " 9   FLOW_DURATION_MILLISECONDS   59603 non-null  int32  \n",
      " 10  DURATION_IN                  59603 non-null  int16  \n",
      " 11  DURATION_OUT                 59603 non-null  int16  \n",
      " 12  MIN_TTL                      59603 non-null  int16  \n",
      " 13  MAX_TTL                      59603 non-null  int16  \n",
      " 14  LONGEST_FLOW_PKT             59603 non-null  int16  \n",
      " 15  SHORTEST_FLOW_PKT            59603 non-null  int16  \n",
      " 16  MIN_IP_PKT_LEN               59603 non-null  int16  \n",
      " 17  MAX_IP_PKT_LEN               59603 non-null  int16  \n",
      " 18  SRC_TO_DST_SECOND_BYTES      59603 non-null  float32\n",
      " 19  DST_TO_SRC_SECOND_BYTES      59603 non-null  float32\n",
      " 20  RETRANSMITTED_IN_BYTES       59603 non-null  int32  \n",
      " 21  RETRANSMITTED_IN_PKTS        59603 non-null  int16  \n",
      " 22  RETRANSMITTED_OUT_BYTES      59603 non-null  int32  \n",
      " 23  RETRANSMITTED_OUT_PKTS       59603 non-null  int16  \n",
      " 24  SRC_TO_DST_AVG_THROUGHPUT    59603 non-null  int64  \n",
      " 25  DST_TO_SRC_AVG_THROUGHPUT    59603 non-null  int64  \n",
      " 26  NUM_PKTS_UP_TO_128_BYTES     59603 non-null  int16  \n",
      " 27  NUM_PKTS_128_TO_256_BYTES    59603 non-null  int16  \n",
      " 28  NUM_PKTS_256_TO_512_BYTES    59603 non-null  int16  \n",
      " 29  NUM_PKTS_512_TO_1024_BYTES   59603 non-null  int16  \n",
      " 30  NUM_PKTS_1024_TO_1514_BYTES  59603 non-null  int16  \n",
      " 31  TCP_WIN_MAX_IN               59603 non-null  int32  \n",
      " 32  TCP_WIN_MAX_OUT              59603 non-null  int32  \n",
      " 33  ICMP_TYPE                    59603 non-null  int32  \n",
      " 34  ICMP_IPV4_TYPE               59603 non-null  int16  \n",
      " 35  DNS_QUERY_ID                 59603 non-null  int32  \n",
      " 36  DNS_QUERY_TYPE               59603 non-null  int32  \n",
      " 37  DNS_TTL_ANSWER               59603 non-null  int64  \n",
      " 38  FTP_COMMAND_RET_CODE         59603 non-null  float32\n",
      " 39  Label                        59603 non-null  int8   \n",
      "dtypes: float32(4), int16(19), int32(10), int64(3), int8(4)\n",
      "memory usage: 7.4 MB\n"
     ]
    }
   ],
   "source": [
    "df3 = pd.read_parquet('/home/administrator/dataset/NF-UNSW-NB15/NF-UNSW-NB15-V2_valid.parquet', engine='pyarrow')\n",
    "\n",
    "df3.info()"
   ]
  },
  {
   "cell_type": "code",
   "execution_count": 7,
   "id": "9846de36",
   "metadata": {},
   "outputs": [
    {
     "name": "stdout",
     "output_type": "stream",
     "text": [
      "<class 'pandas.core.frame.DataFrame'>\n",
      "Index: 139073 entries, 1774165 to 1105898\n",
      "Data columns (total 40 columns):\n",
      " #   Column                       Non-Null Count   Dtype  \n",
      "---  ------                       --------------   -----  \n",
      " 0   PROTOCOL                     139073 non-null  int16  \n",
      " 1   L7_PROTO                     139073 non-null  float32\n",
      " 2   IN_BYTES                     139073 non-null  int32  \n",
      " 3   IN_PKTS                      139073 non-null  int16  \n",
      " 4   OUT_BYTES                    139073 non-null  int32  \n",
      " 5   OUT_PKTS                     139073 non-null  int16  \n",
      " 6   TCP_FLAGS                    139073 non-null  int8   \n",
      " 7   CLIENT_TCP_FLAGS             139073 non-null  int8   \n",
      " 8   SERVER_TCP_FLAGS             139073 non-null  int8   \n",
      " 9   FLOW_DURATION_MILLISECONDS   139073 non-null  int32  \n",
      " 10  DURATION_IN                  139073 non-null  int16  \n",
      " 11  DURATION_OUT                 139073 non-null  int16  \n",
      " 12  MIN_TTL                      139073 non-null  int16  \n",
      " 13  MAX_TTL                      139073 non-null  int16  \n",
      " 14  LONGEST_FLOW_PKT             139073 non-null  int16  \n",
      " 15  SHORTEST_FLOW_PKT            139073 non-null  int16  \n",
      " 16  MIN_IP_PKT_LEN               139073 non-null  int16  \n",
      " 17  MAX_IP_PKT_LEN               139073 non-null  int16  \n",
      " 18  SRC_TO_DST_SECOND_BYTES      139073 non-null  float32\n",
      " 19  DST_TO_SRC_SECOND_BYTES      139073 non-null  float32\n",
      " 20  RETRANSMITTED_IN_BYTES       139073 non-null  int32  \n",
      " 21  RETRANSMITTED_IN_PKTS        139073 non-null  int16  \n",
      " 22  RETRANSMITTED_OUT_BYTES      139073 non-null  int32  \n",
      " 23  RETRANSMITTED_OUT_PKTS       139073 non-null  int16  \n",
      " 24  SRC_TO_DST_AVG_THROUGHPUT    139073 non-null  int64  \n",
      " 25  DST_TO_SRC_AVG_THROUGHPUT    139073 non-null  int64  \n",
      " 26  NUM_PKTS_UP_TO_128_BYTES     139073 non-null  int16  \n",
      " 27  NUM_PKTS_128_TO_256_BYTES    139073 non-null  int16  \n",
      " 28  NUM_PKTS_256_TO_512_BYTES    139073 non-null  int16  \n",
      " 29  NUM_PKTS_512_TO_1024_BYTES   139073 non-null  int16  \n",
      " 30  NUM_PKTS_1024_TO_1514_BYTES  139073 non-null  int16  \n",
      " 31  TCP_WIN_MAX_IN               139073 non-null  int32  \n",
      " 32  TCP_WIN_MAX_OUT              139073 non-null  int32  \n",
      " 33  ICMP_TYPE                    139073 non-null  int32  \n",
      " 34  ICMP_IPV4_TYPE               139073 non-null  int16  \n",
      " 35  DNS_QUERY_ID                 139073 non-null  int32  \n",
      " 36  DNS_QUERY_TYPE               139073 non-null  int32  \n",
      " 37  DNS_TTL_ANSWER               139073 non-null  int64  \n",
      " 38  FTP_COMMAND_RET_CODE         139073 non-null  float32\n",
      " 39  Label                        139073 non-null  int8   \n",
      "dtypes: float32(4), int16(19), int32(10), int64(3), int8(4)\n",
      "memory usage: 17.2 MB\n"
     ]
    }
   ],
   "source": [
    "df4 = pd.read_parquet('/home/administrator/dataset/NF-UNSW-NB15/NF-UNSW-NB15-V2_sample.parquet', engine='pyarrow')\n",
    "\n",
    "df4.info()"
   ]
  },
  {
   "cell_type": "code",
   "execution_count": 4,
   "id": "ae27f1fd",
   "metadata": {},
   "outputs": [
    {
     "name": "stdout",
     "output_type": "stream",
     "text": [
      "<class 'pandas.core.frame.DataFrame'>\n",
      "Index: 1390721 entries, 1870980 to 1873416\n",
      "Data columns (total 40 columns):\n",
      " #   Column                       Non-Null Count    Dtype  \n",
      "---  ------                       --------------    -----  \n",
      " 0   PROTOCOL                     1390721 non-null  int16  \n",
      " 1   L7_PROTO                     1390721 non-null  float32\n",
      " 2   IN_BYTES                     1390721 non-null  int32  \n",
      " 3   IN_PKTS                      1390721 non-null  int16  \n",
      " 4   OUT_BYTES                    1390721 non-null  int32  \n",
      " 5   OUT_PKTS                     1390721 non-null  int16  \n",
      " 6   TCP_FLAGS                    1390721 non-null  int8   \n",
      " 7   CLIENT_TCP_FLAGS             1390721 non-null  int8   \n",
      " 8   SERVER_TCP_FLAGS             1390721 non-null  int8   \n",
      " 9   FLOW_DURATION_MILLISECONDS   1390721 non-null  int32  \n",
      " 10  DURATION_IN                  1390721 non-null  int16  \n",
      " 11  DURATION_OUT                 1390721 non-null  int16  \n",
      " 12  MIN_TTL                      1390721 non-null  int16  \n",
      " 13  MAX_TTL                      1390721 non-null  int16  \n",
      " 14  LONGEST_FLOW_PKT             1390721 non-null  int16  \n",
      " 15  SHORTEST_FLOW_PKT            1390721 non-null  int16  \n",
      " 16  MIN_IP_PKT_LEN               1390721 non-null  int16  \n",
      " 17  MAX_IP_PKT_LEN               1390721 non-null  int16  \n",
      " 18  SRC_TO_DST_SECOND_BYTES      1390721 non-null  float32\n",
      " 19  DST_TO_SRC_SECOND_BYTES      1390721 non-null  float32\n",
      " 20  RETRANSMITTED_IN_BYTES       1390721 non-null  int32  \n",
      " 21  RETRANSMITTED_IN_PKTS        1390721 non-null  int16  \n",
      " 22  RETRANSMITTED_OUT_BYTES      1390721 non-null  int32  \n",
      " 23  RETRANSMITTED_OUT_PKTS       1390721 non-null  int16  \n",
      " 24  SRC_TO_DST_AVG_THROUGHPUT    1390721 non-null  int64  \n",
      " 25  DST_TO_SRC_AVG_THROUGHPUT    1390721 non-null  int64  \n",
      " 26  NUM_PKTS_UP_TO_128_BYTES     1390721 non-null  int16  \n",
      " 27  NUM_PKTS_128_TO_256_BYTES    1390721 non-null  int16  \n",
      " 28  NUM_PKTS_256_TO_512_BYTES    1390721 non-null  int16  \n",
      " 29  NUM_PKTS_512_TO_1024_BYTES   1390721 non-null  int16  \n",
      " 30  NUM_PKTS_1024_TO_1514_BYTES  1390721 non-null  int16  \n",
      " 31  TCP_WIN_MAX_IN               1390721 non-null  int32  \n",
      " 32  TCP_WIN_MAX_OUT              1390721 non-null  int32  \n",
      " 33  ICMP_TYPE                    1390721 non-null  int32  \n",
      " 34  ICMP_IPV4_TYPE               1390721 non-null  int16  \n",
      " 35  DNS_QUERY_ID                 1390721 non-null  int32  \n",
      " 36  DNS_QUERY_TYPE               1390721 non-null  int32  \n",
      " 37  DNS_TTL_ANSWER               1390721 non-null  int64  \n",
      " 38  FTP_COMMAND_RET_CODE         1390721 non-null  float32\n",
      " 39  Label                        1390721 non-null  int8   \n",
      "dtypes: float32(4), int16(19), int32(10), int64(3), int8(4)\n",
      "memory usage: 172.4 MB\n"
     ]
    }
   ],
   "source": [
    "df1 = df1.drop(df1.columns[[0, 1]], axis=1)\n",
    "\n",
    "df1.info()"
   ]
  },
  {
   "cell_type": "code",
   "execution_count": 10,
   "id": "7c485f3a",
   "metadata": {},
   "outputs": [],
   "source": [
    "train, sample = train_test_split(df1, test_size=0.1, random_state=100)"
   ]
  },
  {
   "cell_type": "code",
   "execution_count": 11,
   "id": "1a76ea0b",
   "metadata": {},
   "outputs": [],
   "source": [
    "train.to_parquet(f\"/home/administrator/dataset/NF-UNSW-NB15/NF-UNSW-NB15-V2_train.parquet\")"
   ]
  },
  {
   "cell_type": "code",
   "execution_count": 12,
   "id": "76708b78",
   "metadata": {},
   "outputs": [],
   "source": [
    "sample.to_parquet(f\"/home/administrator/dataset/NF-UNSW-NB15/NF-UNSW-NB15-V2_sample.parquet\")"
   ]
  },
  {
   "cell_type": "code",
   "execution_count": 8,
   "id": "5074508c",
   "metadata": {},
   "outputs": [
    {
     "name": "stdout",
     "output_type": "stream",
     "text": [
      "<class 'pandas.core.frame.DataFrame'>\n",
      "Index: 536421 entries, 1370537 to 1360559\n",
      "Data columns (total 40 columns):\n",
      " #   Column                       Non-Null Count   Dtype  \n",
      "---  ------                       --------------   -----  \n",
      " 0   PROTOCOL                     536421 non-null  int16  \n",
      " 1   L7_PROTO                     536421 non-null  float32\n",
      " 2   IN_BYTES                     536421 non-null  int32  \n",
      " 3   IN_PKTS                      536421 non-null  int16  \n",
      " 4   OUT_BYTES                    536421 non-null  int32  \n",
      " 5   OUT_PKTS                     536421 non-null  int16  \n",
      " 6   TCP_FLAGS                    536421 non-null  int8   \n",
      " 7   CLIENT_TCP_FLAGS             536421 non-null  int8   \n",
      " 8   SERVER_TCP_FLAGS             536421 non-null  int8   \n",
      " 9   FLOW_DURATION_MILLISECONDS   536421 non-null  int32  \n",
      " 10  DURATION_IN                  536421 non-null  int16  \n",
      " 11  DURATION_OUT                 536421 non-null  int16  \n",
      " 12  MIN_TTL                      536421 non-null  int16  \n",
      " 13  MAX_TTL                      536421 non-null  int16  \n",
      " 14  LONGEST_FLOW_PKT             536421 non-null  int16  \n",
      " 15  SHORTEST_FLOW_PKT            536421 non-null  int16  \n",
      " 16  MIN_IP_PKT_LEN               536421 non-null  int16  \n",
      " 17  MAX_IP_PKT_LEN               536421 non-null  int16  \n",
      " 18  SRC_TO_DST_SECOND_BYTES      536421 non-null  float32\n",
      " 19  DST_TO_SRC_SECOND_BYTES      536421 non-null  float32\n",
      " 20  RETRANSMITTED_IN_BYTES       536421 non-null  int32  \n",
      " 21  RETRANSMITTED_IN_PKTS        536421 non-null  int16  \n",
      " 22  RETRANSMITTED_OUT_BYTES      536421 non-null  int32  \n",
      " 23  RETRANSMITTED_OUT_PKTS       536421 non-null  int16  \n",
      " 24  SRC_TO_DST_AVG_THROUGHPUT    536421 non-null  int64  \n",
      " 25  DST_TO_SRC_AVG_THROUGHPUT    536421 non-null  int64  \n",
      " 26  NUM_PKTS_UP_TO_128_BYTES     536421 non-null  int16  \n",
      " 27  NUM_PKTS_128_TO_256_BYTES    536421 non-null  int16  \n",
      " 28  NUM_PKTS_256_TO_512_BYTES    536421 non-null  int16  \n",
      " 29  NUM_PKTS_512_TO_1024_BYTES   536421 non-null  int16  \n",
      " 30  NUM_PKTS_1024_TO_1514_BYTES  536421 non-null  int16  \n",
      " 31  TCP_WIN_MAX_IN               536421 non-null  int32  \n",
      " 32  TCP_WIN_MAX_OUT              536421 non-null  int32  \n",
      " 33  ICMP_TYPE                    536421 non-null  int32  \n",
      " 34  ICMP_IPV4_TYPE               536421 non-null  int16  \n",
      " 35  DNS_QUERY_ID                 536421 non-null  int32  \n",
      " 36  DNS_QUERY_TYPE               536421 non-null  int32  \n",
      " 37  DNS_TTL_ANSWER               536421 non-null  int64  \n",
      " 38  FTP_COMMAND_RET_CODE         536421 non-null  float32\n",
      " 39  Label                        536421 non-null  int8   \n",
      "dtypes: float32(4), int16(19), int32(10), int64(3), int8(4)\n",
      "memory usage: 66.5 MB\n"
     ]
    }
   ],
   "source": [
    "df2 = pd.read_parquet('/home/administrator/dataset/NF-UNSW-NB15/NF-UNSW-NB15-V2_test.parquet', engine='pyarrow')\n",
    "\n",
    "df2.info()"
   ]
  },
  {
   "cell_type": "code",
   "execution_count": 6,
   "id": "f00bb259",
   "metadata": {},
   "outputs": [
    {
     "name": "stdout",
     "output_type": "stream",
     "text": [
      "<class 'pandas.core.frame.DataFrame'>\n",
      "Index: 596024 entries, 1873075 to 748941\n",
      "Data columns (total 40 columns):\n",
      " #   Column                       Non-Null Count   Dtype  \n",
      "---  ------                       --------------   -----  \n",
      " 0   PROTOCOL                     596024 non-null  int16  \n",
      " 1   L7_PROTO                     596024 non-null  float32\n",
      " 2   IN_BYTES                     596024 non-null  int32  \n",
      " 3   IN_PKTS                      596024 non-null  int16  \n",
      " 4   OUT_BYTES                    596024 non-null  int32  \n",
      " 5   OUT_PKTS                     596024 non-null  int16  \n",
      " 6   TCP_FLAGS                    596024 non-null  int8   \n",
      " 7   CLIENT_TCP_FLAGS             596024 non-null  int8   \n",
      " 8   SERVER_TCP_FLAGS             596024 non-null  int8   \n",
      " 9   FLOW_DURATION_MILLISECONDS   596024 non-null  int32  \n",
      " 10  DURATION_IN                  596024 non-null  int16  \n",
      " 11  DURATION_OUT                 596024 non-null  int16  \n",
      " 12  MIN_TTL                      596024 non-null  int16  \n",
      " 13  MAX_TTL                      596024 non-null  int16  \n",
      " 14  LONGEST_FLOW_PKT             596024 non-null  int16  \n",
      " 15  SHORTEST_FLOW_PKT            596024 non-null  int16  \n",
      " 16  MIN_IP_PKT_LEN               596024 non-null  int16  \n",
      " 17  MAX_IP_PKT_LEN               596024 non-null  int16  \n",
      " 18  SRC_TO_DST_SECOND_BYTES      596024 non-null  float32\n",
      " 19  DST_TO_SRC_SECOND_BYTES      596024 non-null  float32\n",
      " 20  RETRANSMITTED_IN_BYTES       596024 non-null  int32  \n",
      " 21  RETRANSMITTED_IN_PKTS        596024 non-null  int16  \n",
      " 22  RETRANSMITTED_OUT_BYTES      596024 non-null  int32  \n",
      " 23  RETRANSMITTED_OUT_PKTS       596024 non-null  int16  \n",
      " 24  SRC_TO_DST_AVG_THROUGHPUT    596024 non-null  int64  \n",
      " 25  DST_TO_SRC_AVG_THROUGHPUT    596024 non-null  int64  \n",
      " 26  NUM_PKTS_UP_TO_128_BYTES     596024 non-null  int16  \n",
      " 27  NUM_PKTS_128_TO_256_BYTES    596024 non-null  int16  \n",
      " 28  NUM_PKTS_256_TO_512_BYTES    596024 non-null  int16  \n",
      " 29  NUM_PKTS_512_TO_1024_BYTES   596024 non-null  int16  \n",
      " 30  NUM_PKTS_1024_TO_1514_BYTES  596024 non-null  int16  \n",
      " 31  TCP_WIN_MAX_IN               596024 non-null  int32  \n",
      " 32  TCP_WIN_MAX_OUT              596024 non-null  int32  \n",
      " 33  ICMP_TYPE                    596024 non-null  int32  \n",
      " 34  ICMP_IPV4_TYPE               596024 non-null  int16  \n",
      " 35  DNS_QUERY_ID                 596024 non-null  int32  \n",
      " 36  DNS_QUERY_TYPE               596024 non-null  int32  \n",
      " 37  DNS_TTL_ANSWER               596024 non-null  int64  \n",
      " 38  FTP_COMMAND_RET_CODE         596024 non-null  float32\n",
      " 39  Label                        596024 non-null  int8   \n",
      "dtypes: float32(4), int16(19), int32(10), int64(3), int8(4)\n",
      "memory usage: 73.9 MB\n"
     ]
    }
   ],
   "source": [
    "df2 = df2.drop(df2.columns[[0, 1]], axis=1)\n",
    "\n",
    "df2.info()"
   ]
  },
  {
   "cell_type": "code",
   "execution_count": 13,
   "id": "c7286541",
   "metadata": {},
   "outputs": [],
   "source": [
    "test, valid = train_test_split(df2, test_size=0.1, random_state=100)"
   ]
  },
  {
   "cell_type": "code",
   "execution_count": 14,
   "id": "0237128b",
   "metadata": {},
   "outputs": [],
   "source": [
    "test.to_parquet(f\"/home/administrator/dataset/NF-UNSW-NB15/NF-UNSW-NB15-V2_test.parquet\")"
   ]
  },
  {
   "cell_type": "code",
   "execution_count": 15,
   "id": "ea273b6b",
   "metadata": {},
   "outputs": [],
   "source": [
    "valid.to_parquet(f\"/home/administrator/dataset/NF-UNSW-NB15/NF-UNSW-NB15-V2_valid.parquet\")"
   ]
  },
  {
   "cell_type": "code",
   "execution_count": 3,
   "id": "0618a5ac",
   "metadata": {},
   "outputs": [
    {
     "name": "stdout",
     "output_type": "stream",
     "text": [
      "<class 'pandas.core.frame.DataFrame'>\n",
      "RangeIndex: 1986745 entries, 0 to 1986744\n",
      "Data columns (total 43 columns):\n",
      " #   Column                       Dtype  \n",
      "---  ------                       -----  \n",
      " 0   L4_SRC_PORT                  int32  \n",
      " 1   L4_DST_PORT                  int32  \n",
      " 2   PROTOCOL                     int16  \n",
      " 3   L7_PROTO                     float32\n",
      " 4   IN_BYTES                     int32  \n",
      " 5   IN_PKTS                      int16  \n",
      " 6   OUT_BYTES                    int32  \n",
      " 7   OUT_PKTS                     int16  \n",
      " 8   TCP_FLAGS                    int8   \n",
      " 9   CLIENT_TCP_FLAGS             int8   \n",
      " 10  SERVER_TCP_FLAGS             int8   \n",
      " 11  FLOW_DURATION_MILLISECONDS   int32  \n",
      " 12  DURATION_IN                  int16  \n",
      " 13  DURATION_OUT                 int16  \n",
      " 14  MIN_TTL                      int16  \n",
      " 15  MAX_TTL                      int16  \n",
      " 16  LONGEST_FLOW_PKT             int16  \n",
      " 17  SHORTEST_FLOW_PKT            int16  \n",
      " 18  MIN_IP_PKT_LEN               int16  \n",
      " 19  MAX_IP_PKT_LEN               int16  \n",
      " 20  SRC_TO_DST_SECOND_BYTES      float32\n",
      " 21  DST_TO_SRC_SECOND_BYTES      float32\n",
      " 22  RETRANSMITTED_IN_BYTES       int32  \n",
      " 23  RETRANSMITTED_IN_PKTS        int16  \n",
      " 24  RETRANSMITTED_OUT_BYTES      int32  \n",
      " 25  RETRANSMITTED_OUT_PKTS       int16  \n",
      " 26  SRC_TO_DST_AVG_THROUGHPUT    int64  \n",
      " 27  DST_TO_SRC_AVG_THROUGHPUT    int64  \n",
      " 28  NUM_PKTS_UP_TO_128_BYTES     int16  \n",
      " 29  NUM_PKTS_128_TO_256_BYTES    int16  \n",
      " 30  NUM_PKTS_256_TO_512_BYTES    int16  \n",
      " 31  NUM_PKTS_512_TO_1024_BYTES   int16  \n",
      " 32  NUM_PKTS_1024_TO_1514_BYTES  int16  \n",
      " 33  TCP_WIN_MAX_IN               int32  \n",
      " 34  TCP_WIN_MAX_OUT              int32  \n",
      " 35  ICMP_TYPE                    int32  \n",
      " 36  ICMP_IPV4_TYPE               int16  \n",
      " 37  DNS_QUERY_ID                 int32  \n",
      " 38  DNS_QUERY_TYPE               int32  \n",
      " 39  DNS_TTL_ANSWER               int64  \n",
      " 40  FTP_COMMAND_RET_CODE         float32\n",
      " 41  Label                        int8   \n",
      " 42  Attack                       object \n",
      "dtypes: float32(4), int16(19), int32(12), int64(3), int8(4), object(1)\n",
      "memory usage: 261.5+ MB\n"
     ]
    }
   ],
   "source": [
    "df = pd.read_parquet('/home/administrator/dataset/NF-UNSW-NB15/NF-UNSW-NB15-V2.parquet', engine='pyarrow')\n",
    "\n",
    "df.info()"
   ]
  },
  {
   "cell_type": "code",
   "execution_count": 4,
   "id": "b678859f",
   "metadata": {},
   "outputs": [
    {
     "data": {
      "text/plain": [
       "Label\n",
       "0    1911666\n",
       "1      75079\n",
       "Name: count, dtype: int64"
      ]
     },
     "execution_count": 4,
     "metadata": {},
     "output_type": "execute_result"
    }
   ],
   "source": [
    "df['Label'].value_counts()"
   ]
  },
  {
   "cell_type": "code",
   "execution_count": null,
   "id": "b3d198d5",
   "metadata": {},
   "outputs": [],
   "source": []
  }
 ],
 "metadata": {
  "kernelspec": {
   "display_name": "Python 3 (ipykernel)",
   "language": "python",
   "name": "python3"
  },
  "language_info": {
   "codemirror_mode": {
    "name": "ipython",
    "version": 3
   },
   "file_extension": ".py",
   "mimetype": "text/x-python",
   "name": "python",
   "nbconvert_exporter": "python",
   "pygments_lexer": "ipython3",
   "version": "3.10.12"
  }
 },
 "nbformat": 4,
 "nbformat_minor": 5
}
