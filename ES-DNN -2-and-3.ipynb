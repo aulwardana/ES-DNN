{
 "cells": [
  {
   "cell_type": "code",
   "execution_count": 1,
   "id": "9b840eab",
   "metadata": {},
   "outputs": [],
   "source": [
    "import pandas as pd\n",
    "import numpy as np"
   ]
  },
  {
   "cell_type": "code",
   "execution_count": 3,
   "id": "e03fb76c",
   "metadata": {},
   "outputs": [],
   "source": [
    "df1_test = pd.read_parquet(\"/home/administrator/dataset/NF-UQ-NIDS/NF-UQ-NIDS-V2_test.parquet\")"
   ]
  },
  {
   "cell_type": "code",
   "execution_count": 4,
   "id": "c373cafa",
   "metadata": {},
   "outputs": [],
   "source": [
    "df1_sample = pd.read_parquet(\"/home/administrator/dataset/NF-UQ-NIDS/NF-UQ-NIDS-V2_sample.parquet\")"
   ]
  },
  {
   "cell_type": "code",
   "execution_count": 5,
   "id": "dc998360",
   "metadata": {},
   "outputs": [],
   "source": [
    "df1_valid = pd.read_parquet(\"/home/administrator/dataset/NF-UQ-NIDS/NF-UQ-NIDS-V2_valid.parquet\")"
   ]
  },
  {
   "cell_type": "code",
   "execution_count": 2,
   "id": "1798a314",
   "metadata": {},
   "outputs": [],
   "source": [
    "df2_test = pd.read_parquet(\"/home/administrator/dataset/NF-UNSW-NB15/NF-UNSW-NB15-V2_test.parquet\")"
   ]
  },
  {
   "cell_type": "code",
   "execution_count": 3,
   "id": "a613b7ca",
   "metadata": {},
   "outputs": [],
   "source": [
    "df2_sample = pd.read_parquet(\"/home/administrator/dataset/NF-UNSW-NB15/NF-UNSW-NB15-V2_sample.parquet\")"
   ]
  },
  {
   "cell_type": "code",
   "execution_count": 4,
   "id": "e87b84ba",
   "metadata": {},
   "outputs": [],
   "source": [
    "df2_valid = pd.read_parquet(\"/home/administrator/dataset/NF-UNSW-NB15/NF-UNSW-NB15-V2_valid.parquet\")"
   ]
  },
  {
   "cell_type": "code",
   "execution_count": 9,
   "id": "fec35390",
   "metadata": {},
   "outputs": [],
   "source": [
    "df3_test = pd.read_parquet(\"/home/administrator/dataset/NF-BoT-IoT/NF-BoT-IoT-V2_test.parquet\")"
   ]
  },
  {
   "cell_type": "code",
   "execution_count": 10,
   "id": "63aa863c",
   "metadata": {},
   "outputs": [],
   "source": [
    "df3_sample = pd.read_parquet(\"/home/administrator/dataset/NF-BoT-IoT/NF-BoT-IoT-V2_sample.parquet\")"
   ]
  },
  {
   "cell_type": "code",
   "execution_count": 11,
   "id": "7c8c75bd",
   "metadata": {},
   "outputs": [],
   "source": [
    "df3_valid = pd.read_parquet(\"/home/administrator/dataset/NF-BoT-IoT/NF-BoT-IoT-V2_valid.parquet\")"
   ]
  },
  {
   "cell_type": "code",
   "execution_count": 12,
   "id": "b7563952",
   "metadata": {},
   "outputs": [],
   "source": [
    "df4_test = pd.read_parquet(\"/home/administrator/dataset/NF-CSE-CIC-IDS2018/NF-CSE-CIC-IDS2018-V2_test.parquet\")"
   ]
  },
  {
   "cell_type": "code",
   "execution_count": 13,
   "id": "5c95521d",
   "metadata": {},
   "outputs": [],
   "source": [
    "df4_sample = pd.read_parquet(\"/home/administrator/dataset/NF-CSE-CIC-IDS2018/NF-CSE-CIC-IDS2018-V2_sample.parquet\")"
   ]
  },
  {
   "cell_type": "code",
   "execution_count": 14,
   "id": "d55e744e",
   "metadata": {},
   "outputs": [],
   "source": [
    "df4_valid = pd.read_parquet(\"/home/administrator/dataset/NF-CSE-CIC-IDS2018/NF-CSE-CIC-IDS2018-V2_valid.parquet\")"
   ]
  },
  {
   "cell_type": "code",
   "execution_count": 15,
   "id": "391b57a8",
   "metadata": {},
   "outputs": [],
   "source": [
    "df5_test = pd.read_parquet(\"/home/administrator/dataset/NF-ToN-IoT/NF-ToN-IoT-V2_test.parquet\")"
   ]
  },
  {
   "cell_type": "code",
   "execution_count": 16,
   "id": "9883ebd3",
   "metadata": {},
   "outputs": [],
   "source": [
    "df5_sample = pd.read_parquet(\"/home/administrator/dataset/NF-ToN-IoT/NF-ToN-IoT-V2_sample.parquet\")"
   ]
  },
  {
   "cell_type": "code",
   "execution_count": 17,
   "id": "bb09a84a",
   "metadata": {},
   "outputs": [],
   "source": [
    "df5_valid = pd.read_parquet(\"/home/administrator/dataset/NF-ToN-IoT/NF-ToN-IoT-V2_valid.parquet\")"
   ]
  },
  {
   "cell_type": "code",
   "execution_count": 18,
   "id": "784a0bb7",
   "metadata": {},
   "outputs": [],
   "source": [
    "load_X_df1_sample = df1_sample.drop([\"Label\"],axis=1)\n",
    "Y_df1_sample = df1_sample[\"Label\"]"
   ]
  },
  {
   "cell_type": "code",
   "execution_count": 19,
   "id": "6cf00aac",
   "metadata": {},
   "outputs": [],
   "source": [
    "load_X_df1_test = df1_test.drop([\"Label\"],axis=1)\n",
    "Y_df1_test = df1_test[\"Label\"]"
   ]
  },
  {
   "cell_type": "code",
   "execution_count": 20,
   "id": "35576aa8",
   "metadata": {},
   "outputs": [],
   "source": [
    "load_X_df1_valid = df1_valid.drop([\"Label\"],axis=1)\n",
    "Y_df1_valid = df1_valid[\"Label\"]"
   ]
  },
  {
   "cell_type": "code",
   "execution_count": 5,
   "id": "949e6619",
   "metadata": {},
   "outputs": [],
   "source": [
    "load_X_df2_sample = df2_sample.drop([\"Label\"],axis=1)\n",
    "Y_df2_sample = df2_sample[\"Label\"]"
   ]
  },
  {
   "cell_type": "code",
   "execution_count": 6,
   "id": "c17150b0",
   "metadata": {},
   "outputs": [],
   "source": [
    "load_X_df2_test = df2_test.drop([\"Label\"],axis=1)\n",
    "Y_df2_test = df2_test[\"Label\"]"
   ]
  },
  {
   "cell_type": "code",
   "execution_count": 7,
   "id": "5904b405",
   "metadata": {},
   "outputs": [],
   "source": [
    "load_X_df2_valid = df2_valid.drop([\"Label\"],axis=1)\n",
    "Y_df2_valid = df2_valid[\"Label\"]"
   ]
  },
  {
   "cell_type": "code",
   "execution_count": 24,
   "id": "73b50ba1",
   "metadata": {},
   "outputs": [],
   "source": [
    "load_X_df3_sample = df3_sample.drop([\"Label\"],axis=1)\n",
    "Y_df3_sample = df3_sample[\"Label\"]"
   ]
  },
  {
   "cell_type": "code",
   "execution_count": 25,
   "id": "d8f70f43",
   "metadata": {},
   "outputs": [],
   "source": [
    "load_X_df3_test = df3_test.drop([\"Label\"],axis=1)\n",
    "Y_df3_test = df3_test[\"Label\"]"
   ]
  },
  {
   "cell_type": "code",
   "execution_count": 26,
   "id": "83e3eebc",
   "metadata": {},
   "outputs": [],
   "source": [
    "load_X_df3_valid = df3_valid.drop([\"Label\"],axis=1)\n",
    "Y_df3_valid = df3_valid[\"Label\"]"
   ]
  },
  {
   "cell_type": "code",
   "execution_count": 27,
   "id": "95248b59",
   "metadata": {},
   "outputs": [],
   "source": [
    "load_X_df4_sample = df4_sample.drop([\"Label\"],axis=1)\n",
    "Y_df4_sample = df4_sample[\"Label\"]"
   ]
  },
  {
   "cell_type": "code",
   "execution_count": 28,
   "id": "93ef0952",
   "metadata": {},
   "outputs": [],
   "source": [
    "load_X_df4_test = df4_test.drop([\"Label\"],axis=1)\n",
    "Y_df4_test = df4_test[\"Label\"]"
   ]
  },
  {
   "cell_type": "code",
   "execution_count": 29,
   "id": "ae68308c",
   "metadata": {},
   "outputs": [],
   "source": [
    "load_X_df4_valid = df4_valid.drop([\"Label\"],axis=1)\n",
    "Y_df4_valid = df4_valid[\"Label\"]"
   ]
  },
  {
   "cell_type": "code",
   "execution_count": 30,
   "id": "6c339544",
   "metadata": {},
   "outputs": [],
   "source": [
    "load_X_df5_sample = df5_sample.drop([\"Label\"],axis=1)\n",
    "Y_df5_sample = df5_sample[\"Label\"]"
   ]
  },
  {
   "cell_type": "code",
   "execution_count": 31,
   "id": "54d6c94e",
   "metadata": {},
   "outputs": [],
   "source": [
    "load_X_df5_test = df5_test.drop([\"Label\"],axis=1)\n",
    "Y_df5_test = df5_test[\"Label\"]"
   ]
  },
  {
   "cell_type": "code",
   "execution_count": 32,
   "id": "06e092a5",
   "metadata": {},
   "outputs": [],
   "source": [
    "load_X_df5_valid = df5_valid.drop([\"Label\"],axis=1)\n",
    "Y_df5_valid = df5_valid[\"Label\"]"
   ]
  },
  {
   "cell_type": "code",
   "execution_count": 8,
   "id": "b7dd1021",
   "metadata": {},
   "outputs": [],
   "source": [
    "from sklearn.preprocessing import QuantileTransformer"
   ]
  },
  {
   "cell_type": "code",
   "execution_count": 34,
   "id": "162b9747",
   "metadata": {},
   "outputs": [],
   "source": [
    "scaler_df1 = QuantileTransformer(output_distribution='normal')"
   ]
  },
  {
   "cell_type": "code",
   "execution_count": 35,
   "id": "2791dcb8",
   "metadata": {},
   "outputs": [],
   "source": [
    "X_df1_sample = scaler_df1.fit_transform(load_X_df1_sample)"
   ]
  },
  {
   "cell_type": "code",
   "execution_count": 36,
   "id": "16c2810a",
   "metadata": {},
   "outputs": [],
   "source": [
    "X_df1_test = scaler_df1.fit_transform(load_X_df1_test)"
   ]
  },
  {
   "cell_type": "code",
   "execution_count": 37,
   "id": "d7c95bbf",
   "metadata": {},
   "outputs": [],
   "source": [
    "X_df1_valid = scaler_df1.fit_transform(load_X_df1_valid)"
   ]
  },
  {
   "cell_type": "code",
   "execution_count": 9,
   "id": "65b58987",
   "metadata": {},
   "outputs": [],
   "source": [
    "scaler_df2 = QuantileTransformer(output_distribution='normal')"
   ]
  },
  {
   "cell_type": "code",
   "execution_count": 10,
   "id": "e37859f4",
   "metadata": {},
   "outputs": [],
   "source": [
    "X_df2_sample = scaler_df2.fit_transform(load_X_df2_sample)"
   ]
  },
  {
   "cell_type": "code",
   "execution_count": 11,
   "id": "bca83013",
   "metadata": {},
   "outputs": [],
   "source": [
    "X_df2_test = scaler_df2.fit_transform(load_X_df2_test)"
   ]
  },
  {
   "cell_type": "code",
   "execution_count": 12,
   "id": "22f13893",
   "metadata": {},
   "outputs": [],
   "source": [
    "X_df2_valid = scaler_df2.fit_transform(load_X_df2_valid)"
   ]
  },
  {
   "cell_type": "code",
   "execution_count": 42,
   "id": "67120f3e",
   "metadata": {},
   "outputs": [],
   "source": [
    "scaler_df3 = QuantileTransformer(output_distribution='normal')"
   ]
  },
  {
   "cell_type": "code",
   "execution_count": 43,
   "id": "3ade0ebb",
   "metadata": {},
   "outputs": [],
   "source": [
    "X_df3_sample = scaler_df3.fit_transform(load_X_df3_sample)"
   ]
  },
  {
   "cell_type": "code",
   "execution_count": 44,
   "id": "74f5ce98",
   "metadata": {},
   "outputs": [],
   "source": [
    "X_df3_test = scaler_df3.fit_transform(load_X_df3_test)"
   ]
  },
  {
   "cell_type": "code",
   "execution_count": 45,
   "id": "e18bd0cc",
   "metadata": {},
   "outputs": [],
   "source": [
    "X_df3_valid = scaler_df3.fit_transform(load_X_df3_valid)"
   ]
  },
  {
   "cell_type": "code",
   "execution_count": 46,
   "id": "6e224d9e",
   "metadata": {},
   "outputs": [],
   "source": [
    "scaler_df4 = QuantileTransformer(output_distribution='normal')"
   ]
  },
  {
   "cell_type": "code",
   "execution_count": 47,
   "id": "e4eb6b4d",
   "metadata": {},
   "outputs": [],
   "source": [
    "X_df4_sample = scaler_df4.fit_transform(load_X_df4_sample)"
   ]
  },
  {
   "cell_type": "code",
   "execution_count": 48,
   "id": "a2114b13",
   "metadata": {},
   "outputs": [],
   "source": [
    "X_df4_test = scaler_df4.fit_transform(load_X_df4_test)"
   ]
  },
  {
   "cell_type": "code",
   "execution_count": 49,
   "id": "ec5a20f3",
   "metadata": {},
   "outputs": [],
   "source": [
    "X_df4_valid = scaler_df4.fit_transform(load_X_df4_valid)"
   ]
  },
  {
   "cell_type": "code",
   "execution_count": 50,
   "id": "61b2980b",
   "metadata": {},
   "outputs": [],
   "source": [
    "scaler_df5 = QuantileTransformer(output_distribution='normal')"
   ]
  },
  {
   "cell_type": "code",
   "execution_count": 51,
   "id": "d1376c4a",
   "metadata": {},
   "outputs": [],
   "source": [
    "X_df5_sample = scaler_df5.fit_transform(load_X_df5_sample)"
   ]
  },
  {
   "cell_type": "code",
   "execution_count": 52,
   "id": "b612e491",
   "metadata": {},
   "outputs": [],
   "source": [
    "X_df5_test = scaler_df5.fit_transform(load_X_df5_test)"
   ]
  },
  {
   "cell_type": "code",
   "execution_count": 53,
   "id": "9d3c06f0",
   "metadata": {},
   "outputs": [],
   "source": [
    "X_df5_valid = scaler_df5.fit_transform(load_X_df5_valid)"
   ]
  },
  {
   "cell_type": "code",
   "execution_count": 13,
   "id": "94d170f0",
   "metadata": {},
   "outputs": [
    {
     "name": "stderr",
     "output_type": "stream",
     "text": [
      "2023-10-13 15:32:52.225165: I tensorflow/tsl/cuda/cudart_stub.cc:28] Could not find cuda drivers on your machine, GPU will not be used.\n",
      "2023-10-13 15:32:52.262792: E tensorflow/compiler/xla/stream_executor/cuda/cuda_dnn.cc:9342] Unable to register cuDNN factory: Attempting to register factory for plugin cuDNN when one has already been registered\n",
      "2023-10-13 15:32:52.262830: E tensorflow/compiler/xla/stream_executor/cuda/cuda_fft.cc:609] Unable to register cuFFT factory: Attempting to register factory for plugin cuFFT when one has already been registered\n",
      "2023-10-13 15:32:52.262865: E tensorflow/compiler/xla/stream_executor/cuda/cuda_blas.cc:1518] Unable to register cuBLAS factory: Attempting to register factory for plugin cuBLAS when one has already been registered\n",
      "2023-10-13 15:32:52.271203: I tensorflow/tsl/cuda/cudart_stub.cc:28] Could not find cuda drivers on your machine, GPU will not be used.\n",
      "2023-10-13 15:32:52.272245: I tensorflow/core/platform/cpu_feature_guard.cc:182] This TensorFlow binary is optimized to use available CPU instructions in performance-critical operations.\n",
      "To enable the following instructions: AVX2 FMA, in other operations, rebuild TensorFlow with the appropriate compiler flags.\n",
      "2023-10-13 15:32:53.239377: W tensorflow/compiler/tf2tensorrt/utils/py_utils.cc:38] TF-TRT Warning: Could not find TensorRT\n"
     ]
    }
   ],
   "source": [
    "from keras.models import Sequential\n",
    "from keras.layers import Dense"
   ]
  },
  {
   "cell_type": "code",
   "execution_count": 14,
   "id": "fb0f9e72",
   "metadata": {},
   "outputs": [],
   "source": [
    "from keras.models import load_model\n",
    "from numpy import argmax\n",
    "from sklearn.model_selection import train_test_split\n",
    "from sklearn.metrics import accuracy_score, precision_score, recall_score, f1_score, confusion_matrix, classification_report"
   ]
  },
  {
   "cell_type": "code",
   "execution_count": 15,
   "id": "b7c7ee34",
   "metadata": {},
   "outputs": [],
   "source": [
    "filename_model_N1 = 'models/model_stack_N1.h5'\n",
    "loaded_model_N1 = load_model(filename_model_N1)"
   ]
  },
  {
   "cell_type": "code",
   "execution_count": 16,
   "id": "ac2066cd",
   "metadata": {},
   "outputs": [],
   "source": [
    "filename_model_N2 = 'models/model_stack_N2.h5'\n",
    "loaded_model_N2 = load_model(filename_model_N2)"
   ]
  },
  {
   "cell_type": "code",
   "execution_count": 17,
   "id": "672d2196",
   "metadata": {},
   "outputs": [],
   "source": [
    "filename_model_N3 = 'models/model_stack_N3.h5'\n",
    "loaded_model_N3 = load_model(filename_model_N3)"
   ]
  },
  {
   "cell_type": "code",
   "execution_count": 18,
   "id": "e7702b63",
   "metadata": {},
   "outputs": [],
   "source": [
    "filename_model_N4 = 'models/model_stack_N4.h5'\n",
    "loaded_model_N4 = load_model(filename_model_N4)"
   ]
  },
  {
   "cell_type": "code",
   "execution_count": 19,
   "id": "6215e53e",
   "metadata": {},
   "outputs": [],
   "source": [
    "filename_model_N5 = 'models/model_stack_N5.h5'\n",
    "loaded_model_N5 = load_model(filename_model_N5)"
   ]
  },
  {
   "cell_type": "code",
   "execution_count": 61,
   "id": "f8f2b0ae",
   "metadata": {},
   "outputs": [
    {
     "name": "stdout",
     "output_type": "stream",
     "text": [
      "[<keras.src.engine.sequential.Sequential object at 0x7f0a505eb370>, <keras.src.engine.sequential.Sequential object at 0x7f00026fd0f0>, <keras.src.engine.sequential.Sequential object at 0x7f00000d78b0>, <keras.src.engine.sequential.Sequential object at 0x7f00001535b0>, <keras.src.engine.sequential.Sequential object at 0x7efff871e500>]\n"
     ]
    }
   ],
   "source": [
    "all_models = list()\n",
    "all_models.append(loaded_model_N1)\n",
    "all_models.append(loaded_model_N2)\n",
    "all_models.append(loaded_model_N3)\n",
    "all_models.append(loaded_model_N4)\n",
    "all_models.append(loaded_model_N5)\n",
    "\n",
    "print(all_models)"
   ]
  },
  {
   "cell_type": "code",
   "execution_count": 62,
   "id": "4d228320",
   "metadata": {},
   "outputs": [
    {
     "name": "stdout",
     "output_type": "stream",
     "text": [
      "[<keras.src.engine.sequential.Sequential object at 0x7f00026fd0f0>, <keras.src.engine.sequential.Sequential object at 0x7f00000d78b0>, <keras.src.engine.sequential.Sequential object at 0x7f00001535b0>, <keras.src.engine.sequential.Sequential object at 0x7efff871e500>]\n"
     ]
    }
   ],
   "source": [
    "all_models_N1 = list()\n",
    "all_models_N1.append(loaded_model_N2)\n",
    "all_models_N1.append(loaded_model_N3)\n",
    "all_models_N1.append(loaded_model_N4)\n",
    "all_models_N1.append(loaded_model_N5)\n",
    "\n",
    "print(all_models_N1)"
   ]
  },
  {
   "cell_type": "code",
   "execution_count": 20,
   "id": "23fc7259",
   "metadata": {},
   "outputs": [
    {
     "name": "stdout",
     "output_type": "stream",
     "text": [
      "[<keras.src.engine.sequential.Sequential object at 0x7f3d4beb3880>, <keras.src.engine.sequential.Sequential object at 0x7f3f50018460>, <keras.src.engine.sequential.Sequential object at 0x7f3d480817e0>, <keras.src.engine.sequential.Sequential object at 0x7f3d480e50c0>]\n"
     ]
    }
   ],
   "source": [
    "all_models_N2 = list()\n",
    "all_models_N2.append(loaded_model_N1)\n",
    "all_models_N2.append(loaded_model_N3)\n",
    "all_models_N2.append(loaded_model_N4)\n",
    "all_models_N2.append(loaded_model_N5)\n",
    "\n",
    "print(all_models_N2)"
   ]
  },
  {
   "cell_type": "code",
   "execution_count": 64,
   "id": "1332c9d5",
   "metadata": {},
   "outputs": [
    {
     "name": "stdout",
     "output_type": "stream",
     "text": [
      "[<keras.src.engine.sequential.Sequential object at 0x7f0a505eb370>, <keras.src.engine.sequential.Sequential object at 0x7f00026fd0f0>, <keras.src.engine.sequential.Sequential object at 0x7f00001535b0>, <keras.src.engine.sequential.Sequential object at 0x7efff871e500>]\n"
     ]
    }
   ],
   "source": [
    "all_models_N3 = list()\n",
    "all_models_N3.append(loaded_model_N1)\n",
    "all_models_N3.append(loaded_model_N2)\n",
    "all_models_N3.append(loaded_model_N4)\n",
    "all_models_N3.append(loaded_model_N5)\n",
    "\n",
    "print(all_models_N3)"
   ]
  },
  {
   "cell_type": "code",
   "execution_count": 65,
   "id": "97a07f5f",
   "metadata": {},
   "outputs": [
    {
     "name": "stdout",
     "output_type": "stream",
     "text": [
      "[<keras.src.engine.sequential.Sequential object at 0x7f0a505eb370>, <keras.src.engine.sequential.Sequential object at 0x7f00026fd0f0>, <keras.src.engine.sequential.Sequential object at 0x7f00000d78b0>, <keras.src.engine.sequential.Sequential object at 0x7efff871e500>]\n"
     ]
    }
   ],
   "source": [
    "all_models_N4 = list()\n",
    "all_models_N4.append(loaded_model_N1)\n",
    "all_models_N4.append(loaded_model_N2)\n",
    "all_models_N4.append(loaded_model_N3)\n",
    "all_models_N4.append(loaded_model_N5)\n",
    "\n",
    "print(all_models_N4)"
   ]
  },
  {
   "cell_type": "code",
   "execution_count": 66,
   "id": "911ec359",
   "metadata": {},
   "outputs": [
    {
     "name": "stdout",
     "output_type": "stream",
     "text": [
      "[<keras.src.engine.sequential.Sequential object at 0x7f0a505eb370>, <keras.src.engine.sequential.Sequential object at 0x7f00026fd0f0>, <keras.src.engine.sequential.Sequential object at 0x7f00000d78b0>, <keras.src.engine.sequential.Sequential object at 0x7f00001535b0>]\n"
     ]
    }
   ],
   "source": [
    "all_models_N5 = list()\n",
    "all_models_N5.append(loaded_model_N1)\n",
    "all_models_N5.append(loaded_model_N2)\n",
    "all_models_N5.append(loaded_model_N3)\n",
    "all_models_N5.append(loaded_model_N4)\n",
    "\n",
    "print(all_models_N5)"
   ]
  },
  {
   "cell_type": "code",
   "execution_count": 21,
   "id": "e51356c4",
   "metadata": {},
   "outputs": [],
   "source": [
    "from keras.models import Model\n",
    "from keras.layers import Input\n",
    "from keras.layers import concatenate\n",
    "from keras.metrics import Recall, Precision\n",
    "from keras.utils import plot_model"
   ]
  },
  {
   "cell_type": "code",
   "execution_count": 22,
   "id": "b471b009",
   "metadata": {},
   "outputs": [],
   "source": [
    "def define_stacked_model(members):\n",
    "    for i in range(len(members)):\n",
    "        model = members[i]\n",
    "        for layer in model.layers:\n",
    "            layer.trainable = False\n",
    "            layer._name = 'ensemble_' + str(i+1) + '_' + layer.name\n",
    "    ensemble_visible = [model.input for model in members]\n",
    "    ensemble_outputs = [model.output for model in members]\n",
    "    merge = concatenate(ensemble_outputs)\n",
    "    hidden = Dense(10, activation='relu')(merge)\n",
    "    output = Dense(1, activation='sigmoid')(hidden)\n",
    "    model = Model(inputs=ensemble_visible, outputs=output)\n",
    "    #plot_model(model, show_shapes=True, to_file='model_graph.png')\n",
    "    model.compile(loss='binary_crossentropy', optimizer='adam', metrics=['accuracy', Recall(), Precision()])\n",
    "    return model"
   ]
  },
  {
   "cell_type": "code",
   "execution_count": 28,
   "id": "242280e8",
   "metadata": {},
   "outputs": [],
   "source": [
    "def fit_stacked_model(model, inputX, inputy):\n",
    "    X = [inputX for _ in range(len(model.input))]\n",
    "    #model.fit(X, inputy, epochs=10, batch_size=1000, verbose=1)\n",
    "    model.fit(X, inputy, epochs=3, batch_size=256, verbose=1)"
   ]
  },
  {
   "cell_type": "code",
   "execution_count": 70,
   "id": "d1894b93",
   "metadata": {},
   "outputs": [],
   "source": [
    "def predict_stacked_model(model, inputX):\n",
    "    X = [inputX for _ in range(len(model.input))]\n",
    "    return model.evaluate(X, verbose=1)"
   ]
  },
  {
   "cell_type": "code",
   "execution_count": 24,
   "id": "40d92b77",
   "metadata": {},
   "outputs": [],
   "source": [
    "def evaluate_stacked_model(model, inputX, inputy):\n",
    "    X = [inputX for _ in range(len(model.input))]\n",
    "    return model.evaluate(X, inputy, verbose=1)"
   ]
  },
  {
   "cell_type": "code",
   "execution_count": 85,
   "id": "226fbd62",
   "metadata": {},
   "outputs": [],
   "source": [
    "stacked_model_for_N1 = define_stacked_model(all_models)"
   ]
  },
  {
   "cell_type": "code",
   "execution_count": 86,
   "id": "e5df8239",
   "metadata": {},
   "outputs": [
    {
     "name": "stdout",
     "output_type": "stream",
     "text": [
      "Epoch 1/10\n",
      "4388/4388 [==============================] - 22s 4ms/step - loss: 0.1414 - accuracy: 0.9458 - recall_2: 0.9691 - precision_2: 0.9508\n",
      "Epoch 2/10\n",
      "4388/4388 [==============================] - 19s 4ms/step - loss: 0.0865 - accuracy: 0.9681 - recall_2: 0.9735 - precision_2: 0.9787\n",
      "Epoch 3/10\n",
      "4388/4388 [==============================] - 19s 4ms/step - loss: 0.0839 - accuracy: 0.9686 - recall_2: 0.9735 - precision_2: 0.9794\n",
      "Epoch 4/10\n",
      "4388/4388 [==============================] - 19s 4ms/step - loss: 0.0829 - accuracy: 0.9685 - recall_2: 0.9736 - precision_2: 0.9792\n",
      "Epoch 5/10\n",
      "4388/4388 [==============================] - 19s 4ms/step - loss: 0.0821 - accuracy: 0.9684 - recall_2: 0.9736 - precision_2: 0.9791\n",
      "Epoch 6/10\n",
      "4388/4388 [==============================] - 20s 5ms/step - loss: 0.0814 - accuracy: 0.9683 - recall_2: 0.9736 - precision_2: 0.9789\n",
      "Epoch 7/10\n",
      "4388/4388 [==============================] - 20s 4ms/step - loss: 0.0808 - accuracy: 0.9683 - recall_2: 0.9739 - precision_2: 0.9787\n",
      "Epoch 8/10\n",
      "4388/4388 [==============================] - 19s 4ms/step - loss: 0.0802 - accuracy: 0.9687 - recall_2: 0.9746 - precision_2: 0.9785\n",
      "Epoch 9/10\n",
      "4388/4388 [==============================] - 19s 4ms/step - loss: 0.0797 - accuracy: 0.9696 - recall_2: 0.9762 - precision_2: 0.9784\n",
      "Epoch 10/10\n",
      "4388/4388 [==============================] - 18s 4ms/step - loss: 0.0792 - accuracy: 0.9706 - recall_2: 0.9778 - precision_2: 0.9782\n"
     ]
    }
   ],
   "source": [
    "fit_stacked_model(stacked_model_for_N1, X_df1_sample, Y_df1_sample)"
   ]
  },
  {
   "cell_type": "code",
   "execution_count": 87,
   "id": "a17fd6a6",
   "metadata": {},
   "outputs": [
    {
     "name": "stdout",
     "output_type": "stream",
     "text": [
      "528796/528796 [==============================] - 1334s 3ms/step - loss: 0.0785 - accuracy: 0.9758 - recall_2: 0.9895 - precision_2: 0.9748\n",
      "Test loss: 0.07853423804044724\n",
      "Test accuracy: 0.975837767124176\n",
      "Test recfor: 0.989456295967102\n",
      "Test precision: 0.9748126268386841\n"
     ]
    }
   ],
   "source": [
    "score_stack_for_N1 = evaluate_stacked_model(stacked_model_for_N1, X_df1_test, Y_df1_test)\n",
    "\n",
    "print('Test loss:', score_stack_for_N1[0]) \n",
    "print('Test accuracy:', score_stack_for_N1[1])\n",
    "print('Test recfor:', score_stack_for_N1[2]) \n",
    "print('Test precision:', score_stack_for_N1[3])"
   ]
  },
  {
   "cell_type": "code",
   "execution_count": 88,
   "id": "64e1ebe3",
   "metadata": {},
   "outputs": [],
   "source": [
    "stacked_model_for_N2 = define_stacked_model(all_models)"
   ]
  },
  {
   "cell_type": "code",
   "execution_count": 89,
   "id": "dac62a2b",
   "metadata": {},
   "outputs": [
    {
     "name": "stdout",
     "output_type": "stream",
     "text": [
      "Epoch 1/10\n",
      "140/140 [==============================] - 2s 4ms/step - loss: 0.5560 - accuracy: 0.9484 - recall_3: 0.0776 - precision_3: 0.1528\n",
      "Epoch 2/10\n",
      "140/140 [==============================] - 1s 4ms/step - loss: 0.2204 - accuracy: 0.9650 - recall_3: 0.0915 - precision_3: 0.9084\n",
      "Epoch 3/10\n",
      "140/140 [==============================] - 1s 4ms/step - loss: 0.1010 - accuracy: 0.9795 - recall_3: 0.5382 - precision_3: 0.8770\n",
      "Epoch 4/10\n",
      "140/140 [==============================] - 1s 4ms/step - loss: 0.0580 - accuracy: 0.9889 - recall_3: 0.8286 - precision_3: 0.8751\n",
      "Epoch 5/10\n",
      "140/140 [==============================] - 1s 4ms/step - loss: 0.0403 - accuracy: 0.9946 - recall_3: 0.9838 - precision_3: 0.8878\n",
      "Epoch 6/10\n",
      "140/140 [==============================] - 1s 4ms/step - loss: 0.0319 - accuracy: 0.9948 - recall_3: 0.9883 - precision_3: 0.8881\n",
      "Epoch 7/10\n",
      "140/140 [==============================] - 1s 4ms/step - loss: 0.0274 - accuracy: 0.9949 - recall_3: 0.9896 - precision_3: 0.8884\n",
      "Epoch 8/10\n",
      "140/140 [==============================] - 1s 4ms/step - loss: 0.0248 - accuracy: 0.9949 - recall_3: 0.9893 - precision_3: 0.8885\n",
      "Epoch 9/10\n",
      "140/140 [==============================] - 1s 4ms/step - loss: 0.0231 - accuracy: 0.9948 - recall_3: 0.9891 - precision_3: 0.8885\n",
      "Epoch 10/10\n",
      "140/140 [==============================] - 1s 4ms/step - loss: 0.0219 - accuracy: 0.9949 - recall_3: 0.9889 - precision_3: 0.8888\n"
     ]
    }
   ],
   "source": [
    "fit_stacked_model(stacked_model_for_N2, X_df2_sample, Y_df2_sample)"
   ]
  },
  {
   "cell_type": "code",
   "execution_count": 90,
   "id": "9a46d852",
   "metadata": {},
   "outputs": [
    {
     "name": "stdout",
     "output_type": "stream",
     "text": [
      "16764/16764 [==============================] - 48s 3ms/step - loss: 0.0206 - accuracy: 0.9951 - recall_3: 0.9897 - precision_3: 0.8914\n",
      "Test loss: 0.020580749958753586\n",
      "Test accuracy: 0.9950710535049438\n",
      "Test recfor: 0.9896999001502991\n",
      "Test precision: 0.8913567066192627\n"
     ]
    }
   ],
   "source": [
    "score_stack_for_N2 = evaluate_stacked_model(stacked_model_for_N2, X_df2_test, Y_df2_test)\n",
    "\n",
    "print('Test loss:', score_stack_for_N2[0]) \n",
    "print('Test accuracy:', score_stack_for_N2[1])\n",
    "print('Test recfor:', score_stack_for_N2[2]) \n",
    "print('Test precision:', score_stack_for_N2[3])"
   ]
  },
  {
   "cell_type": "code",
   "execution_count": 91,
   "id": "5e017056",
   "metadata": {},
   "outputs": [],
   "source": [
    "stacked_model_for_N3 = define_stacked_model(all_models)"
   ]
  },
  {
   "cell_type": "code",
   "execution_count": 92,
   "id": "07634e3e",
   "metadata": {},
   "outputs": [
    {
     "name": "stdout",
     "output_type": "stream",
     "text": [
      "Epoch 1/10\n",
      "2130/2130 [==============================] - 10s 4ms/step - loss: 0.0682 - accuracy: 0.9752 - recall_4: 0.9776 - precision_4: 0.9974\n",
      "Epoch 2/10\n",
      "2130/2130 [==============================] - 9s 4ms/step - loss: 0.0066 - accuracy: 0.9988 - recall_4: 0.9997 - precision_4: 0.9991\n",
      "Epoch 3/10\n",
      "2130/2130 [==============================] - 9s 4ms/step - loss: 0.0063 - accuracy: 0.9989 - recall_4: 0.9997 - precision_4: 0.9992\n",
      "Epoch 4/10\n",
      "2130/2130 [==============================] - 9s 4ms/step - loss: 0.0061 - accuracy: 0.9989 - recall_4: 0.9997 - precision_4: 0.9992\n",
      "Epoch 5/10\n",
      "2130/2130 [==============================] - 9s 4ms/step - loss: 0.0059 - accuracy: 0.9989 - recall_4: 0.9997 - precision_4: 0.9992\n",
      "Epoch 6/10\n",
      "2130/2130 [==============================] - 9s 4ms/step - loss: 0.0058 - accuracy: 0.9989 - recall_4: 0.9997 - precision_4: 0.9992\n",
      "Epoch 7/10\n",
      "2130/2130 [==============================] - 9s 4ms/step - loss: 0.0057 - accuracy: 0.9989 - recall_4: 0.9997 - precision_4: 0.9992\n",
      "Epoch 8/10\n",
      "2130/2130 [==============================] - 9s 4ms/step - loss: 0.0056 - accuracy: 0.9989 - recall_4: 0.9997 - precision_4: 0.9992\n",
      "Epoch 9/10\n",
      "2130/2130 [==============================] - 9s 4ms/step - loss: 0.0056 - accuracy: 0.9989 - recall_4: 0.9997 - precision_4: 0.9992\n",
      "Epoch 10/10\n",
      "2130/2130 [==============================] - 9s 4ms/step - loss: 0.0056 - accuracy: 0.9989 - recall_4: 0.9997 - precision_4: 0.9992\n"
     ]
    }
   ],
   "source": [
    "fit_stacked_model(stacked_model_for_N3, X_df3_sample, Y_df3_sample)"
   ]
  },
  {
   "cell_type": "code",
   "execution_count": 93,
   "id": "b6891b41",
   "metadata": {},
   "outputs": [
    {
     "name": "stdout",
     "output_type": "stream",
     "text": [
      "256670/256670 [==============================] - 657s 3ms/step - loss: 0.0078 - accuracy: 0.9984 - recall_4: 0.9991 - precision_4: 0.9993\n",
      "Test loss: 0.007801193743944168\n",
      "Test accuracy: 0.9984480142593384\n",
      "Test recfor: 0.99912428855896\n",
      "Test precision: 0.9993169903755188\n"
     ]
    }
   ],
   "source": [
    "score_stack_for_N3 = evaluate_stacked_model(stacked_model_for_N3, X_df3_test, Y_df3_test)\n",
    "\n",
    "print('Test loss:', score_stack_for_N3[0]) \n",
    "print('Test accuracy:', score_stack_for_N3[1])\n",
    "print('Test recfor:', score_stack_for_N3[2]) \n",
    "print('Test precision:', score_stack_for_N3[3])"
   ]
  },
  {
   "cell_type": "code",
   "execution_count": 94,
   "id": "bd95b204",
   "metadata": {},
   "outputs": [],
   "source": [
    "stacked_model_for_N4 = define_stacked_model(all_models)"
   ]
  },
  {
   "cell_type": "code",
   "execution_count": 95,
   "id": "39ff815d",
   "metadata": {},
   "outputs": [
    {
     "name": "stdout",
     "output_type": "stream",
     "text": [
      "Epoch 1/10\n",
      "1200/1200 [==============================] - 6s 4ms/step - loss: 0.2433 - accuracy: 0.9074 - recall_5: 0.2931 - precision_5: 0.7970\n",
      "Epoch 2/10\n",
      "1200/1200 [==============================] - 5s 4ms/step - loss: 0.1490 - accuracy: 0.9277 - recall_5: 0.4057 - precision_5: 0.9607\n",
      "Epoch 3/10\n",
      "1200/1200 [==============================] - 5s 4ms/step - loss: 0.1442 - accuracy: 0.9305 - recall_5: 0.4331 - precision_5: 0.9553\n",
      "Epoch 4/10\n",
      "1200/1200 [==============================] - 5s 4ms/step - loss: 0.1403 - accuracy: 0.9438 - recall_5: 0.5635 - precision_5: 0.9371\n",
      "Epoch 5/10\n",
      "1200/1200 [==============================] - 5s 4ms/step - loss: 0.1359 - accuracy: 0.9630 - recall_5: 0.7793 - precision_5: 0.8945\n",
      "Epoch 6/10\n",
      "1200/1200 [==============================] - 5s 4ms/step - loss: 0.1304 - accuracy: 0.9726 - recall_5: 0.9257 - precision_5: 0.8548\n",
      "Epoch 7/10\n",
      "1200/1200 [==============================] - 5s 4ms/step - loss: 0.1258 - accuracy: 0.9694 - recall_5: 0.9287 - precision_5: 0.8324\n",
      "Epoch 8/10\n",
      "1200/1200 [==============================] - 5s 4ms/step - loss: 0.1218 - accuracy: 0.9690 - recall_5: 0.9286 - precision_5: 0.8300\n",
      "Epoch 9/10\n",
      "1200/1200 [==============================] - 5s 4ms/step - loss: 0.1169 - accuracy: 0.9706 - recall_5: 0.9286 - precision_5: 0.8403\n",
      "Epoch 10/10\n",
      "1200/1200 [==============================] - 5s 4ms/step - loss: 0.1122 - accuracy: 0.9715 - recall_5: 0.9283 - precision_5: 0.8458\n"
     ]
    }
   ],
   "source": [
    "fit_stacked_model(stacked_model_for_N4, X_df4_sample, Y_df4_sample)"
   ]
  },
  {
   "cell_type": "code",
   "execution_count": 96,
   "id": "254a88f1",
   "metadata": {},
   "outputs": [
    {
     "name": "stdout",
     "output_type": "stream",
     "text": [
      "144532/144532 [==============================] - 348s 2ms/step - loss: 0.0499 - accuracy: 0.9855 - recall_5: 0.9264 - precision_5: 0.9495\n",
      "Test loss: 0.04989439994096756\n",
      "Test accuracy: 0.98545241355896\n",
      "Test recfor: 0.9264001846313477\n",
      "Test precision: 0.9495044946670532\n"
     ]
    }
   ],
   "source": [
    "score_stack_for_N4 = evaluate_stacked_model(stacked_model_for_N4, X_df4_test, Y_df4_test)\n",
    "\n",
    "print('Test loss:', score_stack_for_N4[0]) \n",
    "print('Test accuracy:', score_stack_for_N4[1])\n",
    "print('Test recfor:', score_stack_for_N4[2]) \n",
    "print('Test precision:', score_stack_for_N4[3])"
   ]
  },
  {
   "cell_type": "code",
   "execution_count": 97,
   "id": "6b417463",
   "metadata": {},
   "outputs": [],
   "source": [
    "stacked_model_for_N5 = define_stacked_model(all_models)"
   ]
  },
  {
   "cell_type": "code",
   "execution_count": 98,
   "id": "d9ba98b5",
   "metadata": {},
   "outputs": [
    {
     "name": "stdout",
     "output_type": "stream",
     "text": [
      "Epoch 1/10\n",
      "920/920 [==============================] - 5s 4ms/step - loss: 0.2774 - accuracy: 0.8778 - recall_6: 0.9925 - precision_6: 0.8604\n",
      "Epoch 2/10\n",
      "920/920 [==============================] - 4s 4ms/step - loss: 0.0901 - accuracy: 0.9734 - recall_6: 0.9867 - precision_6: 0.9769\n",
      "Epoch 3/10\n",
      "920/920 [==============================] - 4s 4ms/step - loss: 0.0817 - accuracy: 0.9743 - recall_6: 0.9850 - precision_6: 0.9797\n",
      "Epoch 4/10\n",
      "920/920 [==============================] - 4s 4ms/step - loss: 0.0804 - accuracy: 0.9744 - recall_6: 0.9847 - precision_6: 0.9801\n",
      "Epoch 5/10\n",
      "920/920 [==============================] - 4s 4ms/step - loss: 0.0793 - accuracy: 0.9744 - recall_6: 0.9847 - precision_6: 0.9801\n",
      "Epoch 6/10\n",
      "920/920 [==============================] - 4s 4ms/step - loss: 0.0785 - accuracy: 0.9744 - recall_6: 0.9847 - precision_6: 0.9801\n",
      "Epoch 7/10\n",
      "920/920 [==============================] - 4s 4ms/step - loss: 0.0781 - accuracy: 0.9743 - recall_6: 0.9846 - precision_6: 0.9801\n",
      "Epoch 8/10\n",
      "920/920 [==============================] - 4s 4ms/step - loss: 0.0780 - accuracy: 0.9743 - recall_6: 0.9847 - precision_6: 0.9800\n",
      "Epoch 9/10\n",
      "920/920 [==============================] - 4s 4ms/step - loss: 0.0778 - accuracy: 0.9743 - recall_6: 0.9847 - precision_6: 0.9799\n",
      "Epoch 10/10\n",
      "920/920 [==============================] - 4s 4ms/step - loss: 0.0776 - accuracy: 0.9743 - recall_6: 0.9847 - precision_6: 0.9799\n"
     ]
    }
   ],
   "source": [
    "fit_stacked_model(stacked_model_for_N5, X_df5_sample, Y_df5_sample)"
   ]
  },
  {
   "cell_type": "code",
   "execution_count": 99,
   "id": "856c2fad",
   "metadata": {},
   "outputs": [
    {
     "name": "stdout",
     "output_type": "stream",
     "text": [
      "110834/110834 [==============================] - 272s 2ms/step - loss: 0.2280 - accuracy: 0.8792 - recall_6: 0.8544 - precision_6: 0.9763\n",
      "Test loss: 0.22796517610549927\n",
      "Test accuracy: 0.8792442679405212\n",
      "Test recfor: 0.8544266223907471\n",
      "Test precision: 0.9762663841247559\n"
     ]
    }
   ],
   "source": [
    "score_stack_for_N5 = evaluate_stacked_model(stacked_model_for_N5, X_df5_test, Y_df5_test)\n",
    "\n",
    "print('Test loss:', score_stack_for_N5[0]) \n",
    "print('Test accuracy:', score_stack_for_N5[1])\n",
    "print('Test recfor:', score_stack_for_N5[2]) \n",
    "print('Test precision:', score_stack_for_N5[3])"
   ]
  },
  {
   "cell_type": "code",
   "execution_count": 100,
   "id": "3db9af1f",
   "metadata": {},
   "outputs": [],
   "source": [
    "stacked_model_N1 = define_stacked_model(all_models_N1)"
   ]
  },
  {
   "cell_type": "code",
   "execution_count": 101,
   "id": "0c7f7c61",
   "metadata": {},
   "outputs": [
    {
     "name": "stdout",
     "output_type": "stream",
     "text": [
      "Epoch 1/10\n",
      "4388/4388 [==============================] - 18s 4ms/step - loss: 0.4693 - accuracy: 0.7666 - recall_7: 0.9195 - precision_7: 0.7741\n",
      "Epoch 2/10\n",
      "4388/4388 [==============================] - 18s 4ms/step - loss: 0.3841 - accuracy: 0.8160 - recall_7: 0.9074 - precision_7: 0.8326\n",
      "Epoch 3/10\n",
      "4388/4388 [==============================] - 18s 4ms/step - loss: 0.3726 - accuracy: 0.8186 - recall_7: 0.9078 - precision_7: 0.8353\n",
      "Epoch 4/10\n",
      "4388/4388 [==============================] - 18s 4ms/step - loss: 0.3700 - accuracy: 0.8183 - recall_7: 0.9088 - precision_7: 0.8344\n",
      "Epoch 5/10\n",
      "4388/4388 [==============================] - 18s 4ms/step - loss: 0.3683 - accuracy: 0.8182 - recall_7: 0.9090 - precision_7: 0.8341\n",
      "Epoch 6/10\n",
      "4388/4388 [==============================] - 17s 4ms/step - loss: 0.3672 - accuracy: 0.8177 - recall_7: 0.9090 - precision_7: 0.8336\n",
      "Epoch 7/10\n",
      "4388/4388 [==============================] - 18s 4ms/step - loss: 0.3663 - accuracy: 0.8187 - recall_7: 0.9112 - precision_7: 0.8333\n",
      "Epoch 8/10\n",
      "4388/4388 [==============================] - 17s 4ms/step - loss: 0.3652 - accuracy: 0.8200 - recall_7: 0.9157 - precision_7: 0.8321\n",
      "Epoch 9/10\n",
      "4388/4388 [==============================] - 18s 4ms/step - loss: 0.3645 - accuracy: 0.8197 - recall_7: 0.9164 - precision_7: 0.8314\n",
      "Epoch 10/10\n",
      "4388/4388 [==============================] - 17s 4ms/step - loss: 0.3643 - accuracy: 0.8198 - recall_7: 0.9169 - precision_7: 0.8312\n"
     ]
    }
   ],
   "source": [
    "fit_stacked_model(stacked_model_N1, X_df1_sample, Y_df1_sample)"
   ]
  },
  {
   "cell_type": "code",
   "execution_count": 102,
   "id": "ae48c2cf",
   "metadata": {},
   "outputs": [
    {
     "name": "stdout",
     "output_type": "stream",
     "text": [
      "528796/528796 [==============================] - 1291s 2ms/step - loss: 0.3783 - accuracy: 0.8134 - recall_7: 0.9134 - precision_7: 0.8262\n",
      "Test loss: 0.37834659218788147\n",
      "Test accuracy: 0.8134326934814453\n",
      "Test recfor: 0.9133793115615845\n",
      "Test precision: 0.826156735420227\n"
     ]
    }
   ],
   "source": [
    "score_stack_N1 = evaluate_stacked_model(stacked_model_N1, X_df1_test, Y_df1_test)\n",
    "\n",
    "print('Test loss:', score_stack_N1[0]) \n",
    "print('Test accuracy:', score_stack_N1[1])\n",
    "print('Test recfor:', score_stack_N1[2]) \n",
    "print('Test precision:', score_stack_N1[3])"
   ]
  },
  {
   "cell_type": "code",
   "execution_count": 29,
   "id": "952e2dc7",
   "metadata": {},
   "outputs": [],
   "source": [
    "stacked_model_N2 = define_stacked_model(all_models_N2)"
   ]
  },
  {
   "cell_type": "code",
   "execution_count": 30,
   "id": "9c46284a",
   "metadata": {},
   "outputs": [
    {
     "name": "stdout",
     "output_type": "stream",
     "text": [
      "Epoch 1/3\n",
      "544/544 [==============================] - 3s 3ms/step - loss: 0.1802 - accuracy: 0.9618 - recall_1: 0.0000e+00 - precision_1: 0.0000e+00\n",
      "Epoch 2/3\n",
      "544/544 [==============================] - 2s 3ms/step - loss: 0.1466 - accuracy: 0.9618 - recall_1: 9.4162e-04 - precision_1: 0.6250\n",
      "Epoch 3/3\n",
      "544/544 [==============================] - 2s 3ms/step - loss: 0.1408 - accuracy: 0.9623 - recall_1: 0.0177 - precision_1: 0.7581\n"
     ]
    }
   ],
   "source": [
    "fit_stacked_model(stacked_model_N2, X_df2_sample, Y_df2_sample)"
   ]
  },
  {
   "cell_type": "code",
   "execution_count": 31,
   "id": "598542d6",
   "metadata": {},
   "outputs": [
    {
     "name": "stdout",
     "output_type": "stream",
     "text": [
      "16764/16764 [==============================] - 42s 2ms/step - loss: 0.1366 - accuracy: 0.9639 - recall_1: 0.0493 - precision_1: 0.8382\n",
      "Test loss: 0.13663224875926971\n",
      "Test accuracy: 0.9638511538505554\n",
      "Test recfor: 0.04927206039428711\n",
      "Test precision: 0.8382476568222046\n"
     ]
    }
   ],
   "source": [
    "score_stack_N2 = evaluate_stacked_model(stacked_model_N2, X_df2_test, Y_df2_test)\n",
    "\n",
    "print('Test loss:', score_stack_N2[0]) \n",
    "print('Test accuracy:', score_stack_N2[1])\n",
    "print('Test recfor:', score_stack_N2[2]) \n",
    "print('Test precision:', score_stack_N2[3])"
   ]
  },
  {
   "cell_type": "code",
   "execution_count": 106,
   "id": "346381f2",
   "metadata": {},
   "outputs": [],
   "source": [
    "stacked_model_N3 = define_stacked_model(all_models_N3)"
   ]
  },
  {
   "cell_type": "code",
   "execution_count": 107,
   "id": "fb0560dc",
   "metadata": {},
   "outputs": [
    {
     "name": "stdout",
     "output_type": "stream",
     "text": [
      "Epoch 1/10\n",
      "2130/2130 [==============================] - 10s 4ms/step - loss: 0.1098 - accuracy: 0.9683 - recall_9: 0.9723 - precision_9: 0.9958\n",
      "Epoch 2/10\n",
      "2130/2130 [==============================] - 8s 4ms/step - loss: 0.0200 - accuracy: 0.9958 - recall_9: 1.0000 - precision_9: 0.9958\n",
      "Epoch 3/10\n",
      "2130/2130 [==============================] - 8s 4ms/step - loss: 0.0178 - accuracy: 0.9958 - recall_9: 1.0000 - precision_9: 0.9958\n",
      "Epoch 4/10\n",
      "2130/2130 [==============================] - 9s 4ms/step - loss: 0.0172 - accuracy: 0.9958 - recall_9: 1.0000 - precision_9: 0.9958\n",
      "Epoch 5/10\n",
      "2130/2130 [==============================] - 8s 4ms/step - loss: 0.0170 - accuracy: 0.9958 - recall_9: 1.0000 - precision_9: 0.9958\n",
      "Epoch 6/10\n",
      "2130/2130 [==============================] - 8s 4ms/step - loss: 0.0168 - accuracy: 0.9960 - recall_9: 1.0000 - precision_9: 0.9960\n",
      "Epoch 7/10\n",
      "2130/2130 [==============================] - 8s 4ms/step - loss: 0.0165 - accuracy: 0.9960 - recall_9: 1.0000 - precision_9: 0.9960\n",
      "Epoch 8/10\n",
      "2130/2130 [==============================] - 9s 4ms/step - loss: 0.0160 - accuracy: 0.9961 - recall_9: 1.0000 - precision_9: 0.9961\n",
      "Epoch 9/10\n",
      "2130/2130 [==============================] - 9s 4ms/step - loss: 0.0157 - accuracy: 0.9961 - recall_9: 0.9999 - precision_9: 0.9962\n",
      "Epoch 10/10\n",
      "2130/2130 [==============================] - 9s 4ms/step - loss: 0.0156 - accuracy: 0.9961 - recall_9: 0.9999 - precision_9: 0.9962\n"
     ]
    }
   ],
   "source": [
    "fit_stacked_model(stacked_model_N3, X_df3_sample, Y_df3_sample)"
   ]
  },
  {
   "cell_type": "code",
   "execution_count": 108,
   "id": "2e3920cc",
   "metadata": {},
   "outputs": [
    {
     "name": "stdout",
     "output_type": "stream",
     "text": [
      "256670/256670 [==============================] - 617s 2ms/step - loss: 0.0332 - accuracy: 0.9884 - recall_9: 0.9922 - precision_9: 0.9961\n",
      "Test loss: 0.03315717354416847\n",
      "Test accuracy: 0.9884200692176819\n",
      "Test recfor: 0.9922232627868652\n",
      "Test precision: 0.9961321353912354\n"
     ]
    }
   ],
   "source": [
    "score_stack_N3 = evaluate_stacked_model(stacked_model_N3, X_df3_test, Y_df3_test)\n",
    "\n",
    "print('Test loss:', score_stack_N3[0]) \n",
    "print('Test accuracy:', score_stack_N3[1])\n",
    "print('Test recfor:', score_stack_N3[2]) \n",
    "print('Test precision:', score_stack_N3[3])"
   ]
  },
  {
   "cell_type": "code",
   "execution_count": 109,
   "id": "48b9fbbe",
   "metadata": {},
   "outputs": [],
   "source": [
    "stacked_model_N4 = define_stacked_model(all_models_N4)"
   ]
  },
  {
   "cell_type": "code",
   "execution_count": 110,
   "id": "78f63758",
   "metadata": {},
   "outputs": [
    {
     "name": "stdout",
     "output_type": "stream",
     "text": [
      "Epoch 1/10\n",
      "1200/1200 [==============================] - 6s 4ms/step - loss: 0.3030 - accuracy: 0.8757 - recall_10: 3.3803e-04 - precision_10: 0.0067\n",
      "Epoch 2/10\n",
      "1200/1200 [==============================] - 5s 4ms/step - loss: 0.2313 - accuracy: 0.8812 - recall_10: 0.0038 - precision_10: 0.3652\n",
      "Epoch 3/10\n",
      "1200/1200 [==============================] - 5s 4ms/step - loss: 0.2279 - accuracy: 0.8845 - recall_10: 0.0441 - precision_10: 0.6906\n",
      "Epoch 4/10\n",
      "1200/1200 [==============================] - 5s 4ms/step - loss: 0.2215 - accuracy: 0.8916 - recall_10: 0.1465 - precision_10: 0.7044\n",
      "Epoch 5/10\n",
      "1200/1200 [==============================] - 5s 4ms/step - loss: 0.2161 - accuracy: 0.9074 - recall_10: 0.3771 - precision_10: 0.7037\n",
      "Epoch 6/10\n",
      "1200/1200 [==============================] - 5s 4ms/step - loss: 0.2121 - accuracy: 0.9154 - recall_10: 0.5238 - precision_10: 0.6873\n",
      "Epoch 7/10\n",
      "1200/1200 [==============================] - 5s 4ms/step - loss: 0.2092 - accuracy: 0.9182 - recall_10: 0.6191 - precision_10: 0.6662\n",
      "Epoch 8/10\n",
      "1200/1200 [==============================] - 5s 4ms/step - loss: 0.2069 - accuracy: 0.9161 - recall_10: 0.6308 - precision_10: 0.6502\n",
      "Epoch 9/10\n",
      "1200/1200 [==============================] - 5s 4ms/step - loss: 0.2051 - accuracy: 0.9181 - recall_10: 0.6969 - precision_10: 0.6422\n",
      "Epoch 10/10\n",
      "1200/1200 [==============================] - 5s 4ms/step - loss: 0.2033 - accuracy: 0.9179 - recall_10: 0.7083 - precision_10: 0.6380\n"
     ]
    }
   ],
   "source": [
    "fit_stacked_model(stacked_model_N4, X_df4_sample, Y_df4_sample)"
   ]
  },
  {
   "cell_type": "code",
   "execution_count": 111,
   "id": "f6706da8",
   "metadata": {},
   "outputs": [
    {
     "name": "stdout",
     "output_type": "stream",
     "text": [
      "144532/144532 [==============================] - 357s 2ms/step - loss: 0.1637 - accuracy: 0.9502 - recall_10: 0.6319 - precision_10: 0.9228\n",
      "Test loss: 0.16368190944194794\n",
      "Test accuracy: 0.9501634836196899\n",
      "Test recfor: 0.6319260001182556\n",
      "Test precision: 0.9228391647338867\n"
     ]
    }
   ],
   "source": [
    "score_stack_N4 = evaluate_stacked_model(stacked_model_N4, X_df4_test, Y_df4_test)\n",
    "\n",
    "print('Test loss:', score_stack_N4[0]) \n",
    "print('Test accuracy:', score_stack_N4[1])\n",
    "print('Test recfor:', score_stack_N4[2]) \n",
    "print('Test precision:', score_stack_N4[3])"
   ]
  },
  {
   "cell_type": "code",
   "execution_count": 112,
   "id": "8aef16b4",
   "metadata": {},
   "outputs": [],
   "source": [
    "stacked_model_N5 = define_stacked_model(all_models_N5)"
   ]
  },
  {
   "cell_type": "code",
   "execution_count": 113,
   "id": "264398b4",
   "metadata": {},
   "outputs": [
    {
     "name": "stdout",
     "output_type": "stream",
     "text": [
      "Epoch 1/10\n",
      "920/920 [==============================] - 5s 4ms/step - loss: 0.5768 - accuracy: 0.7176 - recall_11: 0.9721 - precision_11: 0.7289\n",
      "Epoch 2/10\n",
      "920/920 [==============================] - 4s 4ms/step - loss: 0.5374 - accuracy: 0.7277 - recall_11: 0.9854 - precision_11: 0.7320\n",
      "Epoch 3/10\n",
      "920/920 [==============================] - 3s 4ms/step - loss: 0.5304 - accuracy: 0.7266 - recall_11: 0.9804 - precision_11: 0.7329\n",
      "Epoch 4/10\n",
      "920/920 [==============================] - 4s 4ms/step - loss: 0.5249 - accuracy: 0.7272 - recall_11: 0.9797 - precision_11: 0.7336\n",
      "Epoch 5/10\n",
      "920/920 [==============================] - 4s 4ms/step - loss: 0.5180 - accuracy: 0.7295 - recall_11: 0.9800 - precision_11: 0.7352\n",
      "Epoch 6/10\n",
      "920/920 [==============================] - 4s 4ms/step - loss: 0.5120 - accuracy: 0.7323 - recall_11: 0.9809 - precision_11: 0.7371\n",
      "Epoch 7/10\n",
      "920/920 [==============================] - 4s 4ms/step - loss: 0.5066 - accuracy: 0.7359 - recall_11: 0.9817 - precision_11: 0.7395\n",
      "Epoch 8/10\n",
      "920/920 [==============================] - 4s 4ms/step - loss: 0.5023 - accuracy: 0.7385 - recall_11: 0.9826 - precision_11: 0.7412\n",
      "Epoch 9/10\n",
      "920/920 [==============================] - 4s 4ms/step - loss: 0.4988 - accuracy: 0.7404 - recall_11: 0.9851 - precision_11: 0.7418\n",
      "Epoch 10/10\n",
      "920/920 [==============================] - 4s 4ms/step - loss: 0.4960 - accuracy: 0.7428 - recall_11: 0.9878 - precision_11: 0.7426\n"
     ]
    }
   ],
   "source": [
    "fit_stacked_model(stacked_model_N5, X_df5_sample, Y_df5_sample)"
   ]
  },
  {
   "cell_type": "code",
   "execution_count": 114,
   "id": "386a810f",
   "metadata": {},
   "outputs": [
    {
     "name": "stdout",
     "output_type": "stream",
     "text": [
      "110834/110834 [==============================] - 263s 2ms/step - loss: 0.4911 - accuracy: 0.7462 - recall_11: 0.9898 - precision_11: 0.7447\n",
      "Test loss: 0.4911026954650879\n",
      "Test accuracy: 0.7462241053581238\n",
      "Test recfor: 0.9897648692131042\n",
      "Test precision: 0.7446799874305725\n"
     ]
    }
   ],
   "source": [
    "score_stack_N5 = evaluate_stacked_model(stacked_model_N5, X_df5_test, Y_df5_test)\n",
    "\n",
    "print('Test loss:', score_stack_N5[0]) \n",
    "print('Test accuracy:', score_stack_N5[1])\n",
    "print('Test recfor:', score_stack_N5[2]) \n",
    "print('Test precision:', score_stack_N5[3])"
   ]
  },
  {
   "cell_type": "code",
   "execution_count": null,
   "id": "4b711e36",
   "metadata": {},
   "outputs": [],
   "source": []
  }
 ],
 "metadata": {
  "kernelspec": {
   "display_name": "Python 3 (ipykernel)",
   "language": "python",
   "name": "python3"
  },
  "language_info": {
   "codemirror_mode": {
    "name": "ipython",
    "version": 3
   },
   "file_extension": ".py",
   "mimetype": "text/x-python",
   "name": "python",
   "nbconvert_exporter": "python",
   "pygments_lexer": "ipython3",
   "version": "3.10.12"
  }
 },
 "nbformat": 4,
 "nbformat_minor": 5
}
