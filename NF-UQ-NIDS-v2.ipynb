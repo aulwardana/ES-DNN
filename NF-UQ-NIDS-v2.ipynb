{
 "cells": [
  {
   "cell_type": "code",
   "execution_count": 1,
   "id": "58e22322",
   "metadata": {},
   "outputs": [],
   "source": [
    "import pandas as pd\n",
    "import numpy as np\n",
    "from sklearn.model_selection import train_test_split"
   ]
  },
  {
   "cell_type": "code",
   "execution_count": 4,
   "id": "a2bbe221",
   "metadata": {},
   "outputs": [
    {
     "name": "stdout",
     "output_type": "stream",
     "text": [
      "<class 'pandas.core.frame.DataFrame'>\n",
      "Index: 39483368 entries, 12832663 to 43720680\n",
      "Data columns (total 40 columns):\n",
      " #   Column                       Dtype  \n",
      "---  ------                       -----  \n",
      " 0   PROTOCOL                     int16  \n",
      " 1   L7_PROTO                     float32\n",
      " 2   IN_BYTES                     int32  \n",
      " 3   IN_PKTS                      int32  \n",
      " 4   OUT_BYTES                    int32  \n",
      " 5   OUT_PKTS                     int32  \n",
      " 6   TCP_FLAGS                    int16  \n",
      " 7   CLIENT_TCP_FLAGS             int16  \n",
      " 8   SERVER_TCP_FLAGS             int16  \n",
      " 9   FLOW_DURATION_MILLISECONDS   int32  \n",
      " 10  DURATION_IN                  int32  \n",
      " 11  DURATION_OUT                 int32  \n",
      " 12  MIN_TTL                      int16  \n",
      " 13  MAX_TTL                      int16  \n",
      " 14  LONGEST_FLOW_PKT             int32  \n",
      " 15  SHORTEST_FLOW_PKT            int16  \n",
      " 16  MIN_IP_PKT_LEN               int16  \n",
      " 17  MAX_IP_PKT_LEN               int32  \n",
      " 18  SRC_TO_DST_SECOND_BYTES      float32\n",
      " 19  DST_TO_SRC_SECOND_BYTES      float32\n",
      " 20  RETRANSMITTED_IN_BYTES       int32  \n",
      " 21  RETRANSMITTED_IN_PKTS        int16  \n",
      " 22  RETRANSMITTED_OUT_BYTES      int32  \n",
      " 23  RETRANSMITTED_OUT_PKTS       int16  \n",
      " 24  SRC_TO_DST_AVG_THROUGHPUT    int64  \n",
      " 25  DST_TO_SRC_AVG_THROUGHPUT    int64  \n",
      " 26  NUM_PKTS_UP_TO_128_BYTES     int32  \n",
      " 27  NUM_PKTS_128_TO_256_BYTES    int32  \n",
      " 28  NUM_PKTS_256_TO_512_BYTES    int32  \n",
      " 29  NUM_PKTS_512_TO_1024_BYTES   int32  \n",
      " 30  NUM_PKTS_1024_TO_1514_BYTES  int32  \n",
      " 31  TCP_WIN_MAX_IN               int32  \n",
      " 32  TCP_WIN_MAX_OUT              int32  \n",
      " 33  ICMP_TYPE                    int32  \n",
      " 34  ICMP_IPV4_TYPE               int16  \n",
      " 35  DNS_QUERY_ID                 int32  \n",
      " 36  DNS_QUERY_TYPE               int32  \n",
      " 37  DNS_TTL_ANSWER               int32  \n",
      " 38  FTP_COMMAND_RET_CODE         float32\n",
      " 39  Label                        int8   \n",
      "dtypes: float32(4), int16(11), int32(22), int64(2), int8(1)\n",
      "memory usage: 5.6 GB\n"
     ]
    }
   ],
   "source": [
    "df1 = pd.read_parquet('/home/administrator/dataset/NF-UQ-NIDS/NF-UQ-NIDS-V2_train.parquet', engine='pyarrow')\n",
    "\n",
    "df1.info()"
   ]
  },
  {
   "cell_type": "code",
   "execution_count": 5,
   "id": "a939e7ae",
   "metadata": {},
   "outputs": [
    {
     "name": "stdout",
     "output_type": "stream",
     "text": [
      "<class 'pandas.core.frame.DataFrame'>\n",
      "Index: 4387041 entries, 30942776 to 44258283\n",
      "Data columns (total 40 columns):\n",
      " #   Column                       Dtype  \n",
      "---  ------                       -----  \n",
      " 0   PROTOCOL                     int16  \n",
      " 1   L7_PROTO                     float32\n",
      " 2   IN_BYTES                     int32  \n",
      " 3   IN_PKTS                      int32  \n",
      " 4   OUT_BYTES                    int32  \n",
      " 5   OUT_PKTS                     int32  \n",
      " 6   TCP_FLAGS                    int16  \n",
      " 7   CLIENT_TCP_FLAGS             int16  \n",
      " 8   SERVER_TCP_FLAGS             int16  \n",
      " 9   FLOW_DURATION_MILLISECONDS   int32  \n",
      " 10  DURATION_IN                  int32  \n",
      " 11  DURATION_OUT                 int32  \n",
      " 12  MIN_TTL                      int16  \n",
      " 13  MAX_TTL                      int16  \n",
      " 14  LONGEST_FLOW_PKT             int32  \n",
      " 15  SHORTEST_FLOW_PKT            int16  \n",
      " 16  MIN_IP_PKT_LEN               int16  \n",
      " 17  MAX_IP_PKT_LEN               int32  \n",
      " 18  SRC_TO_DST_SECOND_BYTES      float32\n",
      " 19  DST_TO_SRC_SECOND_BYTES      float32\n",
      " 20  RETRANSMITTED_IN_BYTES       int32  \n",
      " 21  RETRANSMITTED_IN_PKTS        int16  \n",
      " 22  RETRANSMITTED_OUT_BYTES      int32  \n",
      " 23  RETRANSMITTED_OUT_PKTS       int16  \n",
      " 24  SRC_TO_DST_AVG_THROUGHPUT    int64  \n",
      " 25  DST_TO_SRC_AVG_THROUGHPUT    int64  \n",
      " 26  NUM_PKTS_UP_TO_128_BYTES     int32  \n",
      " 27  NUM_PKTS_128_TO_256_BYTES    int32  \n",
      " 28  NUM_PKTS_256_TO_512_BYTES    int32  \n",
      " 29  NUM_PKTS_512_TO_1024_BYTES   int32  \n",
      " 30  NUM_PKTS_1024_TO_1514_BYTES  int32  \n",
      " 31  TCP_WIN_MAX_IN               int32  \n",
      " 32  TCP_WIN_MAX_OUT              int32  \n",
      " 33  ICMP_TYPE                    int32  \n",
      " 34  ICMP_IPV4_TYPE               int16  \n",
      " 35  DNS_QUERY_ID                 int32  \n",
      " 36  DNS_QUERY_TYPE               int32  \n",
      " 37  DNS_TTL_ANSWER               int32  \n",
      " 38  FTP_COMMAND_RET_CODE         float32\n",
      " 39  Label                        int8   \n",
      "dtypes: float32(4), int16(11), int32(22), int64(2), int8(1)\n",
      "memory usage: 631.8 MB\n"
     ]
    }
   ],
   "source": [
    "df3 = pd.read_parquet('/home/administrator/dataset/NF-UQ-NIDS/NF-UQ-NIDS-V2_sample.parquet', engine='pyarrow')\n",
    "\n",
    "df3.info()"
   ]
  },
  {
   "cell_type": "code",
   "execution_count": 6,
   "id": "dddeb0fb",
   "metadata": {},
   "outputs": [
    {
     "name": "stdout",
     "output_type": "stream",
     "text": [
      "<class 'pandas.core.frame.DataFrame'>\n",
      "Index: 1880161 entries, 10161496 to 10116363\n",
      "Data columns (total 40 columns):\n",
      " #   Column                       Dtype  \n",
      "---  ------                       -----  \n",
      " 0   PROTOCOL                     int16  \n",
      " 1   L7_PROTO                     float32\n",
      " 2   IN_BYTES                     int32  \n",
      " 3   IN_PKTS                      int32  \n",
      " 4   OUT_BYTES                    int32  \n",
      " 5   OUT_PKTS                     int32  \n",
      " 6   TCP_FLAGS                    int16  \n",
      " 7   CLIENT_TCP_FLAGS             int16  \n",
      " 8   SERVER_TCP_FLAGS             int16  \n",
      " 9   FLOW_DURATION_MILLISECONDS   int32  \n",
      " 10  DURATION_IN                  int32  \n",
      " 11  DURATION_OUT                 int32  \n",
      " 12  MIN_TTL                      int16  \n",
      " 13  MAX_TTL                      int16  \n",
      " 14  LONGEST_FLOW_PKT             int32  \n",
      " 15  SHORTEST_FLOW_PKT            int16  \n",
      " 16  MIN_IP_PKT_LEN               int16  \n",
      " 17  MAX_IP_PKT_LEN               int32  \n",
      " 18  SRC_TO_DST_SECOND_BYTES      float32\n",
      " 19  DST_TO_SRC_SECOND_BYTES      float32\n",
      " 20  RETRANSMITTED_IN_BYTES       int32  \n",
      " 21  RETRANSMITTED_IN_PKTS        int16  \n",
      " 22  RETRANSMITTED_OUT_BYTES      int32  \n",
      " 23  RETRANSMITTED_OUT_PKTS       int16  \n",
      " 24  SRC_TO_DST_AVG_THROUGHPUT    int64  \n",
      " 25  DST_TO_SRC_AVG_THROUGHPUT    int64  \n",
      " 26  NUM_PKTS_UP_TO_128_BYTES     int32  \n",
      " 27  NUM_PKTS_128_TO_256_BYTES    int32  \n",
      " 28  NUM_PKTS_256_TO_512_BYTES    int32  \n",
      " 29  NUM_PKTS_512_TO_1024_BYTES   int32  \n",
      " 30  NUM_PKTS_1024_TO_1514_BYTES  int32  \n",
      " 31  TCP_WIN_MAX_IN               int32  \n",
      " 32  TCP_WIN_MAX_OUT              int32  \n",
      " 33  ICMP_TYPE                    int32  \n",
      " 34  ICMP_IPV4_TYPE               int16  \n",
      " 35  DNS_QUERY_ID                 int32  \n",
      " 36  DNS_QUERY_TYPE               int32  \n",
      " 37  DNS_TTL_ANSWER               int32  \n",
      " 38  FTP_COMMAND_RET_CODE         float32\n",
      " 39  Label                        int8   \n",
      "dtypes: float32(4), int16(11), int32(22), int64(2), int8(1)\n",
      "memory usage: 270.8 MB\n"
     ]
    }
   ],
   "source": [
    "df4 = pd.read_parquet('/home/administrator/dataset/NF-UQ-NIDS/NF-UQ-NIDS-V2_valid.parquet', engine='pyarrow')\n",
    "\n",
    "df4.info()"
   ]
  },
  {
   "cell_type": "code",
   "execution_count": 4,
   "id": "2bac09c6",
   "metadata": {},
   "outputs": [
    {
     "name": "stdout",
     "output_type": "stream",
     "text": [
      "<class 'pandas.core.frame.DataFrame'>\n",
      "Index: 43870409 entries, 4809660 to 52205064\n",
      "Data columns (total 40 columns):\n",
      " #   Column                       Dtype  \n",
      "---  ------                       -----  \n",
      " 0   PROTOCOL                     int16  \n",
      " 1   L7_PROTO                     float32\n",
      " 2   IN_BYTES                     int32  \n",
      " 3   IN_PKTS                      int32  \n",
      " 4   OUT_BYTES                    int32  \n",
      " 5   OUT_PKTS                     int32  \n",
      " 6   TCP_FLAGS                    int16  \n",
      " 7   CLIENT_TCP_FLAGS             int16  \n",
      " 8   SERVER_TCP_FLAGS             int16  \n",
      " 9   FLOW_DURATION_MILLISECONDS   int32  \n",
      " 10  DURATION_IN                  int32  \n",
      " 11  DURATION_OUT                 int32  \n",
      " 12  MIN_TTL                      int16  \n",
      " 13  MAX_TTL                      int16  \n",
      " 14  LONGEST_FLOW_PKT             int32  \n",
      " 15  SHORTEST_FLOW_PKT            int16  \n",
      " 16  MIN_IP_PKT_LEN               int16  \n",
      " 17  MAX_IP_PKT_LEN               int32  \n",
      " 18  SRC_TO_DST_SECOND_BYTES      float32\n",
      " 19  DST_TO_SRC_SECOND_BYTES      float32\n",
      " 20  RETRANSMITTED_IN_BYTES       int32  \n",
      " 21  RETRANSMITTED_IN_PKTS        int16  \n",
      " 22  RETRANSMITTED_OUT_BYTES      int32  \n",
      " 23  RETRANSMITTED_OUT_PKTS       int16  \n",
      " 24  SRC_TO_DST_AVG_THROUGHPUT    int64  \n",
      " 25  DST_TO_SRC_AVG_THROUGHPUT    int64  \n",
      " 26  NUM_PKTS_UP_TO_128_BYTES     int32  \n",
      " 27  NUM_PKTS_128_TO_256_BYTES    int32  \n",
      " 28  NUM_PKTS_256_TO_512_BYTES    int32  \n",
      " 29  NUM_PKTS_512_TO_1024_BYTES   int32  \n",
      " 30  NUM_PKTS_1024_TO_1514_BYTES  int32  \n",
      " 31  TCP_WIN_MAX_IN               int32  \n",
      " 32  TCP_WIN_MAX_OUT              int32  \n",
      " 33  ICMP_TYPE                    int32  \n",
      " 34  ICMP_IPV4_TYPE               int16  \n",
      " 35  DNS_QUERY_ID                 int32  \n",
      " 36  DNS_QUERY_TYPE               int32  \n",
      " 37  DNS_TTL_ANSWER               int32  \n",
      " 38  FTP_COMMAND_RET_CODE         float32\n",
      " 39  Label                        int8   \n",
      "dtypes: float32(4), int16(11), int32(22), int64(2), int8(1)\n",
      "memory usage: 6.2 GB\n"
     ]
    }
   ],
   "source": [
    "df1 = df1.drop(df1.columns[[0, 1]], axis=1)\n",
    "\n",
    "df1.info()"
   ]
  },
  {
   "cell_type": "code",
   "execution_count": 7,
   "id": "c79a87bb",
   "metadata": {},
   "outputs": [],
   "source": [
    "train, sample = train_test_split(df1, test_size=0.1, random_state=100)"
   ]
  },
  {
   "cell_type": "code",
   "execution_count": 8,
   "id": "c729b07f",
   "metadata": {},
   "outputs": [],
   "source": [
    "train.to_parquet(f\"/home/administrator/dataset/NF-UQ-NIDS/NF-UQ-NIDS-V2_train.parquet\")"
   ]
  },
  {
   "cell_type": "code",
   "execution_count": 9,
   "id": "e3ab3935",
   "metadata": {},
   "outputs": [],
   "source": [
    "sample.to_parquet(f\"/home/administrator/dataset/NF-UQ-NIDS/NF-UQ-NIDS-V2_sample.parquet\")"
   ]
  },
  {
   "cell_type": "code",
   "execution_count": 7,
   "id": "c5cac408",
   "metadata": {},
   "outputs": [
    {
     "name": "stdout",
     "output_type": "stream",
     "text": [
      "<class 'pandas.core.frame.DataFrame'>\n",
      "Index: 16921443 entries, 27800589 to 48629994\n",
      "Data columns (total 40 columns):\n",
      " #   Column                       Dtype  \n",
      "---  ------                       -----  \n",
      " 0   PROTOCOL                     int16  \n",
      " 1   L7_PROTO                     float32\n",
      " 2   IN_BYTES                     int32  \n",
      " 3   IN_PKTS                      int32  \n",
      " 4   OUT_BYTES                    int32  \n",
      " 5   OUT_PKTS                     int32  \n",
      " 6   TCP_FLAGS                    int16  \n",
      " 7   CLIENT_TCP_FLAGS             int16  \n",
      " 8   SERVER_TCP_FLAGS             int16  \n",
      " 9   FLOW_DURATION_MILLISECONDS   int32  \n",
      " 10  DURATION_IN                  int32  \n",
      " 11  DURATION_OUT                 int32  \n",
      " 12  MIN_TTL                      int16  \n",
      " 13  MAX_TTL                      int16  \n",
      " 14  LONGEST_FLOW_PKT             int32  \n",
      " 15  SHORTEST_FLOW_PKT            int16  \n",
      " 16  MIN_IP_PKT_LEN               int16  \n",
      " 17  MAX_IP_PKT_LEN               int32  \n",
      " 18  SRC_TO_DST_SECOND_BYTES      float32\n",
      " 19  DST_TO_SRC_SECOND_BYTES      float32\n",
      " 20  RETRANSMITTED_IN_BYTES       int32  \n",
      " 21  RETRANSMITTED_IN_PKTS        int16  \n",
      " 22  RETRANSMITTED_OUT_BYTES      int32  \n",
      " 23  RETRANSMITTED_OUT_PKTS       int16  \n",
      " 24  SRC_TO_DST_AVG_THROUGHPUT    int64  \n",
      " 25  DST_TO_SRC_AVG_THROUGHPUT    int64  \n",
      " 26  NUM_PKTS_UP_TO_128_BYTES     int32  \n",
      " 27  NUM_PKTS_128_TO_256_BYTES    int32  \n",
      " 28  NUM_PKTS_256_TO_512_BYTES    int32  \n",
      " 29  NUM_PKTS_512_TO_1024_BYTES   int32  \n",
      " 30  NUM_PKTS_1024_TO_1514_BYTES  int32  \n",
      " 31  TCP_WIN_MAX_IN               int32  \n",
      " 32  TCP_WIN_MAX_OUT              int32  \n",
      " 33  ICMP_TYPE                    int32  \n",
      " 34  ICMP_IPV4_TYPE               int16  \n",
      " 35  DNS_QUERY_ID                 int32  \n",
      " 36  DNS_QUERY_TYPE               int32  \n",
      " 37  DNS_TTL_ANSWER               int32  \n",
      " 38  FTP_COMMAND_RET_CODE         float32\n",
      " 39  Label                        int8   \n",
      "dtypes: float32(4), int16(11), int32(22), int64(2), int8(1)\n",
      "memory usage: 2.4 GB\n"
     ]
    }
   ],
   "source": [
    "df2 = pd.read_parquet('/home/administrator/dataset/NF-UQ-NIDS/NF-UQ-NIDS-V2_test.parquet', engine='pyarrow')\n",
    "\n",
    "df2.info()"
   ]
  },
  {
   "cell_type": "code",
   "execution_count": 6,
   "id": "9ed8c8fd",
   "metadata": {},
   "outputs": [
    {
     "name": "stdout",
     "output_type": "stream",
     "text": [
      "<class 'pandas.core.frame.DataFrame'>\n",
      "Index: 18801604 entries, 47774501 to 30628685\n",
      "Data columns (total 40 columns):\n",
      " #   Column                       Dtype  \n",
      "---  ------                       -----  \n",
      " 0   PROTOCOL                     int16  \n",
      " 1   L7_PROTO                     float32\n",
      " 2   IN_BYTES                     int32  \n",
      " 3   IN_PKTS                      int32  \n",
      " 4   OUT_BYTES                    int32  \n",
      " 5   OUT_PKTS                     int32  \n",
      " 6   TCP_FLAGS                    int16  \n",
      " 7   CLIENT_TCP_FLAGS             int16  \n",
      " 8   SERVER_TCP_FLAGS             int16  \n",
      " 9   FLOW_DURATION_MILLISECONDS   int32  \n",
      " 10  DURATION_IN                  int32  \n",
      " 11  DURATION_OUT                 int32  \n",
      " 12  MIN_TTL                      int16  \n",
      " 13  MAX_TTL                      int16  \n",
      " 14  LONGEST_FLOW_PKT             int32  \n",
      " 15  SHORTEST_FLOW_PKT            int16  \n",
      " 16  MIN_IP_PKT_LEN               int16  \n",
      " 17  MAX_IP_PKT_LEN               int32  \n",
      " 18  SRC_TO_DST_SECOND_BYTES      float32\n",
      " 19  DST_TO_SRC_SECOND_BYTES      float32\n",
      " 20  RETRANSMITTED_IN_BYTES       int32  \n",
      " 21  RETRANSMITTED_IN_PKTS        int16  \n",
      " 22  RETRANSMITTED_OUT_BYTES      int32  \n",
      " 23  RETRANSMITTED_OUT_PKTS       int16  \n",
      " 24  SRC_TO_DST_AVG_THROUGHPUT    int64  \n",
      " 25  DST_TO_SRC_AVG_THROUGHPUT    int64  \n",
      " 26  NUM_PKTS_UP_TO_128_BYTES     int32  \n",
      " 27  NUM_PKTS_128_TO_256_BYTES    int32  \n",
      " 28  NUM_PKTS_256_TO_512_BYTES    int32  \n",
      " 29  NUM_PKTS_512_TO_1024_BYTES   int32  \n",
      " 30  NUM_PKTS_1024_TO_1514_BYTES  int32  \n",
      " 31  TCP_WIN_MAX_IN               int32  \n",
      " 32  TCP_WIN_MAX_OUT              int32  \n",
      " 33  ICMP_TYPE                    int32  \n",
      " 34  ICMP_IPV4_TYPE               int16  \n",
      " 35  DNS_QUERY_ID                 int32  \n",
      " 36  DNS_QUERY_TYPE               int32  \n",
      " 37  DNS_TTL_ANSWER               int32  \n",
      " 38  FTP_COMMAND_RET_CODE         float32\n",
      " 39  Label                        int8   \n",
      "dtypes: float32(4), int16(11), int32(22), int64(2), int8(1)\n",
      "memory usage: 2.6 GB\n"
     ]
    }
   ],
   "source": [
    "df2 = df2.drop(df2.columns[[0, 1]], axis=1)\n",
    "\n",
    "df2.info()"
   ]
  },
  {
   "cell_type": "code",
   "execution_count": 10,
   "id": "3cb10e69",
   "metadata": {},
   "outputs": [],
   "source": [
    "test, valid = train_test_split(df2, test_size=0.1, random_state=100)"
   ]
  },
  {
   "cell_type": "code",
   "execution_count": 11,
   "id": "74e99a73",
   "metadata": {},
   "outputs": [],
   "source": [
    "test.to_parquet(f\"/home/administrator/dataset/NF-UQ-NIDS/NF-UQ-NIDS-V2_test.parquet\")"
   ]
  },
  {
   "cell_type": "code",
   "execution_count": 12,
   "id": "471f827e",
   "metadata": {},
   "outputs": [],
   "source": [
    "valid.to_parquet(f\"/home/administrator/dataset/NF-UQ-NIDS/NF-UQ-NIDS-V2_valid.parquet\")"
   ]
  },
  {
   "cell_type": "code",
   "execution_count": 2,
   "id": "59d5ef37",
   "metadata": {},
   "outputs": [
    {
     "name": "stdout",
     "output_type": "stream",
     "text": [
      "<class 'pandas.core.frame.DataFrame'>\n",
      "RangeIndex: 62672013 entries, 0 to 62672012\n",
      "Data columns (total 44 columns):\n",
      " #   Column                       Dtype  \n",
      "---  ------                       -----  \n",
      " 0   L4_SRC_PORT                  int16  \n",
      " 1   L4_DST_PORT                  int16  \n",
      " 2   PROTOCOL                     int16  \n",
      " 3   L7_PROTO                     float32\n",
      " 4   IN_BYTES                     int32  \n",
      " 5   IN_PKTS                      int32  \n",
      " 6   OUT_BYTES                    int32  \n",
      " 7   OUT_PKTS                     int32  \n",
      " 8   TCP_FLAGS                    int16  \n",
      " 9   CLIENT_TCP_FLAGS             int16  \n",
      " 10  SERVER_TCP_FLAGS             int16  \n",
      " 11  FLOW_DURATION_MILLISECONDS   int32  \n",
      " 12  DURATION_IN                  int32  \n",
      " 13  DURATION_OUT                 int32  \n",
      " 14  MIN_TTL                      int16  \n",
      " 15  MAX_TTL                      int16  \n",
      " 16  LONGEST_FLOW_PKT             int32  \n",
      " 17  SHORTEST_FLOW_PKT            int16  \n",
      " 18  MIN_IP_PKT_LEN               int16  \n",
      " 19  MAX_IP_PKT_LEN               int32  \n",
      " 20  SRC_TO_DST_SECOND_BYTES      float32\n",
      " 21  DST_TO_SRC_SECOND_BYTES      float32\n",
      " 22  RETRANSMITTED_IN_BYTES       int32  \n",
      " 23  RETRANSMITTED_IN_PKTS        int16  \n",
      " 24  RETRANSMITTED_OUT_BYTES      int32  \n",
      " 25  RETRANSMITTED_OUT_PKTS       int16  \n",
      " 26  SRC_TO_DST_AVG_THROUGHPUT    int64  \n",
      " 27  DST_TO_SRC_AVG_THROUGHPUT    int64  \n",
      " 28  NUM_PKTS_UP_TO_128_BYTES     int32  \n",
      " 29  NUM_PKTS_128_TO_256_BYTES    int32  \n",
      " 30  NUM_PKTS_256_TO_512_BYTES    int32  \n",
      " 31  NUM_PKTS_512_TO_1024_BYTES   int32  \n",
      " 32  NUM_PKTS_1024_TO_1514_BYTES  int32  \n",
      " 33  TCP_WIN_MAX_IN               int32  \n",
      " 34  TCP_WIN_MAX_OUT              int32  \n",
      " 35  ICMP_TYPE                    int32  \n",
      " 36  ICMP_IPV4_TYPE               int16  \n",
      " 37  DNS_QUERY_ID                 int32  \n",
      " 38  DNS_QUERY_TYPE               int32  \n",
      " 39  DNS_TTL_ANSWER               int32  \n",
      " 40  FTP_COMMAND_RET_CODE         float32\n",
      " 41  Label                        int8   \n",
      " 42  Attack                       object \n",
      " 43  Dataset                      object \n",
      "dtypes: float32(4), int16(13), int32(22), int64(2), int8(1), object(2)\n",
      "memory usage: 9.5+ GB\n"
     ]
    }
   ],
   "source": [
    "df = pd.read_parquet('/home/administrator/dataset/NF-UQ-NIDS/NF-UQ-NIDS-V2.parquet', engine='pyarrow')\n",
    "\n",
    "df.info()"
   ]
  },
  {
   "cell_type": "code",
   "execution_count": 3,
   "id": "a868d9a7",
   "metadata": {},
   "outputs": [
    {
     "data": {
      "text/plain": [
       "Label\n",
       "1    41928190\n",
       "0    20743823\n",
       "Name: count, dtype: int64"
      ]
     },
     "execution_count": 3,
     "metadata": {},
     "output_type": "execute_result"
    }
   ],
   "source": [
    "df['Label'].value_counts()"
   ]
  },
  {
   "cell_type": "code",
   "execution_count": null,
   "id": "e96d5725",
   "metadata": {},
   "outputs": [],
   "source": []
  }
 ],
 "metadata": {
  "kernelspec": {
   "display_name": "Python 3 (ipykernel)",
   "language": "python",
   "name": "python3"
  },
  "language_info": {
   "codemirror_mode": {
    "name": "ipython",
    "version": 3
   },
   "file_extension": ".py",
   "mimetype": "text/x-python",
   "name": "python",
   "nbconvert_exporter": "python",
   "pygments_lexer": "ipython3",
   "version": "3.10.12"
  }
 },
 "nbformat": 4,
 "nbformat_minor": 5
}
