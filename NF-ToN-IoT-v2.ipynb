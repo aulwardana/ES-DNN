{
 "cells": [
  {
   "cell_type": "code",
   "execution_count": 1,
   "id": "58e22322",
   "metadata": {},
   "outputs": [],
   "source": [
    "import pandas as pd\n",
    "import numpy as np\n",
    "from sklearn.model_selection import train_test_split"
   ]
  },
  {
   "cell_type": "code",
   "execution_count": 5,
   "id": "a2bbe221",
   "metadata": {},
   "outputs": [
    {
     "name": "stdout",
     "output_type": "stream",
     "text": [
      "<class 'pandas.core.frame.DataFrame'>\n",
      "Index: 8275604 entries, 2763179 to 2780447\n",
      "Data columns (total 40 columns):\n",
      " #   Column                       Dtype  \n",
      "---  ------                       -----  \n",
      " 0   PROTOCOL                     int8   \n",
      " 1   L7_PROTO                     float32\n",
      " 2   IN_BYTES                     int32  \n",
      " 3   IN_PKTS                      int32  \n",
      " 4   OUT_BYTES                    int32  \n",
      " 5   OUT_PKTS                     int32  \n",
      " 6   TCP_FLAGS                    int16  \n",
      " 7   CLIENT_TCP_FLAGS             int16  \n",
      " 8   SERVER_TCP_FLAGS             int16  \n",
      " 9   FLOW_DURATION_MILLISECONDS   int32  \n",
      " 10  DURATION_IN                  int32  \n",
      " 11  DURATION_OUT                 int32  \n",
      " 12  MIN_TTL                      int16  \n",
      " 13  MAX_TTL                      int16  \n",
      " 14  LONGEST_FLOW_PKT             int32  \n",
      " 15  SHORTEST_FLOW_PKT            int16  \n",
      " 16  MIN_IP_PKT_LEN               int16  \n",
      " 17  MAX_IP_PKT_LEN               int32  \n",
      " 18  SRC_TO_DST_SECOND_BYTES      float64\n",
      " 19  DST_TO_SRC_SECOND_BYTES      float64\n",
      " 20  RETRANSMITTED_IN_BYTES       int32  \n",
      " 21  RETRANSMITTED_IN_PKTS        int16  \n",
      " 22  RETRANSMITTED_OUT_BYTES      int32  \n",
      " 23  RETRANSMITTED_OUT_PKTS       int16  \n",
      " 24  SRC_TO_DST_AVG_THROUGHPUT    int64  \n",
      " 25  DST_TO_SRC_AVG_THROUGHPUT    int64  \n",
      " 26  NUM_PKTS_UP_TO_128_BYTES     int32  \n",
      " 27  NUM_PKTS_128_TO_256_BYTES    int32  \n",
      " 28  NUM_PKTS_256_TO_512_BYTES    int32  \n",
      " 29  NUM_PKTS_512_TO_1024_BYTES   int16  \n",
      " 30  NUM_PKTS_1024_TO_1514_BYTES  int32  \n",
      " 31  TCP_WIN_MAX_IN               int32  \n",
      " 32  TCP_WIN_MAX_OUT              int32  \n",
      " 33  ICMP_TYPE                    int32  \n",
      " 34  ICMP_IPV4_TYPE               int16  \n",
      " 35  DNS_QUERY_ID                 int32  \n",
      " 36  DNS_QUERY_TYPE               int16  \n",
      " 37  DNS_TTL_ANSWER               int32  \n",
      " 38  FTP_COMMAND_RET_CODE         int16  \n",
      " 39  Label                        int8   \n",
      "dtypes: float32(1), float64(2), int16(13), int32(20), int64(2), int8(2)\n",
      "memory usage: 1.2 GB\n"
     ]
    }
   ],
   "source": [
    "df1 = pd.read_parquet('/home/administrator/dataset/NF-ToN-IoT/NF-ToN-IoT-V2_train.parquet', engine='pyarrow')\n",
    "\n",
    "df1.info()"
   ]
  },
  {
   "cell_type": "code",
   "execution_count": 6,
   "id": "020cf4d4",
   "metadata": {},
   "outputs": [
    {
     "name": "stdout",
     "output_type": "stream",
     "text": [
      "<class 'pandas.core.frame.DataFrame'>\n",
      "Index: 394077 entries, 3753259 to 4635265\n",
      "Data columns (total 40 columns):\n",
      " #   Column                       Non-Null Count   Dtype  \n",
      "---  ------                       --------------   -----  \n",
      " 0   PROTOCOL                     394077 non-null  int8   \n",
      " 1   L7_PROTO                     394077 non-null  float32\n",
      " 2   IN_BYTES                     394077 non-null  int32  \n",
      " 3   IN_PKTS                      394077 non-null  int32  \n",
      " 4   OUT_BYTES                    394077 non-null  int32  \n",
      " 5   OUT_PKTS                     394077 non-null  int32  \n",
      " 6   TCP_FLAGS                    394077 non-null  int16  \n",
      " 7   CLIENT_TCP_FLAGS             394077 non-null  int16  \n",
      " 8   SERVER_TCP_FLAGS             394077 non-null  int16  \n",
      " 9   FLOW_DURATION_MILLISECONDS   394077 non-null  int32  \n",
      " 10  DURATION_IN                  394077 non-null  int32  \n",
      " 11  DURATION_OUT                 394077 non-null  int32  \n",
      " 12  MIN_TTL                      394077 non-null  int16  \n",
      " 13  MAX_TTL                      394077 non-null  int16  \n",
      " 14  LONGEST_FLOW_PKT             394077 non-null  int32  \n",
      " 15  SHORTEST_FLOW_PKT            394077 non-null  int16  \n",
      " 16  MIN_IP_PKT_LEN               394077 non-null  int16  \n",
      " 17  MAX_IP_PKT_LEN               394077 non-null  int32  \n",
      " 18  SRC_TO_DST_SECOND_BYTES      394077 non-null  float64\n",
      " 19  DST_TO_SRC_SECOND_BYTES      394077 non-null  float64\n",
      " 20  RETRANSMITTED_IN_BYTES       394077 non-null  int32  \n",
      " 21  RETRANSMITTED_IN_PKTS        394077 non-null  int16  \n",
      " 22  RETRANSMITTED_OUT_BYTES      394077 non-null  int32  \n",
      " 23  RETRANSMITTED_OUT_PKTS       394077 non-null  int16  \n",
      " 24  SRC_TO_DST_AVG_THROUGHPUT    394077 non-null  int64  \n",
      " 25  DST_TO_SRC_AVG_THROUGHPUT    394077 non-null  int64  \n",
      " 26  NUM_PKTS_UP_TO_128_BYTES     394077 non-null  int32  \n",
      " 27  NUM_PKTS_128_TO_256_BYTES    394077 non-null  int32  \n",
      " 28  NUM_PKTS_256_TO_512_BYTES    394077 non-null  int32  \n",
      " 29  NUM_PKTS_512_TO_1024_BYTES   394077 non-null  int16  \n",
      " 30  NUM_PKTS_1024_TO_1514_BYTES  394077 non-null  int32  \n",
      " 31  TCP_WIN_MAX_IN               394077 non-null  int32  \n",
      " 32  TCP_WIN_MAX_OUT              394077 non-null  int32  \n",
      " 33  ICMP_TYPE                    394077 non-null  int32  \n",
      " 34  ICMP_IPV4_TYPE               394077 non-null  int16  \n",
      " 35  DNS_QUERY_ID                 394077 non-null  int32  \n",
      " 36  DNS_QUERY_TYPE               394077 non-null  int16  \n",
      " 37  DNS_TTL_ANSWER               394077 non-null  int32  \n",
      " 38  FTP_COMMAND_RET_CODE         394077 non-null  int16  \n",
      " 39  Label                        394077 non-null  int8   \n",
      "dtypes: float32(1), float64(2), int16(13), int32(20), int64(2), int8(2)\n",
      "memory usage: 57.1 MB\n"
     ]
    }
   ],
   "source": [
    "df3 = pd.read_parquet('/home/administrator/dataset/NF-ToN-IoT/NF-ToN-IoT-V2_valid.parquet', engine='pyarrow')\n",
    "\n",
    "df3.info()"
   ]
  },
  {
   "cell_type": "code",
   "execution_count": 7,
   "id": "0bfdcfc6",
   "metadata": {},
   "outputs": [
    {
     "name": "stdout",
     "output_type": "stream",
     "text": [
      "<class 'pandas.core.frame.DataFrame'>\n",
      "Index: 919512 entries, 244702 to 9470871\n",
      "Data columns (total 40 columns):\n",
      " #   Column                       Non-Null Count   Dtype  \n",
      "---  ------                       --------------   -----  \n",
      " 0   PROTOCOL                     919512 non-null  int8   \n",
      " 1   L7_PROTO                     919512 non-null  float32\n",
      " 2   IN_BYTES                     919512 non-null  int32  \n",
      " 3   IN_PKTS                      919512 non-null  int32  \n",
      " 4   OUT_BYTES                    919512 non-null  int32  \n",
      " 5   OUT_PKTS                     919512 non-null  int32  \n",
      " 6   TCP_FLAGS                    919512 non-null  int16  \n",
      " 7   CLIENT_TCP_FLAGS             919512 non-null  int16  \n",
      " 8   SERVER_TCP_FLAGS             919512 non-null  int16  \n",
      " 9   FLOW_DURATION_MILLISECONDS   919512 non-null  int32  \n",
      " 10  DURATION_IN                  919512 non-null  int32  \n",
      " 11  DURATION_OUT                 919512 non-null  int32  \n",
      " 12  MIN_TTL                      919512 non-null  int16  \n",
      " 13  MAX_TTL                      919512 non-null  int16  \n",
      " 14  LONGEST_FLOW_PKT             919512 non-null  int32  \n",
      " 15  SHORTEST_FLOW_PKT            919512 non-null  int16  \n",
      " 16  MIN_IP_PKT_LEN               919512 non-null  int16  \n",
      " 17  MAX_IP_PKT_LEN               919512 non-null  int32  \n",
      " 18  SRC_TO_DST_SECOND_BYTES      919512 non-null  float64\n",
      " 19  DST_TO_SRC_SECOND_BYTES      919512 non-null  float64\n",
      " 20  RETRANSMITTED_IN_BYTES       919512 non-null  int32  \n",
      " 21  RETRANSMITTED_IN_PKTS        919512 non-null  int16  \n",
      " 22  RETRANSMITTED_OUT_BYTES      919512 non-null  int32  \n",
      " 23  RETRANSMITTED_OUT_PKTS       919512 non-null  int16  \n",
      " 24  SRC_TO_DST_AVG_THROUGHPUT    919512 non-null  int64  \n",
      " 25  DST_TO_SRC_AVG_THROUGHPUT    919512 non-null  int64  \n",
      " 26  NUM_PKTS_UP_TO_128_BYTES     919512 non-null  int32  \n",
      " 27  NUM_PKTS_128_TO_256_BYTES    919512 non-null  int32  \n",
      " 28  NUM_PKTS_256_TO_512_BYTES    919512 non-null  int32  \n",
      " 29  NUM_PKTS_512_TO_1024_BYTES   919512 non-null  int16  \n",
      " 30  NUM_PKTS_1024_TO_1514_BYTES  919512 non-null  int32  \n",
      " 31  TCP_WIN_MAX_IN               919512 non-null  int32  \n",
      " 32  TCP_WIN_MAX_OUT              919512 non-null  int32  \n",
      " 33  ICMP_TYPE                    919512 non-null  int32  \n",
      " 34  ICMP_IPV4_TYPE               919512 non-null  int16  \n",
      " 35  DNS_QUERY_ID                 919512 non-null  int32  \n",
      " 36  DNS_QUERY_TYPE               919512 non-null  int16  \n",
      " 37  DNS_TTL_ANSWER               919512 non-null  int32  \n",
      " 38  FTP_COMMAND_RET_CODE         919512 non-null  int16  \n",
      " 39  Label                        919512 non-null  int8   \n",
      "dtypes: float32(1), float64(2), int16(13), int32(20), int64(2), int8(2)\n",
      "memory usage: 133.3 MB\n"
     ]
    }
   ],
   "source": [
    "df4 = pd.read_parquet('/home/administrator/dataset/NF-ToN-IoT/NF-ToN-IoT-V2_sample.parquet', engine='pyarrow')\n",
    "\n",
    "df4.info()"
   ]
  },
  {
   "cell_type": "code",
   "execution_count": 3,
   "id": "b0b8ab5b",
   "metadata": {},
   "outputs": [
    {
     "name": "stdout",
     "output_type": "stream",
     "text": [
      "<class 'pandas.core.frame.DataFrame'>\n",
      "Index: 9195116 entries, 7007001 to 1873416\n",
      "Data columns (total 40 columns):\n",
      " #   Column                       Dtype  \n",
      "---  ------                       -----  \n",
      " 0   PROTOCOL                     int8   \n",
      " 1   L7_PROTO                     float32\n",
      " 2   IN_BYTES                     int32  \n",
      " 3   IN_PKTS                      int32  \n",
      " 4   OUT_BYTES                    int32  \n",
      " 5   OUT_PKTS                     int32  \n",
      " 6   TCP_FLAGS                    int16  \n",
      " 7   CLIENT_TCP_FLAGS             int16  \n",
      " 8   SERVER_TCP_FLAGS             int16  \n",
      " 9   FLOW_DURATION_MILLISECONDS   int32  \n",
      " 10  DURATION_IN                  int32  \n",
      " 11  DURATION_OUT                 int32  \n",
      " 12  MIN_TTL                      int16  \n",
      " 13  MAX_TTL                      int16  \n",
      " 14  LONGEST_FLOW_PKT             int32  \n",
      " 15  SHORTEST_FLOW_PKT            int16  \n",
      " 16  MIN_IP_PKT_LEN               int16  \n",
      " 17  MAX_IP_PKT_LEN               int32  \n",
      " 18  SRC_TO_DST_SECOND_BYTES      float64\n",
      " 19  DST_TO_SRC_SECOND_BYTES      float64\n",
      " 20  RETRANSMITTED_IN_BYTES       int32  \n",
      " 21  RETRANSMITTED_IN_PKTS        int16  \n",
      " 22  RETRANSMITTED_OUT_BYTES      int32  \n",
      " 23  RETRANSMITTED_OUT_PKTS       int16  \n",
      " 24  SRC_TO_DST_AVG_THROUGHPUT    int64  \n",
      " 25  DST_TO_SRC_AVG_THROUGHPUT    int64  \n",
      " 26  NUM_PKTS_UP_TO_128_BYTES     int32  \n",
      " 27  NUM_PKTS_128_TO_256_BYTES    int32  \n",
      " 28  NUM_PKTS_256_TO_512_BYTES    int32  \n",
      " 29  NUM_PKTS_512_TO_1024_BYTES   int16  \n",
      " 30  NUM_PKTS_1024_TO_1514_BYTES  int32  \n",
      " 31  TCP_WIN_MAX_IN               int32  \n",
      " 32  TCP_WIN_MAX_OUT              int32  \n",
      " 33  ICMP_TYPE                    int32  \n",
      " 34  ICMP_IPV4_TYPE               int16  \n",
      " 35  DNS_QUERY_ID                 int32  \n",
      " 36  DNS_QUERY_TYPE               int16  \n",
      " 37  DNS_TTL_ANSWER               int32  \n",
      " 38  FTP_COMMAND_RET_CODE         int16  \n",
      " 39  Label                        int8   \n",
      "dtypes: float32(1), float64(2), int16(13), int32(20), int64(2), int8(2)\n",
      "memory usage: 1.3 GB\n"
     ]
    }
   ],
   "source": [
    "df1 = df1.drop(df1.columns[[0, 1]], axis=1)\n",
    "\n",
    "df1.info()"
   ]
  },
  {
   "cell_type": "code",
   "execution_count": 7,
   "id": "3dd514d3",
   "metadata": {},
   "outputs": [],
   "source": [
    "train, sample = train_test_split(df1, test_size=0.1, random_state=100)"
   ]
  },
  {
   "cell_type": "code",
   "execution_count": 8,
   "id": "eabef2ec",
   "metadata": {},
   "outputs": [],
   "source": [
    "train.to_parquet(f\"/home/administrator/dataset/NF-ToN-IoT/NF-ToN-IoT-V2_train.parquet\")"
   ]
  },
  {
   "cell_type": "code",
   "execution_count": 9,
   "id": "8dca5c03",
   "metadata": {},
   "outputs": [],
   "source": [
    "sample.to_parquet(f\"/home/administrator/dataset/NF-ToN-IoT/NF-ToN-IoT-V2_sample.parquet\")"
   ]
  },
  {
   "cell_type": "code",
   "execution_count": 8,
   "id": "a421997c",
   "metadata": {},
   "outputs": [
    {
     "name": "stdout",
     "output_type": "stream",
     "text": [
      "<class 'pandas.core.frame.DataFrame'>\n",
      "Index: 3546688 entries, 3220736 to 9785756\n",
      "Data columns (total 40 columns):\n",
      " #   Column                       Dtype  \n",
      "---  ------                       -----  \n",
      " 0   PROTOCOL                     int8   \n",
      " 1   L7_PROTO                     float32\n",
      " 2   IN_BYTES                     int32  \n",
      " 3   IN_PKTS                      int32  \n",
      " 4   OUT_BYTES                    int32  \n",
      " 5   OUT_PKTS                     int32  \n",
      " 6   TCP_FLAGS                    int16  \n",
      " 7   CLIENT_TCP_FLAGS             int16  \n",
      " 8   SERVER_TCP_FLAGS             int16  \n",
      " 9   FLOW_DURATION_MILLISECONDS   int32  \n",
      " 10  DURATION_IN                  int32  \n",
      " 11  DURATION_OUT                 int32  \n",
      " 12  MIN_TTL                      int16  \n",
      " 13  MAX_TTL                      int16  \n",
      " 14  LONGEST_FLOW_PKT             int32  \n",
      " 15  SHORTEST_FLOW_PKT            int16  \n",
      " 16  MIN_IP_PKT_LEN               int16  \n",
      " 17  MAX_IP_PKT_LEN               int32  \n",
      " 18  SRC_TO_DST_SECOND_BYTES      float64\n",
      " 19  DST_TO_SRC_SECOND_BYTES      float64\n",
      " 20  RETRANSMITTED_IN_BYTES       int32  \n",
      " 21  RETRANSMITTED_IN_PKTS        int16  \n",
      " 22  RETRANSMITTED_OUT_BYTES      int32  \n",
      " 23  RETRANSMITTED_OUT_PKTS       int16  \n",
      " 24  SRC_TO_DST_AVG_THROUGHPUT    int64  \n",
      " 25  DST_TO_SRC_AVG_THROUGHPUT    int64  \n",
      " 26  NUM_PKTS_UP_TO_128_BYTES     int32  \n",
      " 27  NUM_PKTS_128_TO_256_BYTES    int32  \n",
      " 28  NUM_PKTS_256_TO_512_BYTES    int32  \n",
      " 29  NUM_PKTS_512_TO_1024_BYTES   int16  \n",
      " 30  NUM_PKTS_1024_TO_1514_BYTES  int32  \n",
      " 31  TCP_WIN_MAX_IN               int32  \n",
      " 32  TCP_WIN_MAX_OUT              int32  \n",
      " 33  ICMP_TYPE                    int32  \n",
      " 34  ICMP_IPV4_TYPE               int16  \n",
      " 35  DNS_QUERY_ID                 int32  \n",
      " 36  DNS_QUERY_TYPE               int16  \n",
      " 37  DNS_TTL_ANSWER               int32  \n",
      " 38  FTP_COMMAND_RET_CODE         int16  \n",
      " 39  Label                        int8   \n",
      "dtypes: float32(1), float64(2), int16(13), int32(20), int64(2), int8(2)\n",
      "memory usage: 514.1 MB\n"
     ]
    }
   ],
   "source": [
    "df2 = pd.read_parquet('/home/administrator/dataset/NF-ToN-IoT/NF-ToN-IoT-V2_test.parquet', engine='pyarrow')\n",
    "\n",
    "df2.info()"
   ]
  },
  {
   "cell_type": "code",
   "execution_count": 5,
   "id": "089611de",
   "metadata": {},
   "outputs": [
    {
     "name": "stdout",
     "output_type": "stream",
     "text": [
      "<class 'pandas.core.frame.DataFrame'>\n",
      "Index: 3940765 entries, 9383868 to 1207187\n",
      "Data columns (total 40 columns):\n",
      " #   Column                       Dtype  \n",
      "---  ------                       -----  \n",
      " 0   PROTOCOL                     int8   \n",
      " 1   L7_PROTO                     float32\n",
      " 2   IN_BYTES                     int32  \n",
      " 3   IN_PKTS                      int32  \n",
      " 4   OUT_BYTES                    int32  \n",
      " 5   OUT_PKTS                     int32  \n",
      " 6   TCP_FLAGS                    int16  \n",
      " 7   CLIENT_TCP_FLAGS             int16  \n",
      " 8   SERVER_TCP_FLAGS             int16  \n",
      " 9   FLOW_DURATION_MILLISECONDS   int32  \n",
      " 10  DURATION_IN                  int32  \n",
      " 11  DURATION_OUT                 int32  \n",
      " 12  MIN_TTL                      int16  \n",
      " 13  MAX_TTL                      int16  \n",
      " 14  LONGEST_FLOW_PKT             int32  \n",
      " 15  SHORTEST_FLOW_PKT            int16  \n",
      " 16  MIN_IP_PKT_LEN               int16  \n",
      " 17  MAX_IP_PKT_LEN               int32  \n",
      " 18  SRC_TO_DST_SECOND_BYTES      float64\n",
      " 19  DST_TO_SRC_SECOND_BYTES      float64\n",
      " 20  RETRANSMITTED_IN_BYTES       int32  \n",
      " 21  RETRANSMITTED_IN_PKTS        int16  \n",
      " 22  RETRANSMITTED_OUT_BYTES      int32  \n",
      " 23  RETRANSMITTED_OUT_PKTS       int16  \n",
      " 24  SRC_TO_DST_AVG_THROUGHPUT    int64  \n",
      " 25  DST_TO_SRC_AVG_THROUGHPUT    int64  \n",
      " 26  NUM_PKTS_UP_TO_128_BYTES     int32  \n",
      " 27  NUM_PKTS_128_TO_256_BYTES    int32  \n",
      " 28  NUM_PKTS_256_TO_512_BYTES    int32  \n",
      " 29  NUM_PKTS_512_TO_1024_BYTES   int16  \n",
      " 30  NUM_PKTS_1024_TO_1514_BYTES  int32  \n",
      " 31  TCP_WIN_MAX_IN               int32  \n",
      " 32  TCP_WIN_MAX_OUT              int32  \n",
      " 33  ICMP_TYPE                    int32  \n",
      " 34  ICMP_IPV4_TYPE               int16  \n",
      " 35  DNS_QUERY_ID                 int32  \n",
      " 36  DNS_QUERY_TYPE               int16  \n",
      " 37  DNS_TTL_ANSWER               int32  \n",
      " 38  FTP_COMMAND_RET_CODE         int16  \n",
      " 39  Label                        int8   \n",
      "dtypes: float32(1), float64(2), int16(13), int32(20), int64(2), int8(2)\n",
      "memory usage: 571.2 MB\n"
     ]
    }
   ],
   "source": [
    "df2 = df2.drop(df2.columns[[0, 1]], axis=1)\n",
    "\n",
    "df2.info()"
   ]
  },
  {
   "cell_type": "code",
   "execution_count": 6,
   "id": "e961748f",
   "metadata": {},
   "outputs": [],
   "source": [
    "test, valid = train_test_split(df2, test_size=0.1, random_state=100)"
   ]
  },
  {
   "cell_type": "code",
   "execution_count": 10,
   "id": "8183c0aa",
   "metadata": {},
   "outputs": [],
   "source": [
    "test.to_parquet(f\"/home/administrator/dataset/NF-ToN-IoT/NF-ToN-IoT-V2_test.parquet\")"
   ]
  },
  {
   "cell_type": "code",
   "execution_count": 11,
   "id": "9da9654c",
   "metadata": {},
   "outputs": [],
   "source": [
    "valid.to_parquet(f\"/home/administrator/dataset/NF-ToN-IoT/NF-ToN-IoT-V2_valid.parquet\")"
   ]
  },
  {
   "cell_type": "code",
   "execution_count": 3,
   "id": "1bbdcda8",
   "metadata": {},
   "outputs": [
    {
     "name": "stdout",
     "output_type": "stream",
     "text": [
      "<class 'pandas.core.frame.DataFrame'>\n",
      "RangeIndex: 13135881 entries, 0 to 13135880\n",
      "Data columns (total 43 columns):\n",
      " #   Column                       Dtype  \n",
      "---  ------                       -----  \n",
      " 0   L4_SRC_PORT                  int32  \n",
      " 1   L4_DST_PORT                  int32  \n",
      " 2   PROTOCOL                     int8   \n",
      " 3   L7_PROTO                     float32\n",
      " 4   IN_BYTES                     int32  \n",
      " 5   IN_PKTS                      int32  \n",
      " 6   OUT_BYTES                    int32  \n",
      " 7   OUT_PKTS                     int32  \n",
      " 8   TCP_FLAGS                    int16  \n",
      " 9   CLIENT_TCP_FLAGS             int16  \n",
      " 10  SERVER_TCP_FLAGS             int16  \n",
      " 11  FLOW_DURATION_MILLISECONDS   int32  \n",
      " 12  DURATION_IN                  int32  \n",
      " 13  DURATION_OUT                 int32  \n",
      " 14  MIN_TTL                      int16  \n",
      " 15  MAX_TTL                      int16  \n",
      " 16  LONGEST_FLOW_PKT             int32  \n",
      " 17  SHORTEST_FLOW_PKT            int16  \n",
      " 18  MIN_IP_PKT_LEN               int16  \n",
      " 19  MAX_IP_PKT_LEN               int32  \n",
      " 20  SRC_TO_DST_SECOND_BYTES      float64\n",
      " 21  DST_TO_SRC_SECOND_BYTES      float64\n",
      " 22  RETRANSMITTED_IN_BYTES       int32  \n",
      " 23  RETRANSMITTED_IN_PKTS        int16  \n",
      " 24  RETRANSMITTED_OUT_BYTES      int32  \n",
      " 25  RETRANSMITTED_OUT_PKTS       int16  \n",
      " 26  SRC_TO_DST_AVG_THROUGHPUT    int64  \n",
      " 27  DST_TO_SRC_AVG_THROUGHPUT    int64  \n",
      " 28  NUM_PKTS_UP_TO_128_BYTES     int32  \n",
      " 29  NUM_PKTS_128_TO_256_BYTES    int32  \n",
      " 30  NUM_PKTS_256_TO_512_BYTES    int32  \n",
      " 31  NUM_PKTS_512_TO_1024_BYTES   int16  \n",
      " 32  NUM_PKTS_1024_TO_1514_BYTES  int32  \n",
      " 33  TCP_WIN_MAX_IN               int32  \n",
      " 34  TCP_WIN_MAX_OUT              int32  \n",
      " 35  ICMP_TYPE                    int32  \n",
      " 36  ICMP_IPV4_TYPE               int16  \n",
      " 37  DNS_QUERY_ID                 int32  \n",
      " 38  DNS_QUERY_TYPE               int16  \n",
      " 39  DNS_TTL_ANSWER               int32  \n",
      " 40  FTP_COMMAND_RET_CODE         int16  \n",
      " 41  Label                        int8   \n",
      " 42  Attack                       object \n",
      "dtypes: float32(1), float64(2), int16(13), int32(22), int64(2), int8(2), object(1)\n",
      "memory usage: 2.0+ GB\n"
     ]
    }
   ],
   "source": [
    "df = pd.read_parquet('/home/administrator/dataset/NF-ToN-IoT/NF-ToN-IoT-V2.parquet', engine='pyarrow')\n",
    "\n",
    "df.info()"
   ]
  },
  {
   "cell_type": "code",
   "execution_count": 4,
   "id": "ab340ef6",
   "metadata": {},
   "outputs": [
    {
     "data": {
      "text/plain": [
       "Label\n",
       "1    9534597\n",
       "0    3601284\n",
       "Name: count, dtype: int64"
      ]
     },
     "execution_count": 4,
     "metadata": {},
     "output_type": "execute_result"
    }
   ],
   "source": [
    "df['Label'].value_counts()"
   ]
  },
  {
   "cell_type": "code",
   "execution_count": 2,
   "id": "9b6c8584",
   "metadata": {},
   "outputs": [
    {
     "name": "stdout",
     "output_type": "stream",
     "text": [
      "<class 'pandas.core.frame.DataFrame'>\n",
      "RangeIndex: 13135881 entries, 0 to 13135880\n",
      "Data columns (total 43 columns):\n",
      " #   Column                       Dtype  \n",
      "---  ------                       -----  \n",
      " 0   L4_SRC_PORT                  int32  \n",
      " 1   L4_DST_PORT                  int32  \n",
      " 2   PROTOCOL                     int8   \n",
      " 3   L7_PROTO                     float32\n",
      " 4   IN_BYTES                     int32  \n",
      " 5   IN_PKTS                      int32  \n",
      " 6   OUT_BYTES                    int32  \n",
      " 7   OUT_PKTS                     int32  \n",
      " 8   TCP_FLAGS                    int16  \n",
      " 9   CLIENT_TCP_FLAGS             int16  \n",
      " 10  SERVER_TCP_FLAGS             int16  \n",
      " 11  FLOW_DURATION_MILLISECONDS   int32  \n",
      " 12  DURATION_IN                  int32  \n",
      " 13  DURATION_OUT                 int32  \n",
      " 14  MIN_TTL                      int16  \n",
      " 15  MAX_TTL                      int16  \n",
      " 16  LONGEST_FLOW_PKT             int32  \n",
      " 17  SHORTEST_FLOW_PKT            int16  \n",
      " 18  MIN_IP_PKT_LEN               int16  \n",
      " 19  MAX_IP_PKT_LEN               int32  \n",
      " 20  SRC_TO_DST_SECOND_BYTES      float64\n",
      " 21  DST_TO_SRC_SECOND_BYTES      float64\n",
      " 22  RETRANSMITTED_IN_BYTES       int32  \n",
      " 23  RETRANSMITTED_IN_PKTS        int16  \n",
      " 24  RETRANSMITTED_OUT_BYTES      int32  \n",
      " 25  RETRANSMITTED_OUT_PKTS       int16  \n",
      " 26  SRC_TO_DST_AVG_THROUGHPUT    int64  \n",
      " 27  DST_TO_SRC_AVG_THROUGHPUT    int64  \n",
      " 28  NUM_PKTS_UP_TO_128_BYTES     int32  \n",
      " 29  NUM_PKTS_128_TO_256_BYTES    int32  \n",
      " 30  NUM_PKTS_256_TO_512_BYTES    int32  \n",
      " 31  NUM_PKTS_512_TO_1024_BYTES   int16  \n",
      " 32  NUM_PKTS_1024_TO_1514_BYTES  int32  \n",
      " 33  TCP_WIN_MAX_IN               int32  \n",
      " 34  TCP_WIN_MAX_OUT              int32  \n",
      " 35  ICMP_TYPE                    int32  \n",
      " 36  ICMP_IPV4_TYPE               int16  \n",
      " 37  DNS_QUERY_ID                 int32  \n",
      " 38  DNS_QUERY_TYPE               int16  \n",
      " 39  DNS_TTL_ANSWER               int32  \n",
      " 40  FTP_COMMAND_RET_CODE         int16  \n",
      " 41  Label                        int8   \n",
      " 42  Attack                       object \n",
      "dtypes: float32(1), float64(2), int16(13), int32(22), int64(2), int8(2), object(1)\n",
      "memory usage: 2.0+ GB\n"
     ]
    }
   ],
   "source": [
    "df1 = pd.read_parquet('/home/administrator/dataset/NF-ToN-IoT/NF-ToN-IoT-V2.parquet', engine='pyarrow')\n",
    "\n",
    "df1.info()"
   ]
  },
  {
   "cell_type": "code",
   "execution_count": 3,
   "id": "2e0e046c",
   "metadata": {},
   "outputs": [
    {
     "name": "stdout",
     "output_type": "stream",
     "text": [
      "<class 'pandas.core.frame.DataFrame'>\n",
      "RangeIndex: 13135881 entries, 0 to 13135880\n",
      "Data columns (total 42 columns):\n",
      " #   Column                       Dtype  \n",
      "---  ------                       -----  \n",
      " 0   L4_SRC_PORT                  int32  \n",
      " 1   L4_DST_PORT                  int32  \n",
      " 2   PROTOCOL                     int8   \n",
      " 3   L7_PROTO                     float32\n",
      " 4   IN_BYTES                     int32  \n",
      " 5   IN_PKTS                      int32  \n",
      " 6   OUT_BYTES                    int32  \n",
      " 7   OUT_PKTS                     int32  \n",
      " 8   TCP_FLAGS                    int16  \n",
      " 9   CLIENT_TCP_FLAGS             int16  \n",
      " 10  SERVER_TCP_FLAGS             int16  \n",
      " 11  FLOW_DURATION_MILLISECONDS   int32  \n",
      " 12  DURATION_IN                  int32  \n",
      " 13  DURATION_OUT                 int32  \n",
      " 14  MIN_TTL                      int16  \n",
      " 15  MAX_TTL                      int16  \n",
      " 16  LONGEST_FLOW_PKT             int32  \n",
      " 17  SHORTEST_FLOW_PKT            int16  \n",
      " 18  MIN_IP_PKT_LEN               int16  \n",
      " 19  MAX_IP_PKT_LEN               int32  \n",
      " 20  SRC_TO_DST_SECOND_BYTES      float64\n",
      " 21  DST_TO_SRC_SECOND_BYTES      float64\n",
      " 22  RETRANSMITTED_IN_BYTES       int32  \n",
      " 23  RETRANSMITTED_IN_PKTS        int16  \n",
      " 24  RETRANSMITTED_OUT_BYTES      int32  \n",
      " 25  RETRANSMITTED_OUT_PKTS       int16  \n",
      " 26  SRC_TO_DST_AVG_THROUGHPUT    int64  \n",
      " 27  DST_TO_SRC_AVG_THROUGHPUT    int64  \n",
      " 28  NUM_PKTS_UP_TO_128_BYTES     int32  \n",
      " 29  NUM_PKTS_128_TO_256_BYTES    int32  \n",
      " 30  NUM_PKTS_256_TO_512_BYTES    int32  \n",
      " 31  NUM_PKTS_512_TO_1024_BYTES   int16  \n",
      " 32  NUM_PKTS_1024_TO_1514_BYTES  int32  \n",
      " 33  TCP_WIN_MAX_IN               int32  \n",
      " 34  TCP_WIN_MAX_OUT              int32  \n",
      " 35  ICMP_TYPE                    int32  \n",
      " 36  ICMP_IPV4_TYPE               int16  \n",
      " 37  DNS_QUERY_ID                 int32  \n",
      " 38  DNS_QUERY_TYPE               int16  \n",
      " 39  DNS_TTL_ANSWER               int32  \n",
      " 40  FTP_COMMAND_RET_CODE         int16  \n",
      " 41  Attack                       object \n",
      "dtypes: float32(1), float64(2), int16(13), int32(22), int64(2), int8(1), object(1)\n",
      "memory usage: 1.9+ GB\n"
     ]
    }
   ],
   "source": [
    "df1 = df1.drop(df1.columns[[41]], axis=1)\n",
    "\n",
    "df1.info()"
   ]
  },
  {
   "cell_type": "code",
   "execution_count": 4,
   "id": "f7d467a9",
   "metadata": {},
   "outputs": [],
   "source": [
    "pd.DataFrame(df1).to_csv(\"./NF-ToN-IoT-V2.csv\", index=False)"
   ]
  },
  {
   "cell_type": "code",
   "execution_count": null,
   "id": "175088dd",
   "metadata": {},
   "outputs": [],
   "source": []
  }
 ],
 "metadata": {
  "kernelspec": {
   "display_name": "Python 3 (ipykernel)",
   "language": "python",
   "name": "python3"
  },
  "language_info": {
   "codemirror_mode": {
    "name": "ipython",
    "version": 3
   },
   "file_extension": ".py",
   "mimetype": "text/x-python",
   "name": "python",
   "nbconvert_exporter": "python",
   "pygments_lexer": "ipython3",
   "version": "3.10.12"
  }
 },
 "nbformat": 4,
 "nbformat_minor": 5
}
